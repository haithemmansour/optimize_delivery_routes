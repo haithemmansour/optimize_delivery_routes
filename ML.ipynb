{
 "cells": [
  {
   "cell_type": "markdown",
   "metadata": {},
   "source": [
    "# Trip Duration delivery Prediction : "
   ]
  },
  {
   "cell_type": "markdown",
   "metadata": {},
   "source": [
    "## Import libraries : "
   ]
  },
  {
   "cell_type": "code",
   "execution_count": 1,
   "metadata": {},
   "outputs": [],
   "source": [
    "import pandas as pd\n",
    "from sqlalchemy import create_engine\n",
    "#import pymysql\n",
    "import numpy as np \n",
    "import seaborn as sns\n",
    "import matplotlib.pyplot as plt\n",
    "from sklearn.impute import SimpleImputer\n",
    "from sklearn.preprocessing import StandardScaler\n",
    "from sklearn.preprocessing import LabelEncoder, OneHotEncoder\n",
    "\n",
    "import datetime as dt\n",
    "from sklearn.linear_model import LinearRegression\n",
    "from sklearn.ensemble import RandomForestRegressor\n",
    "from xgboost import XGBRegressor\n",
    "from sklearn import metrics\n",
    "from sklearn.model_selection import train_test_split, GridSearchCV\n",
    "from haversine import haversine\n",
    "import statsmodels.formula.api as sm\n",
    "from sklearn.model_selection import learning_curve\n",
    "from sklearn.model_selection import ShuffleSplit\n",
    "import warnings; warnings.simplefilter('ignore')"
   ]
  },
  {
   "cell_type": "markdown",
   "metadata": {},
   "source": [
    "## Import Dataset :"
   ]
  },
  {
   "cell_type": "code",
   "execution_count": 2,
   "metadata": {
    "scrolled": false
   },
   "outputs": [
    {
     "data": {
      "text/html": [
       "<div>\n",
       "<style scoped>\n",
       "    .dataframe tbody tr th:only-of-type {\n",
       "        vertical-align: middle;\n",
       "    }\n",
       "\n",
       "    .dataframe tbody tr th {\n",
       "        vertical-align: top;\n",
       "    }\n",
       "\n",
       "    .dataframe thead th {\n",
       "        text-align: right;\n",
       "    }\n",
       "</style>\n",
       "<table border=\"1\" class=\"dataframe\">\n",
       "  <thead>\n",
       "    <tr style=\"text-align: right;\">\n",
       "      <th></th>\n",
       "      <th>Date</th>\n",
       "      <th>Round_Name</th>\n",
       "      <th>realInfoHasPrepared</th>\n",
       "      <th>Expediteur</th>\n",
       "      <th>ID_de_la_tache</th>\n",
       "      <th>Type_de_Service</th>\n",
       "      <th>sourceSequence</th>\n",
       "      <th>SourceRealSequence</th>\n",
       "      <th>sourceClosureDate</th>\n",
       "      <th>TaskDurationSec</th>\n",
       "      <th>...</th>\n",
       "      <th>timeWindowStop</th>\n",
       "      <th>TourneeId</th>\n",
       "      <th>TaskId</th>\n",
       "      <th>itemId</th>\n",
       "      <th>vehiculeId</th>\n",
       "      <th>driver_id</th>\n",
       "      <th>pickup_longitude</th>\n",
       "      <th>pickup_latitude</th>\n",
       "      <th>dropoff_longitude</th>\n",
       "      <th>dropoff_latitude</th>\n",
       "    </tr>\n",
       "  </thead>\n",
       "  <tbody>\n",
       "    <tr>\n",
       "      <th>0</th>\n",
       "      <td>2021-02-25</td>\n",
       "      <td>R63</td>\n",
       "      <td>2021-02-25 05:35:58.813000+00:00</td>\n",
       "      <td>C149</td>\n",
       "      <td>DEL-000330205</td>\n",
       "      <td>LIVRAISON</td>\n",
       "      <td>1</td>\n",
       "      <td>1</td>\n",
       "      <td>2021-02-25 06:47:25.343000+00:00</td>\n",
       "      <td>4287</td>\n",
       "      <td>...</td>\n",
       "      <td>2021-02-25T09:00:00.000Z</td>\n",
       "      <td>603636c63ab20cdd4eb037da</td>\n",
       "      <td>6035ed49da48e783a5a4272d</td>\n",
       "      <td>6035ed49da48e73462a4272f</td>\n",
       "      <td>603638a14e448f8068e8b90c</td>\n",
       "      <td>600eb655b8410bf293e8530c</td>\n",
       "      <td>2.506612</td>\n",
       "      <td>48.812136</td>\n",
       "      <td>2.406808</td>\n",
       "      <td>48.835986</td>\n",
       "    </tr>\n",
       "    <tr>\n",
       "      <th>1</th>\n",
       "      <td>2021-02-25</td>\n",
       "      <td>R63</td>\n",
       "      <td>2021-02-25 05:35:58.813000+00:00</td>\n",
       "      <td>C149</td>\n",
       "      <td>DEL-000332033</td>\n",
       "      <td>LIVRAISON</td>\n",
       "      <td>2</td>\n",
       "      <td>2</td>\n",
       "      <td>2021-02-25 07:27:32.410000+00:00</td>\n",
       "      <td>2407</td>\n",
       "      <td>...</td>\n",
       "      <td>2021-02-25T09:00:00.000Z</td>\n",
       "      <td>603636c63ab20cdd4eb037da</td>\n",
       "      <td>603623a8a559e3b5d39b0d98</td>\n",
       "      <td>603623a8a559e311759b0d9a</td>\n",
       "      <td>603638a14e448f8068e8b90c</td>\n",
       "      <td>600eb655b8410bf293e8530c</td>\n",
       "      <td>2.406808</td>\n",
       "      <td>48.835986</td>\n",
       "      <td>2.418641</td>\n",
       "      <td>48.837413</td>\n",
       "    </tr>\n",
       "    <tr>\n",
       "      <th>2</th>\n",
       "      <td>2021-02-25</td>\n",
       "      <td>R63</td>\n",
       "      <td>2021-02-25 05:35:58.813000+00:00</td>\n",
       "      <td>C149</td>\n",
       "      <td>DEL-000326209</td>\n",
       "      <td>LIVRAISON</td>\n",
       "      <td>3</td>\n",
       "      <td>3</td>\n",
       "      <td>2021-02-25 07:39:47.322000+00:00</td>\n",
       "      <td>735</td>\n",
       "      <td>...</td>\n",
       "      <td>2021-02-25T09:00:00.000Z</td>\n",
       "      <td>603636c63ab20cdd4eb037da</td>\n",
       "      <td>6035ed4779d70a3f30874242</td>\n",
       "      <td>6035ed4779d70a8891874244</td>\n",
       "      <td>603638a14e448f8068e8b90c</td>\n",
       "      <td>600eb655b8410bf293e8530c</td>\n",
       "      <td>2.418641</td>\n",
       "      <td>48.837413</td>\n",
       "      <td>2.436830</td>\n",
       "      <td>48.851986</td>\n",
       "    </tr>\n",
       "    <tr>\n",
       "      <th>3</th>\n",
       "      <td>2021-02-25</td>\n",
       "      <td>R63</td>\n",
       "      <td>2021-02-25 05:35:58.813000+00:00</td>\n",
       "      <td>C149</td>\n",
       "      <td>DEL-000332455</td>\n",
       "      <td>LIVRAISON</td>\n",
       "      <td>4</td>\n",
       "      <td>4</td>\n",
       "      <td>2021-02-25 07:56:09.386000+00:00</td>\n",
       "      <td>982</td>\n",
       "      <td>...</td>\n",
       "      <td>2021-02-25T09:00:00.000Z</td>\n",
       "      <td>603636c63ab20cdd4eb037da</td>\n",
       "      <td>603623ab3bec54467322afa2</td>\n",
       "      <td>603623ab3bec54040b22afa4</td>\n",
       "      <td>603638a14e448f8068e8b90c</td>\n",
       "      <td>600eb655b8410bf293e8530c</td>\n",
       "      <td>2.436830</td>\n",
       "      <td>48.851986</td>\n",
       "      <td>2.447442</td>\n",
       "      <td>48.849543</td>\n",
       "    </tr>\n",
       "    <tr>\n",
       "      <th>4</th>\n",
       "      <td>2021-02-25</td>\n",
       "      <td>R63</td>\n",
       "      <td>2021-02-25 05:35:58.813000+00:00</td>\n",
       "      <td>C149</td>\n",
       "      <td>DEL-000331055</td>\n",
       "      <td>LIVRAISON</td>\n",
       "      <td>5</td>\n",
       "      <td>5</td>\n",
       "      <td>2021-02-25 08:07:27.695000+00:00</td>\n",
       "      <td>678</td>\n",
       "      <td>...</td>\n",
       "      <td>2021-02-25T09:00:00.000Z</td>\n",
       "      <td>603636c63ab20cdd4eb037da</td>\n",
       "      <td>6035ed4851429d042982f6fd</td>\n",
       "      <td>6035ed4851429d23d682f6ff</td>\n",
       "      <td>603638a14e448f8068e8b90c</td>\n",
       "      <td>600eb655b8410bf293e8530c</td>\n",
       "      <td>2.447442</td>\n",
       "      <td>48.849543</td>\n",
       "      <td>2.448732</td>\n",
       "      <td>48.867005</td>\n",
       "    </tr>\n",
       "  </tbody>\n",
       "</table>\n",
       "<p>5 rows × 36 columns</p>\n",
       "</div>"
      ],
      "text/plain": [
       "        Date Round_Name              realInfoHasPrepared Expediteur  \\\n",
       "0 2021-02-25        R63 2021-02-25 05:35:58.813000+00:00       C149   \n",
       "1 2021-02-25        R63 2021-02-25 05:35:58.813000+00:00       C149   \n",
       "2 2021-02-25        R63 2021-02-25 05:35:58.813000+00:00       C149   \n",
       "3 2021-02-25        R63 2021-02-25 05:35:58.813000+00:00       C149   \n",
       "4 2021-02-25        R63 2021-02-25 05:35:58.813000+00:00       C149   \n",
       "\n",
       "  ID_de_la_tache Type_de_Service  sourceSequence  SourceRealSequence  \\\n",
       "0  DEL-000330205       LIVRAISON               1                   1   \n",
       "1  DEL-000332033       LIVRAISON               2                   2   \n",
       "2  DEL-000326209       LIVRAISON               3                   3   \n",
       "3  DEL-000332455       LIVRAISON               4                   4   \n",
       "4  DEL-000331055       LIVRAISON               5                   5   \n",
       "\n",
       "                 sourceClosureDate  TaskDurationSec  ...  \\\n",
       "0 2021-02-25 06:47:25.343000+00:00             4287  ...   \n",
       "1 2021-02-25 07:27:32.410000+00:00             2407  ...   \n",
       "2 2021-02-25 07:39:47.322000+00:00              735  ...   \n",
       "3 2021-02-25 07:56:09.386000+00:00              982  ...   \n",
       "4 2021-02-25 08:07:27.695000+00:00              678  ...   \n",
       "\n",
       "             timeWindowStop                 TourneeId  \\\n",
       "0  2021-02-25T09:00:00.000Z  603636c63ab20cdd4eb037da   \n",
       "1  2021-02-25T09:00:00.000Z  603636c63ab20cdd4eb037da   \n",
       "2  2021-02-25T09:00:00.000Z  603636c63ab20cdd4eb037da   \n",
       "3  2021-02-25T09:00:00.000Z  603636c63ab20cdd4eb037da   \n",
       "4  2021-02-25T09:00:00.000Z  603636c63ab20cdd4eb037da   \n",
       "\n",
       "                     TaskId                    itemId  \\\n",
       "0  6035ed49da48e783a5a4272d  6035ed49da48e73462a4272f   \n",
       "1  603623a8a559e3b5d39b0d98  603623a8a559e311759b0d9a   \n",
       "2  6035ed4779d70a3f30874242  6035ed4779d70a8891874244   \n",
       "3  603623ab3bec54467322afa2  603623ab3bec54040b22afa4   \n",
       "4  6035ed4851429d042982f6fd  6035ed4851429d23d682f6ff   \n",
       "\n",
       "                 vehiculeId                 driver_id pickup_longitude  \\\n",
       "0  603638a14e448f8068e8b90c  600eb655b8410bf293e8530c         2.506612   \n",
       "1  603638a14e448f8068e8b90c  600eb655b8410bf293e8530c         2.406808   \n",
       "2  603638a14e448f8068e8b90c  600eb655b8410bf293e8530c         2.418641   \n",
       "3  603638a14e448f8068e8b90c  600eb655b8410bf293e8530c         2.436830   \n",
       "4  603638a14e448f8068e8b90c  600eb655b8410bf293e8530c         2.447442   \n",
       "\n",
       "  pickup_latitude dropoff_longitude dropoff_latitude  \n",
       "0       48.812136          2.406808        48.835986  \n",
       "1       48.835986          2.418641        48.837413  \n",
       "2       48.837413          2.436830        48.851986  \n",
       "3       48.851986          2.447442        48.849543  \n",
       "4       48.849543          2.448732        48.867005  \n",
       "\n",
       "[5 rows x 36 columns]"
      ]
     },
     "execution_count": 2,
     "metadata": {},
     "output_type": "execute_result"
    }
   ],
   "source": [
    "task=pd.read_excel(\"../Clean_Dataset.xlsx\")\n",
    "task[\"Date\"]=pd.to_datetime(task[\"Date\"])\n",
    "task[\"realInfoHasPrepared\"]=pd.to_datetime(task[\"realInfoHasPrepared\"], format='%Y-%m-%d %H:%M:%S')\n",
    "task[\"sourceClosureDate\"]=pd.to_datetime(task[\"sourceClosureDate\"], format='%Y-%m-%d %H:%M:%S')\n",
    "\n",
    "#sort by round Name \n",
    "task['sourceSequence'] = task.groupby(['Round_Name','TourneeId']).cumcount().add(1)\n",
    "\n",
    "# split location Geometry to langitude et latitude: \n",
    "\n",
    "task[\"locationGeometry\"]= task[\"locationGeometry\"].map(lambda x: str(x)[1:-1])\n",
    "local=task[\"locationGeometry\"].tolist()\n",
    "x_data=[]\n",
    "y_data=[]\n",
    "\n",
    "for element in local :\n",
    "    if element and \",\" in element:\n",
    "        x,y = element.split(\",\")\n",
    "        x_data.append(float(x))\n",
    "        y_data.append(float(y))\n",
    "    else :\n",
    "        task.drop(task[task['locationGeometry'] == element].index, inplace=True)\n",
    "#data.drop(['locationGeometry'], axis=1 , inplace=True )\n",
    "#data.drop(['Code_postal'], axis=1 , inplace=True )\n",
    "task[\"pickup_longitude\"]=x_data\n",
    "task[\"pickup_latitude\"]=y_data\n",
    "task[\"dropoff_longitude\"]= task.pickup_longitude.shift(-1)\n",
    "task[\"dropoff_latitude\"]= task.pickup_latitude.shift(-1)\n",
    "     \n",
    "#data[\"sourceClosureDate(i-1)\"]=data.sourceClosureDate.shift(1)\n",
    "task.head()"
   ]
  },
  {
   "cell_type": "markdown",
   "metadata": {},
   "source": [
    "## Data Exploration : "
   ]
  },
  {
   "cell_type": "markdown",
   "metadata": {},
   "source": [
    "### add new columns to the dataframe :  "
   ]
  },
  {
   "cell_type": "code",
   "execution_count": 3,
   "metadata": {
    "scrolled": true
   },
   "outputs": [],
   "source": [
    "data=task.dropna(subset=['sourceClosureDate' ],how='any')\n",
    "data.drop(['sourceStreet', 'sourceCity', 'sourceCountry','sourceAddress','TaskId',\n",
    "                'itemId','vehiculeId','driver_id','sourceZip','locationType','Code_postal','ID_de_la_tache','Item___Quantite','Date',\n",
    "           'SourceRealSequence','timeWindowStop','timeWindowStart'], axis=1 , inplace=True )\n",
    "data.dropna(inplace=True)"
   ]
  },
  {
   "cell_type": "code",
   "execution_count": 4,
   "metadata": {},
   "outputs": [],
   "source": [
    "data=data.sort_values(['Round_Name','TourneeId'], ascending=True)\n",
    "data=data.reset_index(drop=True)"
   ]
  },
  {
   "cell_type": "code",
   "execution_count": 222,
   "metadata": {},
   "outputs": [],
   "source": [
    "data[\"realInfoHasPrepared\"]=pd.to_datetime(data[\"realInfoHasPrepared\"], format='%Y-%m-%d %H:%M:%S')\n",
    "data[\"sourceClosureDate\"]=pd.to_datetime(data[\"sourceClosureDate\"], format='%Y-%m-%d %H:%M:%S')\n",
    "#sort by round Name \n",
    "data['sourceSequence'] = data.groupby(['Round_Name','TourneeId']).cumcount().add(1)\n",
    "data[\"depart_time\"]= data.sourceClosureDate.shift(1)\n",
    "sourceSequence = data['sourceSequence'].tolist()\n",
    "depart_time=data[\"depart_time\"].tolist()\n",
    "realInfoHasPrepared=data[\"realInfoHasPrepared\"].tolist()\n",
    "for i in range (len(sourceSequence)):\n",
    "    if sourceSequence[i] == 1 :\n",
    "        depart_time[i] = realInfoHasPrepared[i]\n",
    "data[\"depart_time\"] = depart_time"
   ]
  },
  {
   "cell_type": "code",
   "execution_count": 5,
   "metadata": {},
   "outputs": [],
   "source": [
    "data['month'] = data.realInfoHasPrepared.dt.month\n",
    "data['weekday_num'] = data.realInfoHasPrepared.dt.weekday\n",
    "data['pickup_hour'] = data.realInfoHasPrepared.dt.hour\n",
    "data['weekday'] = data.realInfoHasPrepared.dt.day_name()"
   ]
  },
  {
   "cell_type": "code",
   "execution_count": 6,
   "metadata": {},
   "outputs": [],
   "source": [
    "def calc_distance(df):\n",
    "    pickup = (df['pickup_latitude'], df['pickup_longitude'])\n",
    "    drop = (df['dropoff_latitude'], df['dropoff_longitude'])\n",
    "    return haversine(pickup, drop)"
   ]
  },
  {
   "cell_type": "code",
   "execution_count": 7,
   "metadata": {
    "scrolled": true
   },
   "outputs": [],
   "source": [
    "data['sourceSequence'] = data.groupby(['Round_Name']).cumcount().add(1)\n",
    "#Calculate distance and assign new column to the dataframe.\n",
    "data['distance'] = data.apply(lambda x: calc_distance(x), axis = 1)\n",
    "data['new'] = pd.Series([0 for x in range(len(data.index))])\n",
    "\n",
    "data.loc[(data.sourceSequence == 1),'new']= 1\n",
    "data[\"new\"]= data.new.shift(-1)\n",
    "data.dropna(inplace=True)\n",
    "data['new'] = data['new'].astype(int)\n",
    "data.loc[(data.new == 1),'distance']= 0\n",
    "#Calculate Speed in km/h for further insights\n",
    "data['speed'] = (data.distance/(data.TaskDurationSec/3600))\n",
    "data = data[data.distance != 0]\n",
    "data=data.reset_index(drop=True)"
   ]
  },
  {
   "cell_type": "code",
   "execution_count": 226,
   "metadata": {},
   "outputs": [],
   "source": [
    "data[\"latitude_difference\"] = data[\"dropoff_latitude\"] - data[\"pickup_latitude\"]\n",
    "data[\"longitude_difference\"] = data[\"dropoff_longitude\"] - data[\"pickup_longitude\"]"
   ]
  },
  {
   "cell_type": "code",
   "execution_count": 8,
   "metadata": {},
   "outputs": [],
   "source": [
    "data.drop_duplicates(subset =\"locationGeometry\",keep = False, inplace = True)"
   ]
  },
  {
   "cell_type": "code",
   "execution_count": 9,
   "metadata": {},
   "outputs": [],
   "source": [
    "data = data.loc[data[\"month\"] >= 3]"
   ]
  },
  {
   "cell_type": "code",
   "execution_count": 10,
   "metadata": {},
   "outputs": [],
   "source": [
    "data.drop(['realInfoHasPrepared', 'sourceSequence', 'locationGeometry','sourceHubName',\n",
    "           'new', 'pickup_latitude', 'pickup_longitude', 'dropoff_latitude','dropoff_longitude', 'sourceClosureDate'], axis=1 , inplace=True )"
   ]
  },
  {
   "cell_type": "code",
   "execution_count": 154,
   "metadata": {
    "scrolled": true
   },
   "outputs": [],
   "source": [
    "#data.dtypes.reset_index()"
   ]
  },
  {
   "cell_type": "code",
   "execution_count": 155,
   "metadata": {},
   "outputs": [],
   "source": [
    "#data.TaskDurationSec.groupby(pd.cut(data.TaskDurationSec, np.arange(1,max(data.TaskDurationSec),3600))).count()"
   ]
  },
  {
   "cell_type": "code",
   "execution_count": 11,
   "metadata": {
    "scrolled": false
   },
   "outputs": [],
   "source": [
    "data = data[data.TaskDurationSec <= 86400]\n",
    "data = data[data.TaskDurationSec >= 400]\n",
    "data[\"sourceSequence\"] = data.groupby(['Round_Name']).cumcount().add(1)\n",
    "data=data.reset_index(drop=True)\n",
    "#data.info()"
   ]
  },
  {
   "cell_type": "code",
   "execution_count": 12,
   "metadata": {
    "scrolled": true
   },
   "outputs": [
    {
     "name": "stdout",
     "output_type": "stream",
     "text": [
      "<class 'pandas.core.frame.DataFrame'>\n",
      "RangeIndex: 935 entries, 0 to 934\n",
      "Data columns (total 17 columns):\n",
      " #   Column                         Non-Null Count  Dtype  \n",
      "---  ------                         --------------  -----  \n",
      " 0   Round_Name                     935 non-null    object \n",
      " 1   Expediteur                     935 non-null    object \n",
      " 2   Type_de_Service                935 non-null    object \n",
      " 3   TaskDurationSec                935 non-null    int64  \n",
      " 4   Item___Nom_sous_categorie      935 non-null    object \n",
      " 5   Item___Type_unite_manutention  935 non-null    object \n",
      " 6   sourceZone                     935 non-null    object \n",
      " 7   status                         935 non-null    object \n",
      " 8   metadataFACTURATION            935 non-null    object \n",
      " 9   TourneeId                      935 non-null    object \n",
      " 10  month                          935 non-null    int64  \n",
      " 11  weekday_num                    935 non-null    int64  \n",
      " 12  pickup_hour                    935 non-null    int64  \n",
      " 13  weekday                        935 non-null    object \n",
      " 14  distance                       935 non-null    float64\n",
      " 15  speed                          935 non-null    float64\n",
      " 16  sourceSequence                 935 non-null    int64  \n",
      "dtypes: float64(2), int64(5), object(10)\n",
      "memory usage: 124.3+ KB\n"
     ]
    }
   ],
   "source": [
    "data=data.sort_values(\"Round_Name\", ascending=True)\n",
    "data=data.reset_index(drop=True)\n",
    "data.info()"
   ]
  },
  {
   "cell_type": "code",
   "execution_count": null,
   "metadata": {},
   "outputs": [],
   "source": [
    "data"
   ]
  },
  {
   "cell_type": "markdown",
   "metadata": {},
   "source": [
    "# Data Analysis : "
   ]
  },
  {
   "cell_type": "code",
   "execution_count": 159,
   "metadata": {},
   "outputs": [
    {
     "data": {
      "image/png": "[encoded data removed]",
      "text/plain": [
       "<Figure size 432x288 with 1 Axes>"
      ]
     },
     "metadata": {
      "needs_background": "light"
     },
     "output_type": "display_data"
    }
   ],
   "source": [
    "data.TaskDurationSec.groupby(pd.cut(data.TaskDurationSec, np.arange(1,10000,600))).count().plot(kind='barh')\n",
    "plt.xlabel('Trip Counts')\n",
    "plt.ylabel('Trip Duration (seconds)')\n",
    "plt.show()"
   ]
  },
  {
   "cell_type": "code",
   "execution_count": 160,
   "metadata": {},
   "outputs": [
    {
     "data": {
      "image/png": "[encoded data removed]",
      "text/plain": [
       "<Figure size 432x288 with 1 Axes>"
      ]
     },
     "metadata": {
      "needs_background": "light"
     },
     "output_type": "display_data"
    }
   ],
   "source": [
    "sns.countplot(data.Type_de_Service)\n",
    "plt.show()"
   ]
  },
  {
   "cell_type": "code",
   "execution_count": 161,
   "metadata": {},
   "outputs": [
    {
     "data": {
      "image/png": "[encoded data removed]",
      "text/plain": [
       "<Figure size 432x288 with 1 Axes>"
      ]
     },
     "metadata": {
      "needs_background": "light"
     },
     "output_type": "display_data"
    }
   ],
   "source": [
    "sns.countplot(data.status)\n",
    "plt.show()"
   ]
  },
  {
   "cell_type": "code",
   "execution_count": 162,
   "metadata": {},
   "outputs": [
    {
     "data": {
      "image/png": "[encoded data removed]",
      "text/plain": [
       "<Figure size 432x288 with 1 Axes>"
      ]
     },
     "metadata": {
      "needs_background": "light"
     },
     "output_type": "display_data"
    }
   ],
   "source": [
    "sns.countplot(data.Item___Type_unite_manutention)\n",
    "plt.show()"
   ]
  },
  {
   "cell_type": "code",
   "execution_count": 163,
   "metadata": {},
   "outputs": [
    {
     "data": {
      "image/png": "[encoded data removed]",
      "text/plain": [
       "<Figure size 432x288 with 1 Axes>"
      ]
     },
     "metadata": {
      "needs_background": "light"
     },
     "output_type": "display_data"
    }
   ],
   "source": [
    "sns.countplot(data.Item___Nom_sous_categorie)\n",
    "plt.show()"
   ]
  },
  {
   "cell_type": "code",
   "execution_count": 164,
   "metadata": {},
   "outputs": [
    {
     "data": {
      "image/png": "[encoded data removed]",
      "text/plain": [
       "<Figure size 432x288 with 1 Axes>"
      ]
     },
     "metadata": {
      "needs_background": "light"
     },
     "output_type": "display_data"
    }
   ],
   "source": [
    "sns.countplot(data.metadataFACTURATION)\n",
    "plt.show()"
   ]
  },
  {
   "cell_type": "code",
   "execution_count": 64,
   "metadata": {
    "scrolled": true
   },
   "outputs": [
    {
     "data": {
      "image/png": "[encoded data removed]",
      "text/plain": [
       "<Figure size 432x288 with 1 Axes>"
      ]
     },
     "metadata": {
      "needs_background": "light"
     },
     "output_type": "display_data"
    }
   ],
   "source": [
    "sns.countplot(data.pickup_hour)\n",
    "plt.show()"
   ]
  },
  {
   "cell_type": "code",
   "execution_count": 65,
   "metadata": {
    "scrolled": false
   },
   "outputs": [
    {
     "data": {
      "image/png": "[encoded data removed]",
      "text/plain": [
       "<Figure size 432x288 with 1 Axes>"
      ]
     },
     "metadata": {
      "needs_background": "light"
     },
     "output_type": "display_data"
    }
   ],
   "source": [
    "sns.countplot(data.Round_Name)\n",
    "plt.show()"
   ]
  },
  {
   "cell_type": "code",
   "execution_count": 66,
   "metadata": {},
   "outputs": [
    {
     "data": {
      "image/png": "[encoded data removed]",
      "text/plain": [
       "<Figure size 432x288 with 1 Axes>"
      ]
     },
     "metadata": {
      "needs_background": "light"
     },
     "output_type": "display_data"
    }
   ],
   "source": [
    "group1 = data.groupby('pickup_hour').TaskDurationSec.mean()\n",
    "sns.pointplot(group1.index, group1.values)\n",
    "plt.ylabel('Trip Duration (seconds)')\n",
    "plt.xlabel('Pickup Hour')\n",
    "plt.show()"
   ]
  },
  {
   "cell_type": "code",
   "execution_count": 67,
   "metadata": {},
   "outputs": [
    {
     "data": {
      "image/png": "[encoded data removed]",
      "text/plain": [
       "<Figure size 432x288 with 1 Axes>"
      ]
     },
     "metadata": {
      "needs_background": "light"
     },
     "output_type": "display_data"
    }
   ],
   "source": [
    "group2 = data.groupby('weekday_num').TaskDurationSec.mean()\n",
    "sns.pointplot(group2.index, group2.values)\n",
    "plt.ylabel('Trip Duration (seconds)')\n",
    "plt.xlabel('Weekday')\n",
    "plt.show()"
   ]
  },
  {
   "cell_type": "code",
   "execution_count": 68,
   "metadata": {},
   "outputs": [
    {
     "data": {
      "image/png": "[encoded data removed]",
      "text/plain": [
       "<Figure size 432x288 with 1 Axes>"
      ]
     },
     "metadata": {
      "needs_background": "light"
     },
     "output_type": "display_data"
    }
   ],
   "source": [
    "group3 = data.groupby('weekday_num').distance.mean()\n",
    "sns.pointplot(group3.index, group3.values)\n",
    "plt.ylabel('Distance (Km)')\n",
    "plt.xlabel('Weekday')\n",
    "plt.show()"
   ]
  },
  {
   "cell_type": "code",
   "execution_count": 69,
   "metadata": {
    "scrolled": true
   },
   "outputs": [
    {
     "data": {
      "image/png": "[encoded data removed]",
      "text/plain": [
       "<Figure size 432x288 with 1 Axes>"
      ]
     },
     "metadata": {
      "needs_background": "light"
     },
     "output_type": "display_data"
    }
   ],
   "source": [
    "group4 = data.groupby('month').TaskDurationSec.mean()\n",
    "sns.pointplot(group4.index, group4.values)\n",
    "plt.ylabel('Trip Duration (seconds)')\n",
    "plt.xlabel('Month')\n",
    "plt.show()"
   ]
  },
  {
   "cell_type": "code",
   "execution_count": 70,
   "metadata": {
    "scrolled": true
   },
   "outputs": [
    {
     "data": {
      "image/png": "[encoded data removed]",
      "text/plain": [
       "<Figure size 432x288 with 1 Axes>"
      ]
     },
     "metadata": {
      "needs_background": "light"
     },
     "output_type": "display_data"
    }
   ],
   "source": [
    "group5 = data.groupby('Expediteur').TaskDurationSec.mean()\n",
    "sns.barplot(group5.index, group5.values)\n",
    "plt.ylabel('Trip Duration (seconds)')\n",
    "plt.xlabel('Vendor')\n",
    "plt.show()"
   ]
  },
  {
   "cell_type": "code",
   "execution_count": 71,
   "metadata": {},
   "outputs": [
    {
     "data": {
      "image/png": "[encoded data removed]",
      "text/plain": [
       "<Figure size 432x288 with 1 Axes>"
      ]
     },
     "metadata": {
      "needs_background": "light"
     },
     "output_type": "display_data"
    }
   ],
   "source": [
    "group5 = data.groupby('weekday_num').TaskDurationSec.mean()\n",
    "sns.pointplot(group5.index, group5.values)\n",
    "plt.ylabel('Trip Duration (seconds)')\n",
    "plt.xlabel('weekday')\n",
    "plt.show()"
   ]
  },
  {
   "cell_type": "code",
   "execution_count": 72,
   "metadata": {},
   "outputs": [
    {
     "data": {
      "image/png": "[encoded data removed]",
      "text/plain": [
       "<Figure size 432x288 with 1 Axes>"
      ]
     },
     "metadata": {
      "needs_background": "light"
     },
     "output_type": "display_data"
    }
   ],
   "source": [
    "group5 = data.groupby('weekday_num').distance.mean()\n",
    "sns.pointplot(group5.index, group5.values)\n",
    "plt.ylabel('Distance (Km)')\n",
    "plt.xlabel('weekday')\n",
    "plt.show()"
   ]
  },
  {
   "cell_type": "code",
   "execution_count": 73,
   "metadata": {},
   "outputs": [
    {
     "data": {
      "image/png": "[encoded data removed]",
      "text/plain": [
       "<Figure size 1296x216 with 6 Axes>"
      ]
     },
     "metadata": {
      "needs_background": "light"
     },
     "output_type": "display_data"
    }
   ],
   "source": [
    "n = sns.FacetGrid(data, col='weekday_num')\n",
    "n.map(plt.hist, 'TaskDurationSec')\n",
    "plt.show()"
   ]
  },
  {
   "cell_type": "code",
   "execution_count": 74,
   "metadata": {
    "scrolled": true
   },
   "outputs": [
    {
     "data": {
      "image/png": "[encoded data removed]",
      "text/plain": [
       "<Figure size 1296x216 with 6 Axes>"
      ]
     },
     "metadata": {
      "needs_background": "light"
     },
     "output_type": "display_data"
    }
   ],
   "source": [
    "n2 = sns.FacetGrid(data, col='weekday')\n",
    "n2.map(plt.hist, 'TaskDurationSec')\n",
    "plt.show()"
   ]
  },
  {
   "cell_type": "code",
   "execution_count": 75,
   "metadata": {},
   "outputs": [
    {
     "data": {
      "image/png": "[encoded data removed]",
      "text/plain": [
       "<Figure size 432x288 with 1 Axes>"
      ]
     },
     "metadata": {
      "needs_background": "light"
     },
     "output_type": "display_data"
    }
   ],
   "source": [
    "sns.countplot(data.month)\n",
    "plt.ylabel('Trip Counts')\n",
    "plt.xlabel('Months')\n",
    "plt.show()"
   ]
  },
  {
   "cell_type": "markdown",
   "metadata": {},
   "source": [
    "# Feature Selection :"
   ]
  },
  {
   "cell_type": "code",
   "execution_count": 165,
   "metadata": {
    "scrolled": true
   },
   "outputs": [
    {
     "data": {
      "text/plain": [
       "[(0, 'Round_Name'),\n",
       " (1, 'Expediteur'),\n",
       " (2, 'Type_de_Service'),\n",
       " (3, 'TaskDurationSec'),\n",
       " (4, 'Item___Nom_sous_categorie'),\n",
       " (5, 'Item___Type_unite_manutention'),\n",
       " (6, 'sourceZone'),\n",
       " (7, 'status'),\n",
       " (8, 'metadataFACTURATION'),\n",
       " (9, 'TourneeId'),\n",
       " (10, 'depart_time'),\n",
       " (11, 'month'),\n",
       " (12, 'weekday_num'),\n",
       " (13, 'pickup_hour'),\n",
       " (14, 'weekday'),\n",
       " (15, 'distance'),\n",
       " (16, 'speed'),\n",
       " (17, 'sourceSequence')]"
      ]
     },
     "execution_count": 165,
     "metadata": {},
     "output_type": "execute_result"
    }
   ],
   "source": [
    "#First chech the index of the features and label\n",
    "list(zip( range(0,len(data.columns)),data.columns))"
   ]
  },
  {
   "cell_type": "code",
   "execution_count": 166,
   "metadata": {},
   "outputs": [],
   "source": [
    "#data.columns"
   ]
  },
  {
   "cell_type": "code",
   "execution_count": 13,
   "metadata": {
    "scrolled": false
   },
   "outputs": [],
   "source": [
    "X = data[[ 'Expediteur','pickup_hour','weekday_num','Item___Nom_sous_categorie', 'Item___Type_unite_manutention',\n",
    "          'sourceZone','distance','speed']]\n",
    "y = data[[\"TaskDurationSec\"]]\n",
    "#X = X.iloc[:,:].values\n",
    "#X.head()\n"
   ]
  },
  {
   "cell_type": "code",
   "execution_count": 14,
   "metadata": {
    "scrolled": true
   },
   "outputs": [
    {
     "data": {
      "text/html": [
       "<div>\n",
       "<style scoped>\n",
       "    .dataframe tbody tr th:only-of-type {\n",
       "        vertical-align: middle;\n",
       "    }\n",
       "\n",
       "    .dataframe tbody tr th {\n",
       "        vertical-align: top;\n",
       "    }\n",
       "\n",
       "    .dataframe thead th {\n",
       "        text-align: right;\n",
       "    }\n",
       "</style>\n",
       "<table border=\"1\" class=\"dataframe\">\n",
       "  <thead>\n",
       "    <tr style=\"text-align: right;\">\n",
       "      <th></th>\n",
       "      <th>Expediteur</th>\n",
       "      <th>pickup_hour</th>\n",
       "      <th>weekday_num</th>\n",
       "      <th>Item___Nom_sous_categorie</th>\n",
       "      <th>Item___Type_unite_manutention</th>\n",
       "      <th>sourceZone</th>\n",
       "      <th>distance</th>\n",
       "      <th>speed</th>\n",
       "    </tr>\n",
       "  </thead>\n",
       "  <tbody>\n",
       "    <tr>\n",
       "      <th>0</th>\n",
       "      <td>10</td>\n",
       "      <td>9</td>\n",
       "      <td>2</td>\n",
       "      <td>2</td>\n",
       "      <td>5</td>\n",
       "      <td>20</td>\n",
       "      <td>16.391973</td>\n",
       "      <td>28.562973</td>\n",
       "    </tr>\n",
       "    <tr>\n",
       "      <th>1</th>\n",
       "      <td>10</td>\n",
       "      <td>9</td>\n",
       "      <td>2</td>\n",
       "      <td>2</td>\n",
       "      <td>5</td>\n",
       "      <td>20</td>\n",
       "      <td>11.313842</td>\n",
       "      <td>26.937718</td>\n",
       "    </tr>\n",
       "    <tr>\n",
       "      <th>2</th>\n",
       "      <td>10</td>\n",
       "      <td>10</td>\n",
       "      <td>2</td>\n",
       "      <td>2</td>\n",
       "      <td>5</td>\n",
       "      <td>6</td>\n",
       "      <td>3.744604</td>\n",
       "      <td>4.765138</td>\n",
       "    </tr>\n",
       "    <tr>\n",
       "      <th>3</th>\n",
       "      <td>7</td>\n",
       "      <td>10</td>\n",
       "      <td>2</td>\n",
       "      <td>1</td>\n",
       "      <td>1</td>\n",
       "      <td>0</td>\n",
       "      <td>9.121295</td>\n",
       "      <td>18.111783</td>\n",
       "    </tr>\n",
       "    <tr>\n",
       "      <th>4</th>\n",
       "      <td>7</td>\n",
       "      <td>10</td>\n",
       "      <td>2</td>\n",
       "      <td>1</td>\n",
       "      <td>1</td>\n",
       "      <td>11</td>\n",
       "      <td>1.048186</td>\n",
       "      <td>3.621372</td>\n",
       "    </tr>\n",
       "    <tr>\n",
       "      <th>...</th>\n",
       "      <td>...</td>\n",
       "      <td>...</td>\n",
       "      <td>...</td>\n",
       "      <td>...</td>\n",
       "      <td>...</td>\n",
       "      <td>...</td>\n",
       "      <td>...</td>\n",
       "      <td>...</td>\n",
       "    </tr>\n",
       "    <tr>\n",
       "      <th>930</th>\n",
       "      <td>7</td>\n",
       "      <td>3</td>\n",
       "      <td>0</td>\n",
       "      <td>1</td>\n",
       "      <td>1</td>\n",
       "      <td>18</td>\n",
       "      <td>6.925606</td>\n",
       "      <td>2.221526</td>\n",
       "    </tr>\n",
       "    <tr>\n",
       "      <th>931</th>\n",
       "      <td>10</td>\n",
       "      <td>3</td>\n",
       "      <td>0</td>\n",
       "      <td>2</td>\n",
       "      <td>5</td>\n",
       "      <td>14</td>\n",
       "      <td>4.352031</td>\n",
       "      <td>9.199831</td>\n",
       "    </tr>\n",
       "    <tr>\n",
       "      <th>932</th>\n",
       "      <td>7</td>\n",
       "      <td>5</td>\n",
       "      <td>2</td>\n",
       "      <td>1</td>\n",
       "      <td>1</td>\n",
       "      <td>19</td>\n",
       "      <td>17.002044</td>\n",
       "      <td>41.496514</td>\n",
       "    </tr>\n",
       "    <tr>\n",
       "      <th>933</th>\n",
       "      <td>10</td>\n",
       "      <td>4</td>\n",
       "      <td>2</td>\n",
       "      <td>2</td>\n",
       "      <td>5</td>\n",
       "      <td>6</td>\n",
       "      <td>2.394255</td>\n",
       "      <td>12.941919</td>\n",
       "    </tr>\n",
       "    <tr>\n",
       "      <th>934</th>\n",
       "      <td>2</td>\n",
       "      <td>4</td>\n",
       "      <td>2</td>\n",
       "      <td>0</td>\n",
       "      <td>0</td>\n",
       "      <td>6</td>\n",
       "      <td>1.403256</td>\n",
       "      <td>8.161102</td>\n",
       "    </tr>\n",
       "  </tbody>\n",
       "</table>\n",
       "<p>935 rows × 8 columns</p>\n",
       "</div>"
      ],
      "text/plain": [
       "     Expediteur  pickup_hour  weekday_num  Item___Nom_sous_categorie  \\\n",
       "0            10            9            2                          2   \n",
       "1            10            9            2                          2   \n",
       "2            10           10            2                          2   \n",
       "3             7           10            2                          1   \n",
       "4             7           10            2                          1   \n",
       "..          ...          ...          ...                        ...   \n",
       "930           7            3            0                          1   \n",
       "931          10            3            0                          2   \n",
       "932           7            5            2                          1   \n",
       "933          10            4            2                          2   \n",
       "934           2            4            2                          0   \n",
       "\n",
       "     Item___Type_unite_manutention  sourceZone   distance      speed  \n",
       "0                                5          20  16.391973  28.562973  \n",
       "1                                5          20  11.313842  26.937718  \n",
       "2                                5           6   3.744604   4.765138  \n",
       "3                                1           0   9.121295  18.111783  \n",
       "4                                1          11   1.048186   3.621372  \n",
       "..                             ...         ...        ...        ...  \n",
       "930                              1          18   6.925606   2.221526  \n",
       "931                              5          14   4.352031   9.199831  \n",
       "932                              1          19  17.002044  41.496514  \n",
       "933                              5           6   2.394255  12.941919  \n",
       "934                              0           6   1.403256   8.161102  \n",
       "\n",
       "[935 rows x 8 columns]"
      ]
     },
     "execution_count": 14,
     "metadata": {},
     "output_type": "execute_result"
    }
   ],
   "source": [
    "from sklearn.preprocessing import LabelEncoder, OneHotEncoder\n",
    "labelencoder_X = LabelEncoder()\n",
    "for i in range (6):\n",
    "    X.iloc[:, i:i+1] = labelencoder_X.fit_transform(X.iloc[:, i:i+1])\n",
    "X=X.reset_index(drop=True)\n",
    "X"
   ]
  },
  {
   "cell_type": "code",
   "execution_count": 80,
   "metadata": {},
   "outputs": [
    {
     "data": {
      "text/html": [
       "<div>\n",
       "<style scoped>\n",
       "    .dataframe tbody tr th:only-of-type {\n",
       "        vertical-align: middle;\n",
       "    }\n",
       "\n",
       "    .dataframe tbody tr th {\n",
       "        vertical-align: top;\n",
       "    }\n",
       "\n",
       "    .dataframe thead th {\n",
       "        text-align: right;\n",
       "    }\n",
       "</style>\n",
       "<table border=\"1\" class=\"dataframe\">\n",
       "  <thead>\n",
       "    <tr style=\"text-align: right;\">\n",
       "      <th></th>\n",
       "      <th>distance</th>\n",
       "      <th>speed</th>\n",
       "      <th>Expediteur_0</th>\n",
       "      <th>Expediteur_1</th>\n",
       "      <th>Expediteur_2</th>\n",
       "      <th>Expediteur_3</th>\n",
       "      <th>Expediteur_4</th>\n",
       "      <th>Expediteur_5</th>\n",
       "      <th>Expediteur_6</th>\n",
       "      <th>Expediteur_7</th>\n",
       "      <th>...</th>\n",
       "      <th>Item___Nom_sous_categorie_0</th>\n",
       "      <th>Item___Nom_sous_categorie_1</th>\n",
       "      <th>Item___Nom_sous_categorie_2</th>\n",
       "      <th>Item___Nom_sous_categorie_3</th>\n",
       "      <th>Item___Type_unite_manutention_0</th>\n",
       "      <th>Item___Type_unite_manutention_1</th>\n",
       "      <th>Item___Type_unite_manutention_2</th>\n",
       "      <th>Item___Type_unite_manutention_3</th>\n",
       "      <th>Item___Type_unite_manutention_4</th>\n",
       "      <th>Item___Type_unite_manutention_5</th>\n",
       "    </tr>\n",
       "  </thead>\n",
       "  <tbody>\n",
       "    <tr>\n",
       "      <th>0</th>\n",
       "      <td>3.384038</td>\n",
       "      <td>6.033946</td>\n",
       "      <td>0</td>\n",
       "      <td>0</td>\n",
       "      <td>0</td>\n",
       "      <td>0</td>\n",
       "      <td>0</td>\n",
       "      <td>0</td>\n",
       "      <td>0</td>\n",
       "      <td>1</td>\n",
       "      <td>...</td>\n",
       "      <td>0</td>\n",
       "      <td>1</td>\n",
       "      <td>0</td>\n",
       "      <td>0</td>\n",
       "      <td>0</td>\n",
       "      <td>1</td>\n",
       "      <td>0</td>\n",
       "      <td>0</td>\n",
       "      <td>0</td>\n",
       "      <td>0</td>\n",
       "    </tr>\n",
       "  </tbody>\n",
       "</table>\n",
       "<p>1 rows × 81 columns</p>\n",
       "</div>"
      ],
      "text/plain": [
       "   distance     speed  Expediteur_0  Expediteur_1  Expediteur_2  Expediteur_3  \\\n",
       "0  3.384038  6.033946             0             0             0             0   \n",
       "\n",
       "   Expediteur_4  Expediteur_5  Expediteur_6  Expediteur_7  ...  \\\n",
       "0             0             0             0             1  ...   \n",
       "\n",
       "   Item___Nom_sous_categorie_0  Item___Nom_sous_categorie_1  \\\n",
       "0                            0                            1   \n",
       "\n",
       "   Item___Nom_sous_categorie_2  Item___Nom_sous_categorie_3  \\\n",
       "0                            0                            0   \n",
       "\n",
       "   Item___Type_unite_manutention_0  Item___Type_unite_manutention_1  \\\n",
       "0                                0                                1   \n",
       "\n",
       "   Item___Type_unite_manutention_2  Item___Type_unite_manutention_3  \\\n",
       "0                                0                                0   \n",
       "\n",
       "   Item___Type_unite_manutention_4  Item___Type_unite_manutention_5  \n",
       "0                                0                                0  \n",
       "\n",
       "[1 rows x 81 columns]"
      ]
     },
     "execution_count": 80,
     "metadata": {},
     "output_type": "execute_result"
    }
   ],
   "source": [
    "X=pd.get_dummies(X, columns=[ 'Expediteur','pickup_hour',\n",
    "          'sourceZone','weekday_num','Item___Nom_sous_categorie', 'Item___Type_unite_manutention'])\n",
    "X.head(1)"
   ]
  },
  {
   "cell_type": "code",
   "execution_count": 15,
   "metadata": {},
   "outputs": [],
   "source": [
    "X = X.iloc[:,:].values\n",
    "y = y.iloc[:,:].values"
   ]
  },
  {
   "cell_type": "code",
   "execution_count": 16,
   "metadata": {},
   "outputs": [
    {
     "name": "stdout",
     "output_type": "stream",
     "text": [
      "Let's append 935 rows of 1's as the first column in the X array\n"
     ]
    }
   ],
   "source": [
    "print(\"Let's append {} rows of 1's as the first column in the X array\".format(X.shape[0]))"
   ]
  },
  {
   "cell_type": "code",
   "execution_count": 17,
   "metadata": {},
   "outputs": [],
   "source": [
    "X1 = np.append(arr = np.ones((X.shape[0],1)).astype(int), values = X, axis = 1)"
   ]
  },
  {
   "cell_type": "code",
   "execution_count": 18,
   "metadata": {},
   "outputs": [
    {
     "data": {
      "text/plain": [
       "(935, 9)"
      ]
     },
     "execution_count": 18,
     "metadata": {},
     "output_type": "execute_result"
    }
   ],
   "source": [
    "X1.shape"
   ]
  },
  {
   "cell_type": "code",
   "execution_count": 19,
   "metadata": {},
   "outputs": [
    {
     "data": {
      "text/plain": [
       "(935, 1)"
      ]
     },
     "execution_count": 19,
     "metadata": {},
     "output_type": "execute_result"
    }
   ],
   "source": [
    "y.shape"
   ]
  },
  {
   "cell_type": "code",
   "execution_count": 20,
   "metadata": {},
   "outputs": [
    {
     "name": "stdout",
     "output_type": "stream",
     "text": [
      "Probability values of each feature \n",
      "\n",
      "[4.97635977e-10 8.89568891e-01 8.11223631e-01 8.79586438e-01\n",
      " 3.37762815e-01 2.79756679e-01 2.74921905e-01 2.49005643e-52\n",
      " 1.80134222e-59]\n",
      "\n",
      "\n",
      "Feature at index 1 is removed \n",
      "\n",
      "7 dimensions remaining now... \n",
      "\n",
      "=================================================================\n",
      "\n",
      "Probability values of each feature \n",
      "\n",
      "[9.02857006e-15 8.05397175e-01 8.83089407e-01 3.37509067e-01\n",
      " 2.28500511e-01 2.71445230e-01 5.18904517e-53 8.37558732e-60]\n",
      "\n",
      "\n",
      "Feature at index 2 is removed \n",
      "\n",
      "6 dimensions remaining now... \n",
      "\n",
      "=================================================================\n",
      "\n",
      "Probability values of each feature \n",
      "\n",
      "[5.42455103e-17 8.29781943e-01 3.37928078e-01 2.24862567e-01\n",
      " 2.68535399e-01 4.51971148e-53 6.41681239e-60]\n",
      "\n",
      "\n",
      "Feature at index 1 is removed \n",
      "\n",
      "5 dimensions remaining now... \n",
      "\n",
      "=================================================================\n",
      "\n",
      "Probability values of each feature \n",
      "\n",
      "[3.79205658e-20 3.39926947e-01 2.08470568e-01 2.51567065e-01\n",
      " 2.63340232e-53 5.05786029e-60]\n",
      "\n",
      "\n",
      "Feature at index 1 is removed \n",
      "\n",
      "4 dimensions remaining now... \n",
      "\n",
      "=================================================================\n",
      "\n",
      "Probability values of each feature \n",
      "\n",
      "[1.73505554e-46 3.59978597e-01 2.25328568e-01 1.11594858e-53\n",
      " 2.20924797e-60]\n",
      "\n",
      "\n",
      "Feature at index 1 is removed \n",
      "\n",
      "3 dimensions remaining now... \n",
      "\n",
      "=================================================================\n",
      "\n",
      "Probability values of each feature \n",
      "\n",
      "[7.56008901e-59 1.91966129e-01 1.49084728e-53 1.20546841e-60]\n",
      "\n",
      "\n",
      "Feature at index 1 is removed \n",
      "\n",
      "2 dimensions remaining now... \n",
      "\n",
      "=================================================================\n",
      "\n",
      "Final stat summary with optimal 2 features\n"
     ]
    },
    {
     "data": {
      "text/html": [
       "<table class=\"simpletable\">\n",
       "<caption>OLS Regression Results</caption>\n",
       "<tr>\n",
       "  <th>Dep. Variable:</th>            <td>y</td>        <th>  R-squared:         </th> <td>   0.271</td> \n",
       "</tr>\n",
       "<tr>\n",
       "  <th>Model:</th>                   <td>OLS</td>       <th>  Adj. R-squared:    </th> <td>   0.270</td> \n",
       "</tr>\n",
       "<tr>\n",
       "  <th>Method:</th>             <td>Least Squares</td>  <th>  F-statistic:       </th> <td>   173.3</td> \n",
       "</tr>\n",
       "<tr>\n",
       "  <th>Date:</th>             <td>Mon, 07 Jun 2021</td> <th>  Prob (F-statistic):</th> <td>9.90e-65</td> \n",
       "</tr>\n",
       "<tr>\n",
       "  <th>Time:</th>                 <td>23:38:41</td>     <th>  Log-Likelihood:    </th> <td> -8196.4</td> \n",
       "</tr>\n",
       "<tr>\n",
       "  <th>No. Observations:</th>      <td>   935</td>      <th>  AIC:               </th> <td>1.640e+04</td>\n",
       "</tr>\n",
       "<tr>\n",
       "  <th>Df Residuals:</th>          <td>   932</td>      <th>  BIC:               </th> <td>1.641e+04</td>\n",
       "</tr>\n",
       "<tr>\n",
       "  <th>Df Model:</th>              <td>     2</td>      <th>                     </th>     <td> </td>    \n",
       "</tr>\n",
       "<tr>\n",
       "  <th>Covariance Type:</th>      <td>nonrobust</td>    <th>                     </th>     <td> </td>    \n",
       "</tr>\n",
       "</table>\n",
       "<table class=\"simpletable\">\n",
       "<tr>\n",
       "    <td></td>       <th>coef</th>     <th>std err</th>      <th>t</th>      <th>P>|t|</th>  <th>[0.025</th>    <th>0.975]</th>  \n",
       "</tr>\n",
       "<tr>\n",
       "  <th>const</th> <td> 1948.6022</td> <td>   68.038</td> <td>   28.640</td> <td> 0.000</td> <td> 1815.076</td> <td> 2082.128</td>\n",
       "</tr>\n",
       "<tr>\n",
       "  <th>x1</th>    <td>  226.8008</td> <td>   13.533</td> <td>   16.759</td> <td> 0.000</td> <td>  200.242</td> <td>  253.360</td>\n",
       "</tr>\n",
       "<tr>\n",
       "  <th>x2</th>    <td>  -88.2240</td> <td>    4.987</td> <td>  -17.692</td> <td> 0.000</td> <td>  -98.011</td> <td>  -78.438</td>\n",
       "</tr>\n",
       "</table>\n",
       "<table class=\"simpletable\">\n",
       "<tr>\n",
       "  <th>Omnibus:</th>       <td>748.980</td> <th>  Durbin-Watson:     </th> <td>   2.037</td> \n",
       "</tr>\n",
       "<tr>\n",
       "  <th>Prob(Omnibus):</th> <td> 0.000</td>  <th>  Jarque-Bera (JB):  </th> <td>15301.661</td>\n",
       "</tr>\n",
       "<tr>\n",
       "  <th>Skew:</th>          <td> 3.595</td>  <th>  Prob(JB):          </th> <td>    0.00</td> \n",
       "</tr>\n",
       "<tr>\n",
       "  <th>Kurtosis:</th>      <td>21.468</td>  <th>  Cond. No.          </th> <td>    26.2</td> \n",
       "</tr>\n",
       "</table><br/><br/>Notes:<br/>[1] Standard Errors assume that the covariance matrix of the errors is correctly specified."
      ],
      "text/plain": [
       "<class 'statsmodels.iolib.summary.Summary'>\n",
       "\"\"\"\n",
       "                            OLS Regression Results                            \n",
       "==============================================================================\n",
       "Dep. Variable:                      y   R-squared:                       0.271\n",
       "Model:                            OLS   Adj. R-squared:                  0.270\n",
       "Method:                 Least Squares   F-statistic:                     173.3\n",
       "Date:                Mon, 07 Jun 2021   Prob (F-statistic):           9.90e-65\n",
       "Time:                        23:38:41   Log-Likelihood:                -8196.4\n",
       "No. Observations:                 935   AIC:                         1.640e+04\n",
       "Df Residuals:                     932   BIC:                         1.641e+04\n",
       "Df Model:                           2                                         \n",
       "Covariance Type:            nonrobust                                         \n",
       "==============================================================================\n",
       "                 coef    std err          t      P>|t|      [0.025      0.975]\n",
       "------------------------------------------------------------------------------\n",
       "const       1948.6022     68.038     28.640      0.000    1815.076    2082.128\n",
       "x1           226.8008     13.533     16.759      0.000     200.242     253.360\n",
       "x2           -88.2240      4.987    -17.692      0.000     -98.011     -78.438\n",
       "==============================================================================\n",
       "Omnibus:                      748.980   Durbin-Watson:                   2.037\n",
       "Prob(Omnibus):                  0.000   Jarque-Bera (JB):            15301.661\n",
       "Skew:                           3.595   Prob(JB):                         0.00\n",
       "Kurtosis:                      21.468   Cond. No.                         26.2\n",
       "==============================================================================\n",
       "\n",
       "Notes:\n",
       "[1] Standard Errors assume that the covariance matrix of the errors is correctly specified.\n",
       "\"\"\""
      ]
     },
     "execution_count": 20,
     "metadata": {},
     "output_type": "execute_result"
    }
   ],
   "source": [
    "import statsmodels.regression.linear_model as sm\n",
    "#Select all the features in X array\n",
    "X_opt = X1[:,range(0,9)]\n",
    "regressor_OLS = sm.OLS(endog = y, exog = X_opt).fit()\n",
    "\n",
    "#Fetch p values for each feature\n",
    "p_Vals = regressor_OLS.pvalues\n",
    "\n",
    "#define significance level for accepting the feature.\n",
    "sig_Level = 0.05\n",
    "\n",
    "#Loop to iterate over features and remove the feature with p value less than the sig_level\n",
    "while max(p_Vals) > sig_Level:\n",
    "    print(\"Probability values of each feature \\n\")\n",
    "    print(p_Vals)\n",
    "    X_opt = np.delete(X_opt, np.argmax(p_Vals), axis = 1)\n",
    "    print(\"\\n\")\n",
    "    print(\"Feature at index {} is removed \\n\".format(str(np.argmax(p_Vals))))\n",
    "    print(str(X_opt.shape[1]-1) + \" dimensions remaining now... \\n\")\n",
    "    regressor_OLS = sm.OLS(endog = y, exog = X_opt).fit()\n",
    "    p_Vals = regressor_OLS.pvalues\n",
    "    print(\"=================================================================\\n\")\n",
    "    \n",
    "#Print final summary\n",
    "print(\"Final stat summary with optimal {} features\".format(str(X_opt.shape[1]-1)))\n",
    "regressor_OLS.summary()"
   ]
  },
  {
   "cell_type": "markdown",
   "metadata": {},
   "source": [
    "### Split Data : "
   ]
  },
  {
   "cell_type": "markdown",
   "metadata": {},
   "source": [
    "### Splitting the dataset into the Training set and Test set"
   ]
  },
  {
   "cell_type": "code",
   "execution_count": 21,
   "metadata": {
    "scrolled": true
   },
   "outputs": [],
   "source": [
    "#Split raw data\n",
    "X_train, X_test, y_train, y_test = train_test_split(X,y, random_state=4, test_size=0.2)\n",
    "\n",
    "#Split data from the feature selection group\n",
    "X_train_fs, X_test_fs, y_train_fs, y_test_fs = train_test_split(X_opt,y, random_state=4, test_size=0.2)"
   ]
  },
  {
   "cell_type": "markdown",
   "metadata": {},
   "source": [
    "## Feature Extraction : "
   ]
  },
  {
   "cell_type": "code",
   "execution_count": 22,
   "metadata": {
    "scrolled": true
   },
   "outputs": [
    {
     "data": {
      "text/plain": [
       "array([[ 7.        , 10.        ,  1.        , ..., 19.        ,\n",
       "         0.50736407,  1.13801287],\n",
       "       [10.        , 10.        ,  0.        , ...,  8.        ,\n",
       "         0.2336312 ,  1.13505038],\n",
       "       [ 7.        , 10.        ,  0.        , ...,  8.        ,\n",
       "         2.70531644,  7.74792298],\n",
       "       ...,\n",
       "       [ 7.        ,  3.        ,  1.        , ...,  4.        ,\n",
       "         2.15849324, 11.63259828],\n",
       "       [10.        , 10.        ,  4.        , ..., 20.        ,\n",
       "        24.62543078, 43.11845856],\n",
       "       [ 7.        , 10.        ,  4.        , ...,  8.        ,\n",
       "         3.45176536,  9.9252039 ]])"
      ]
     },
     "execution_count": 22,
     "metadata": {},
     "output_type": "execute_result"
    }
   ],
   "source": [
    "X_train_pca, X_test_pca, y_train_pca, y_test_pca = train_test_split(X,y, random_state=4, test_size=0.2)\n",
    "X_train_pca"
   ]
  },
  {
   "cell_type": "code",
   "execution_count": 23,
   "metadata": {},
   "outputs": [
    {
     "data": {
      "text/plain": [
       "array([[10.        ,  7.        ,  2.        , ..., 11.        ,\n",
       "         5.20046082, 20.21777425],\n",
       "       [ 7.        , 10.        ,  1.        , ...,  4.        ,\n",
       "         3.70590558,  5.96390706],\n",
       "       [ 7.        ,  9.        ,  0.        , ...,  3.        ,\n",
       "         0.50958248,  1.02029863],\n",
       "       ...,\n",
       "       [ 7.        , 11.        ,  5.        , ..., 21.        ,\n",
       "         2.05350534,  4.69670852],\n",
       "       [ 7.        ,  8.        ,  5.        , ..., 19.        ,\n",
       "         9.0588094 , 12.21412504],\n",
       "       [10.        , 10.        ,  2.        , ...,  7.        ,\n",
       "         6.51649781, 14.48110625]])"
      ]
     },
     "execution_count": 23,
     "metadata": {},
     "output_type": "execute_result"
    }
   ],
   "source": [
    "X_test_pca"
   ]
  },
  {
   "cell_type": "markdown",
   "metadata": {},
   "source": [
    "## Scale Data : "
   ]
  },
  {
   "cell_type": "code",
   "execution_count": 24,
   "metadata": {},
   "outputs": [],
   "source": [
    "from sklearn.preprocessing import StandardScaler\n",
    "scaler = StandardScaler()\n",
    "X_train_pca = scaler.fit_transform(X_train_pca)\n",
    "X_test_pca = scaler.transform(X_test_pca)"
   ]
  },
  {
   "cell_type": "markdown",
   "metadata": {},
   "source": [
    "## PCA application:\n",
    "Let's apply PCA technique on the training features to understand how many principal \n",
    "components should we select for our model to capture atleast 90% variance. For that we will \n",
    "take help of plot and cumsum function of numpy package"
   ]
  },
  {
   "cell_type": "code",
   "execution_count": 25,
   "metadata": {
    "scrolled": true
   },
   "outputs": [
    {
     "data": {
      "image/png": "[encoded data removed]",
      "text/plain": [
       "<Figure size 432x288 with 1 Axes>"
      ]
     },
     "metadata": {
      "needs_background": "light"
     },
     "output_type": "display_data"
    }
   ],
   "source": [
    "from sklearn.decomposition import PCA\n",
    "pca = PCA().fit(X_train_pca)\n",
    "plt.plot(np.cumsum(pca.explained_variance_ratio_))\n",
    "plt.xlabel(\"number of components\")\n",
    "plt.ylabel(\"Cumulative explained variance\")\n",
    "plt.show()"
   ]
  },
  {
   "cell_type": "code",
   "execution_count": 26,
   "metadata": {
    "scrolled": true
   },
   "outputs": [
    {
     "data": {
      "text/plain": [
       "[(1, 32.51),\n",
       " (2, 55.349999999999994),\n",
       " (3, 69.89),\n",
       " (4, 81.45),\n",
       " (5, 89.44),\n",
       " (6, 95.66),\n",
       " (7, 98.84)]"
      ]
     },
     "execution_count": 26,
     "metadata": {},
     "output_type": "execute_result"
    }
   ],
   "source": [
    "arr = np.cumsum(np.round(pca.explained_variance_ratio_, decimals=4)*100)\n",
    "list(zip(range(1,len(arr)), arr))"
   ]
  },
  {
   "cell_type": "code",
   "execution_count": 27,
   "metadata": {},
   "outputs": [
    {
     "data": {
      "text/plain": [
       "array([[-1.70919112,  0.21449094,  0.1002417 , ...,  0.40205508,\n",
       "        -0.23087581,  0.35498496],\n",
       "       [ 0.73889217, -0.82522514, -1.44999746, ..., -0.38597367,\n",
       "         0.04235682, -0.1391573 ],\n",
       "       [ 0.93585863, -1.5443753 , -1.62465025, ...,  0.10169678,\n",
       "        -0.14706893,  0.03091188],\n",
       "       ...,\n",
       "       [ 0.85759457,  0.08568495,  0.49592277, ..., -2.4428323 ,\n",
       "         0.94206934,  0.17765268],\n",
       "       [ 0.90889092,  1.27190591,  0.72248694, ..., -1.5835835 ,\n",
       "         0.65525284, -0.46699776],\n",
       "       [-2.01959731, -0.16375375, -0.44293006, ..., -0.1838419 ,\n",
       "        -0.17961733, -0.06977216]])"
      ]
     },
     "execution_count": 27,
     "metadata": {},
     "output_type": "execute_result"
    }
   ],
   "source": [
    "pca_10 = PCA(n_components=7)\n",
    "X_train_pca = pca_10.fit_transform(X_train_pca)\n",
    "X_test_pca = pca_10.transform(X_test_pca)\n",
    "X_test_pca"
   ]
  },
  {
   "cell_type": "markdown",
   "metadata": {},
   "source": [
    "## Correlation Analysis :\n",
    "Correlation analysis is a method of statistical evaluation used to study the strength of a relationship between two or more, numerically measured, continuous variables. This analysis is useful when we need to check if there are possible connections between variables. We will utilize Heatmap for our analysis."
   ]
  },
  {
   "cell_type": "markdown",
   "metadata": {},
   "source": [
    "## Heatmap :\n",
    "A heatmap is a graphical representation of data that uses a system of \n",
    "color-coding to represent statistical relationship between different values.\n",
    "Let's plot the relationship between the features of the Feature selection group first"
   ]
  },
  {
   "cell_type": "code",
   "execution_count": 28,
   "metadata": {
    "scrolled": true
   },
   "outputs": [
    {
     "data": {
      "image/png": "[encoded data removed]",
      "text/plain": [
       "<Figure size 1080x1080 with 2 Axes>"
      ]
     },
     "metadata": {
      "needs_background": "light"
     },
     "output_type": "display_data"
    }
   ],
   "source": [
    "plt.figure(figsize=(15,15))\n",
    "corr = pd.DataFrame(X_train_fs[:,1:]).corr()\n",
    "corr.index = pd.DataFrame(X_train_fs[:,1:]).columns\n",
    "sns.heatmap(corr, cmap='RdYlGn', vmin=-1, vmax=1, square=True)\n",
    "plt.title(\"Correlation Heatmap\", fontsize=16)\n",
    "plt.show()"
   ]
  },
  {
   "cell_type": "code",
   "execution_count": 29,
   "metadata": {
    "scrolled": false
   },
   "outputs": [
    {
     "data": {
      "image/png": "[encoded data removed]",
      "text/plain": [
       "<Figure size 432x288 with 2 Axes>"
      ]
     },
     "metadata": {
      "needs_background": "light"
     },
     "output_type": "display_data"
    }
   ],
   "source": [
    "corr = pd.DataFrame(X_train_pca).corr()\n",
    "corr.index = pd.DataFrame(X_train_pca).columns\n",
    "sns.heatmap(corr, cmap='RdYlGn', vmin=-1, vmax=1, square=True)\n",
    "plt.title(\"Correlation Heatmap\", fontsize=16)\n",
    "plt.show()"
   ]
  },
  {
   "cell_type": "markdown",
   "metadata": {},
   "source": [
    "# Multiple Linear Regression :"
   ]
  },
  {
   "cell_type": "markdown",
   "metadata": {},
   "source": [
    "## Model training : "
   ]
  },
  {
   "cell_type": "code",
   "execution_count": 30,
   "metadata": {},
   "outputs": [
    {
     "data": {
      "text/plain": [
       "LinearRegression()"
      ]
     },
     "execution_count": 30,
     "metadata": {},
     "output_type": "execute_result"
    }
   ],
   "source": [
    "#Linear regressor for the raw data\n",
    "regressor = LinearRegression() \n",
    "regressor.fit(X_train,y_train) \n",
    "\n",
    "#Linear regressor for the Feature selection group\n",
    "regressor1 = LinearRegression() \n",
    "regressor1.fit(X_train_fs,y_train_fs) \n",
    "\n",
    "#Linear regressor for the Feature extraction group\n",
    "regressor2 = LinearRegression() \n",
    "regressor2.fit(X_train_pca,y_train_pca) "
   ]
  },
  {
   "cell_type": "code",
   "execution_count": 31,
   "metadata": {},
   "outputs": [],
   "source": [
    "#Predict from the test features of raw data\n",
    "y_pred = regressor.predict(X_test) \n",
    "\n",
    "#Predict from the test features of Feature Selection group\n",
    "y_pred = regressor1.predict(X_test_fs) \n",
    "\n",
    "#Predict from the test features of Feature Extraction group\n",
    "y_pred_pca = regressor2.predict(X_test_pca) "
   ]
  },
  {
   "cell_type": "code",
   "execution_count": 32,
   "metadata": {
    "scrolled": false
   },
   "outputs": [
    {
     "name": "stdout",
     "output_type": "stream",
     "text": [
      "RMSE score for the Multiple LR raw is : 1729.5355711228835\n",
      "Variance score for the Multiple LR raw is : 0.32\n",
      "\n",
      "\n",
      "RMSE score for the Multiple LR FS is : 1729.5355711228835\n",
      "Variance score for the Multiple LR FS is : 0.32\n",
      "\n",
      "\n",
      "RMSE score for the Multiple LR PCA is : 1729.7136144526428\n",
      "Variance score for the Multiple LR PCA is : 0.32\n"
     ]
    }
   ],
   "source": [
    "#Evaluate the regressor on the raw data\n",
    "print('RMSE score for the Multiple LR raw is : {}'.format(np.sqrt(metrics.mean_squared_error(y_test,y_pred))))\n",
    "print('Variance score for the Multiple LR raw is : %.2f' % regressor.score(X_test, y_test))\n",
    "print(\"\\n\")\n",
    "\n",
    "#Evaluate the regressor on the Feature selection group\n",
    "print('RMSE score for the Multiple LR FS is : {}'.format(np.sqrt(metrics.mean_squared_error(y_test_fs,y_pred))))\n",
    "print('Variance score for the Multiple LR FS is : %.2f' % regressor1.score(X_test_fs, y_test_fs))\n",
    "print(\"\\n\")\n",
    "\n",
    "#Evaluate the regressor on the Feature extraction group\n",
    "print('RMSE score for the Multiple LR PCA is : {}'.format(np.sqrt(metrics.mean_squared_error(y_test_pca,y_pred_pca))))\n",
    "print('Variance score for the Multiple LR PCA is : %.2f' % regressor2.score(X_test_pca, y_test_pca))"
   ]
  },
  {
   "cell_type": "code",
   "execution_count": 251,
   "metadata": {},
   "outputs": [
    {
     "data": {
      "text/plain": [
       "(748, 8)"
      ]
     },
     "execution_count": 251,
     "metadata": {},
     "output_type": "execute_result"
    }
   ],
   "source": [
    "X_train.shape"
   ]
  },
  {
   "cell_type": "code",
   "execution_count": 33,
   "metadata": {
    "scrolled": true
   },
   "outputs": [
    {
     "data": {
      "text/html": [
       "<div>\n",
       "<style scoped>\n",
       "    .dataframe tbody tr th:only-of-type {\n",
       "        vertical-align: middle;\n",
       "    }\n",
       "\n",
       "    .dataframe tbody tr th {\n",
       "        vertical-align: top;\n",
       "    }\n",
       "\n",
       "    .dataframe thead th {\n",
       "        text-align: right;\n",
       "    }\n",
       "</style>\n",
       "<table border=\"1\" class=\"dataframe\">\n",
       "  <thead>\n",
       "    <tr style=\"text-align: right;\">\n",
       "      <th></th>\n",
       "      <th>Value</th>\n",
       "    </tr>\n",
       "  </thead>\n",
       "  <tbody>\n",
       "    <tr>\n",
       "      <th>7 vs 8</th>\n",
       "      <td>-0.240506</td>\n",
       "    </tr>\n",
       "    <tr>\n",
       "      <th>6 vs 8</th>\n",
       "      <td>0.120204</td>\n",
       "    </tr>\n",
       "    <tr>\n",
       "      <th>0 vs 8</th>\n",
       "      <td>-0.064998</td>\n",
       "    </tr>\n",
       "    <tr>\n",
       "      <th>5 vs 8</th>\n",
       "      <td>0.049691</td>\n",
       "    </tr>\n",
       "    <tr>\n",
       "      <th>4 vs 8</th>\n",
       "      <td>-0.039665</td>\n",
       "    </tr>\n",
       "    <tr>\n",
       "      <th>3 vs 8</th>\n",
       "      <td>-0.021725</td>\n",
       "    </tr>\n",
       "    <tr>\n",
       "      <th>1 vs 8</th>\n",
       "      <td>-0.011293</td>\n",
       "    </tr>\n",
       "    <tr>\n",
       "      <th>2 vs 8</th>\n",
       "      <td>0.005806</td>\n",
       "    </tr>\n",
       "  </tbody>\n",
       "</table>\n",
       "</div>"
      ],
      "text/plain": [
       "           Value\n",
       "7 vs 8 -0.240506\n",
       "6 vs 8  0.120204\n",
       "0 vs 8 -0.064998\n",
       "5 vs 8  0.049691\n",
       "4 vs 8 -0.039665\n",
       "3 vs 8 -0.021725\n",
       "1 vs 8 -0.011293\n",
       "2 vs 8  0.005806"
      ]
     },
     "execution_count": 33,
     "metadata": {},
     "output_type": "execute_result"
    }
   ],
   "source": [
    "#Find linear correlation of each feature with the target variable\n",
    "from scipy.stats import pearsonr\n",
    "#df1 = pd.DataFrame(np.concatenate((X_train,y_train.reshape(len(y_train),1)),axis=1))\n",
    "df1 = pd.DataFrame(np.concatenate((X_train,y_train),axis=1))\n",
    "df1.columns = df1.columns.astype(str)\n",
    "\n",
    "features = df1.iloc[:,:8].columns.tolist()\n",
    "target = df1.iloc[:,8].name\n",
    "\n",
    "correlations = {}\n",
    "for f in features:\n",
    "    data_temp = df1[[f,target]]\n",
    "    x1 = data_temp[f].values\n",
    "    x2 = data_temp[target].values\n",
    "    key = f + ' vs ' + target\n",
    "    correlations[key] = pearsonr(x1,x2)[0]\n",
    "    \n",
    "data_correlations = pd.DataFrame(correlations, index=['Value']).T\n",
    "data_correlations.loc[data_correlations['Value'].abs().sort_values(ascending=False).index]"
   ]
  },
  {
   "cell_type": "code",
   "execution_count": 186,
   "metadata": {},
   "outputs": [
    {
     "data": {
      "text/plain": [
       "array([[ 1317.27876921],\n",
       "       [ 2256.0732664 ],\n",
       "       [ 1891.76463702],\n",
       "       [ 4277.1786551 ],\n",
       "       [ 2021.50202338],\n",
       "       [ 3072.25667638],\n",
       "       [ 1508.86640239],\n",
       "       [ 3525.39768858],\n",
       "       [ 2157.27596404],\n",
       "       [ 6455.72817863],\n",
       "       [ 3283.54208522],\n",
       "       [ 1477.72628215],\n",
       "       [ 3393.50674852],\n",
       "       [ 2149.63512435],\n",
       "       [ 1145.88218688],\n",
       "       [ 1647.46239621],\n",
       "       [ 2019.83368902],\n",
       "       [ 1855.65554552],\n",
       "       [ 2822.28249138],\n",
       "       [ 2201.42053243],\n",
       "       [ 2260.20934637],\n",
       "       [ 2593.10251237],\n",
       "       [  315.56112515],\n",
       "       [  920.29703367],\n",
       "       [ 2051.64726577],\n",
       "       [ 2025.48333367],\n",
       "       [ 3152.68770766],\n",
       "       [ 2162.26341319],\n",
       "       [ 1511.46781818],\n",
       "       [ 1696.93677714],\n",
       "       [ 1430.17580533],\n",
       "       [ 1514.35730524],\n",
       "       [ 2235.54835772],\n",
       "       [ 2351.59782625],\n",
       "       [ 2416.73026193],\n",
       "       [ 2289.12810841],\n",
       "       [ 2235.00359032],\n",
       "       [ 2060.20348091],\n",
       "       [ 2100.19557676],\n",
       "       [ 1387.76113932],\n",
       "       [ 2348.17434846],\n",
       "       [ 1551.20821324],\n",
       "       [ 2146.72681612],\n",
       "       [ 1794.41257672],\n",
       "       [ 2302.07157127],\n",
       "       [ 2018.63681744],\n",
       "       [ 1733.66089561],\n",
       "       [ 2243.85936188],\n",
       "       [ 1319.96637863],\n",
       "       [ 2206.23454636],\n",
       "       [ 2787.99106824],\n",
       "       [  549.85922088],\n",
       "       [ 3330.31692561],\n",
       "       [ 1239.5704148 ],\n",
       "       [ 1429.97163738],\n",
       "       [ 1856.09473422],\n",
       "       [ 1897.66716677],\n",
       "       [ 1986.68608861],\n",
       "       [ 1597.93733911],\n",
       "       [  -60.34776458],\n",
       "       [ 2624.86431771],\n",
       "       [ 2318.45184424],\n",
       "       [ 1427.70286666],\n",
       "       [ 1712.57936859],\n",
       "       [  -34.37254222],\n",
       "       [ 1718.44622108],\n",
       "       [ 2071.16154333],\n",
       "       [ 1645.84387677],\n",
       "       [ 1460.49432926],\n",
       "       [ 2461.51390168],\n",
       "       [ 1803.97727254],\n",
       "       [ 1541.60516985],\n",
       "       [ 1423.62456319],\n",
       "       [ 5244.83342349],\n",
       "       [ 1533.24952708],\n",
       "       [ 2396.9261321 ],\n",
       "       [ 1947.7476911 ],\n",
       "       [ 1740.95535595],\n",
       "       [  378.93990145],\n",
       "       [ 1983.0652581 ],\n",
       "       [ 2239.47745155],\n",
       "       [  975.53411905],\n",
       "       [ 1448.4906975 ],\n",
       "       [ 6161.30665684],\n",
       "       [ 2692.19985118],\n",
       "       [ 5380.70806826],\n",
       "       [ 4246.80685022],\n",
       "       [ 1487.92711501],\n",
       "       [ 2179.33317728],\n",
       "       [ 1756.49451388],\n",
       "       [ 1944.97098187],\n",
       "       [ 2576.02676458],\n",
       "       [ 1284.62069352],\n",
       "       [ 2842.9041135 ],\n",
       "       [ 3073.64216583],\n",
       "       [ 1068.22982111],\n",
       "       [ 3096.46830902],\n",
       "       [ 2093.17176156],\n",
       "       [ 1821.86707972],\n",
       "       [ 2524.96436873],\n",
       "       [ 1753.6220237 ],\n",
       "       [ 1922.58191204],\n",
       "       [ 1577.01674614],\n",
       "       [ 1845.10172484],\n",
       "       [ 1241.84102994],\n",
       "       [-1825.35388334],\n",
       "       [ 2061.20548293],\n",
       "       [ 3040.48292291],\n",
       "       [ 1975.05033954],\n",
       "       [ 1691.60252979],\n",
       "       [ 1207.81039063],\n",
       "       [ 2122.18152705],\n",
       "       [ 3628.64148437],\n",
       "       [ 1849.70051077],\n",
       "       [ 2519.18034726],\n",
       "       [ 1567.58132937],\n",
       "       [ 1561.83889073],\n",
       "       [ 1950.79027989],\n",
       "       [ 2101.96754153],\n",
       "       [ 2510.96662339],\n",
       "       [ 2097.98982489],\n",
       "       [ 1533.85439799],\n",
       "       [ 1190.76528716],\n",
       "       [ 2310.97733127],\n",
       "       [ 1685.17986268],\n",
       "       [ 1744.33343171],\n",
       "       [ 1386.15900098],\n",
       "       [ 1854.08686117],\n",
       "       [ 2418.13255712],\n",
       "       [ 3226.85075306],\n",
       "       [  483.83931406],\n",
       "       [ 2214.21814881],\n",
       "       [ 1921.25543091],\n",
       "       [ 1315.76567757],\n",
       "       [  801.27708638],\n",
       "       [ 2940.91743368],\n",
       "       [ 1334.81954043],\n",
       "       [ 2116.79247627],\n",
       "       [ 2366.99151779],\n",
       "       [ 2343.62959601],\n",
       "       [ 2312.73539328],\n",
       "       [ 1432.1455832 ],\n",
       "       [ 1905.78128368],\n",
       "       [ 1818.09659182],\n",
       "       [ 1102.78584947],\n",
       "       [ 2292.15938981],\n",
       "       [  996.61284749],\n",
       "       [  874.84019957],\n",
       "       [ 2432.35422306],\n",
       "       [-3965.14690603],\n",
       "       [ 5941.86052437],\n",
       "       [ 2160.92016907],\n",
       "       [ 2866.83894418],\n",
       "       [ 1563.86872868],\n",
       "       [ 2010.89863368],\n",
       "       [ 1153.78407957],\n",
       "       [-1007.18593144],\n",
       "       [ 2253.84489782],\n",
       "       [ 1438.82204685],\n",
       "       [ 1625.8884344 ],\n",
       "       [ 2565.7199134 ],\n",
       "       [ 2319.85151929],\n",
       "       [ 2747.6957884 ],\n",
       "       [ 2332.50548829],\n",
       "       [ 2184.8691124 ],\n",
       "       [ 1997.29814829],\n",
       "       [ 1823.56699084],\n",
       "       [ 1890.94978489],\n",
       "       [ 1989.79629813],\n",
       "       [ 2377.96414439],\n",
       "       [ 2609.40055317],\n",
       "       [ 1967.49798706],\n",
       "       [ 2737.30203257],\n",
       "       [ 1796.7112114 ],\n",
       "       [ 2016.00418759],\n",
       "       [ 2295.75367679],\n",
       "       [ 1812.29324186],\n",
       "       [ 2175.09259938],\n",
       "       [ 1459.58280923],\n",
       "       [ 1809.87169487],\n",
       "       [ 1537.69550224],\n",
       "       [ 1989.56057671],\n",
       "       [ 2565.62290086],\n",
       "       [  991.0882866 ],\n",
       "       [ 1741.32076508],\n",
       "       [ 2883.49987588],\n",
       "       [ 2067.55068394]])"
      ]
     },
     "execution_count": 186,
     "metadata": {},
     "output_type": "execute_result"
    }
   ],
   "source": [
    "y_pred"
   ]
  },
  {
   "cell_type": "markdown",
   "metadata": {},
   "source": [
    "### y_pred_pca"
   ]
  },
  {
   "cell_type": "code",
   "execution_count": 187,
   "metadata": {},
   "outputs": [
    {
     "data": {
      "text/html": [
       "<div>\n",
       "<style scoped>\n",
       "    .dataframe tbody tr th:only-of-type {\n",
       "        vertical-align: middle;\n",
       "    }\n",
       "\n",
       "    .dataframe tbody tr th {\n",
       "        vertical-align: top;\n",
       "    }\n",
       "\n",
       "    .dataframe thead th {\n",
       "        text-align: right;\n",
       "    }\n",
       "</style>\n",
       "<table border=\"1\" class=\"dataframe\">\n",
       "  <thead>\n",
       "    <tr style=\"text-align: right;\">\n",
       "      <th></th>\n",
       "      <th>TaskDurationSec</th>\n",
       "    </tr>\n",
       "  </thead>\n",
       "  <tbody>\n",
       "    <tr>\n",
       "      <th>849</th>\n",
       "      <td>926</td>\n",
       "    </tr>\n",
       "    <tr>\n",
       "      <th>47</th>\n",
       "      <td>2237</td>\n",
       "    </tr>\n",
       "    <tr>\n",
       "      <th>784</th>\n",
       "      <td>1798</td>\n",
       "    </tr>\n",
       "    <tr>\n",
       "      <th>153</th>\n",
       "      <td>6468</td>\n",
       "    </tr>\n",
       "    <tr>\n",
       "      <th>138</th>\n",
       "      <td>3075</td>\n",
       "    </tr>\n",
       "    <tr>\n",
       "      <th>...</th>\n",
       "      <td>...</td>\n",
       "    </tr>\n",
       "    <tr>\n",
       "      <th>630</th>\n",
       "      <td>2561</td>\n",
       "    </tr>\n",
       "    <tr>\n",
       "      <th>637</th>\n",
       "      <td>1067</td>\n",
       "    </tr>\n",
       "    <tr>\n",
       "      <th>828</th>\n",
       "      <td>1574</td>\n",
       "    </tr>\n",
       "    <tr>\n",
       "      <th>886</th>\n",
       "      <td>2670</td>\n",
       "    </tr>\n",
       "    <tr>\n",
       "      <th>13</th>\n",
       "      <td>1620</td>\n",
       "    </tr>\n",
       "  </tbody>\n",
       "</table>\n",
       "<p>187 rows × 1 columns</p>\n",
       "</div>"
      ],
      "text/plain": [
       "     TaskDurationSec\n",
       "849              926\n",
       "47              2237\n",
       "784             1798\n",
       "153             6468\n",
       "138             3075\n",
       "..               ...\n",
       "630             2561\n",
       "637             1067\n",
       "828             1574\n",
       "886             2670\n",
       "13              1620\n",
       "\n",
       "[187 rows x 1 columns]"
      ]
     },
     "execution_count": 187,
     "metadata": {},
     "output_type": "execute_result"
    }
   ],
   "source": [
    "y_test_fs"
   ]
  },
  {
   "cell_type": "markdown",
   "metadata": {},
   "source": [
    "# Random Forest Regressor :"
   ]
  },
  {
   "cell_type": "markdown",
   "metadata": {},
   "source": [
    "## Model training : "
   ]
  },
  {
   "cell_type": "code",
   "execution_count": 34,
   "metadata": {
    "scrolled": false
   },
   "outputs": [
    {
     "name": "stdout",
     "output_type": "stream",
     "text": [
      "\n",
      "\n"
     ]
    }
   ],
   "source": [
    "#instantiate the object for the Random Forest Regressor with default params from raw data\n",
    "regressor_rfraw = RandomForestRegressor(n_jobs=-1)\n",
    "\n",
    "#instantiate the object for the Random Forest Regressor with default params for Feature Selection Group\n",
    "regressor_rf = RandomForestRegressor(n_jobs=-1)\n",
    "\n",
    "# #instantiate the object for the Random Forest Regressor with tuned hyper parameters for Feature Selection Group\n",
    "# regressor_rf1 = RandomForestRegressor(n_estimators = 26,\n",
    "#                                      max_depth = 22,\n",
    "#                                      min_samples_split = 9,\n",
    "#                                      n_jobs=-1)\n",
    "\n",
    "#instantiate the object for the Random Forest Regressor for Feature Extraction Group\n",
    "regressor_rf2 = RandomForestRegressor(n_jobs=-1)\n",
    "\n",
    "\n",
    "#Train the object with default params for raw data\n",
    "regressor_rfraw.fit(X_train,y_train)\n",
    "\n",
    "#Train the object with default params for Feature Selection Group\n",
    "regressor_rf.fit(X_train_fs,y_train_fs)\n",
    "\n",
    "# #Train the object with tuned params for Feature Selection Group\n",
    "# regressor_rf1.fit(X_train_fs,y_train_fs)\n",
    "\n",
    "# #Train the object with default params for Feature Extraction Group\n",
    "regressor_rf2.fit(X_train_pca,y_train_pca)\n",
    "\n",
    "print(\"\\n\")"
   ]
  },
  {
   "cell_type": "markdown",
   "metadata": {},
   "source": [
    "## Model prediction :"
   ]
  },
  {
   "cell_type": "code",
   "execution_count": 35,
   "metadata": {
    "scrolled": true
   },
   "outputs": [
    {
     "name": "stdout",
     "output_type": "stream",
     "text": [
      "\n",
      "\n"
     ]
    }
   ],
   "source": [
    "#Predict the output with object of default params for Feature Selection Group\n",
    "y_pred_rfraw = regressor_rfraw.predict(X_test)\n",
    "\n",
    "#Predict the output with object of default params for Feature Selection Group\n",
    "y_pred_rf = regressor_rf.predict(X_test_fs)\n",
    "\n",
    "# #Predict the output with object of hyper tuned params for Feature Selection Group\n",
    "# y_pred_rf1 = regressor_rf1.predict(X_test_fs)\n",
    "\n",
    "#Predict the output with object of PCA params for Feature Extraction Group\n",
    "y_pred_rfpca = regressor_rf2.predict(X_test_pca)\n",
    "\n",
    "print(\"\\n\")"
   ]
  },
  {
   "cell_type": "code",
   "execution_count": 36,
   "metadata": {
    "scrolled": true
   },
   "outputs": [
    {
     "name": "stdout",
     "output_type": "stream",
     "text": [
      "RMSE score for the RF regressor raw is : 899.6922920587014\n",
      "RMSLE score for the RF regressor raw is : 0.16918876741466346\n",
      "Variance score for the RF regressor raw is : 0.82\n",
      "\n",
      "\n",
      "RMSE score for the RF regressor is : 833.640373322106\n",
      "RMSLE score for the RF regressor is : 0.14473212918818243\n",
      "Variance score for the RF regressor is : 0.84\n",
      "\n",
      "\n",
      "RMSE score for the RF regressor2 is : 1517.7421561750916\n",
      "Variance score for the RF regressor2 is : 0.48\n"
     ]
    }
   ],
   "source": [
    "#Evaluate the model with default params for raw data\n",
    "print('RMSE score for the RF regressor raw is : {}'.format(np.sqrt(metrics.mean_squared_error(y_test,y_pred_rfraw))))\n",
    "print('RMSLE score for the RF regressor raw is : {}'.format(np.sqrt(metrics.mean_squared_log_error(y_test,y_pred_rfraw))))\n",
    "print('Variance score for the RF regressor raw is : %.2f' % regressor_rfraw.score(X_test, y_test))\n",
    "\n",
    "print(\"\\n\")\n",
    "\n",
    "#Evaluate the model with default params for Feature Selection Group\n",
    "print('RMSE score for the RF regressor is : {}'.format(np.sqrt(metrics.mean_squared_error(y_test_fs,y_pred_rf))))\n",
    "print('RMSLE score for the RF regressor is : {}'.format(np.sqrt(metrics.mean_squared_log_error(y_test_fs,y_pred_rf))))\n",
    "print('Variance score for the RF regressor is : %.2f' % regressor_rf.score(X_test_fs, y_test_fs))\n",
    "\n",
    "# print(\"\\n\")\n",
    "\n",
    "# #Evaluate the model with tuned params for Feature Selection Group\n",
    "# print('RMSE score for the RF regressor1 is : {}'.format(np.sqrt(metrics.mean_squared_error(y_test_fs,y_pred_rf1))))\n",
    "# print('RMSLE score for the RF regressor1 is : {}'.format(np.sqrt(metrics.mean_squared_log_error(y_test_fs,y_pred_rf1))))\n",
    "# print('Variance score for the RF regressor1 is : %.2f' % regressor_rf1.score(X_test_fs, y_test_fs))\n",
    "\n",
    "print(\"\\n\")\n",
    "\n",
    "#Evaluate the model with PCA params  for Feature Extraction Group\n",
    "print('RMSE score for the RF regressor2 is : {}'.format(np.sqrt(metrics.mean_squared_error(y_test_pca, y_pred_rfpca))))\n",
    "print('Variance score for the RF regressor2 is : %.2f' % regressor_rf2.score(X_test_pca, y_test_pca))"
   ]
  },
  {
   "cell_type": "markdown",
   "metadata": {},
   "source": [
    "# XGBoost Regressor :"
   ]
  },
  {
   "cell_type": "code",
   "execution_count": 37,
   "metadata": {},
   "outputs": [
    {
     "name": "stdout",
     "output_type": "stream",
     "text": [
      "[23:39:56] WARNING: C:/Users/Administrator/workspace/xgboost-win64_release_1.4.0/src/learner.cc:573: \n",
      "Parameters: { \"silent\" } might not be used.\n",
      "\n",
      "  This may not be accurate due to some parameters are only used in language bindings but\n",
      "  passed down to XGBoost core.  Or some parameters are not used but slip through this\n",
      "  verification. Please open an issue if you find above cases.\n",
      "\n",
      "\n",
      "\n",
      "\n"
     ]
    }
   ],
   "source": [
    "#instantiate the object for the XGBoost Regressor with default params for raw data\n",
    "regressor_xgbraw = XGBRegressor(n_jobs=-1)\n",
    "\n",
    "#instantiate the object for the XGBoost Regressor with default params for Feature Selection Group\n",
    "regressor_xgb = XGBRegressor(n_jobs=-1)\n",
    "\n",
    "#instantiate the object for the XGBoost Regressor with tuned hyper parameters for Feature Selection Group\n",
    "regressor_xgb1 = XGBRegressor(n_estimators=300,\n",
    "                            learning_rate=0.08,\n",
    "                            gamma=0,\n",
    "                            subsample=0.75,\n",
    "                            colsample_bytree=1,\n",
    "                            max_depth=7,\n",
    "                            min_child_weight=4,\n",
    "                            silent=1,\n",
    "                           n_jobs=-1)\n",
    "\n",
    "#instantiate the object for the XGBoost Regressor for Feature Extraction Group\n",
    "regressor_xgb2 = XGBRegressor(n_jobs=-1)\n",
    "\n",
    "\n",
    "#Train the object with default params for raw data\n",
    "regressor_xgbraw.fit(X_train,y_train)\n",
    "\n",
    "#Train the object with default params for Feature Selection Group\n",
    "regressor_xgb.fit(X_train_fs,y_train_fs)\n",
    "\n",
    "#Train the object with tuned params for Feature Selection Group\n",
    "regressor_xgb1.fit(X_train_fs,y_train_fs)\n",
    "\n",
    "#Train the object with default params for Feature Extraction Group\n",
    "regressor_xgb2.fit(X_train_pca,y_train_pca)\n",
    "\n",
    "print(\"\\n\")"
   ]
  },
  {
   "cell_type": "code",
   "execution_count": 38,
   "metadata": {},
   "outputs": [
    {
     "name": "stdout",
     "output_type": "stream",
     "text": [
      "\n",
      "\n"
     ]
    }
   ],
   "source": [
    "#Predict the output with object of default params for raw data\n",
    "y_pred_xgbraw = regressor_xgbraw.predict(X_test)\n",
    "\n",
    "#Predict the output with object of default params for Feature Selection Group\n",
    "y_pred_xgb = regressor_xgb.predict(X_test_fs)\n",
    "\n",
    "#Predict the output with object of hyper tuned params for Feature Selection Group\n",
    "y_pred_xgb1 = regressor_xgb1.predict(X_test_fs)\n",
    "\n",
    "#Predict the output with object of PCA params for Feature Extraction Group\n",
    "y_pred_xgb_pca = regressor_xgb2.predict(X_test_pca)\n",
    "\n",
    "print(\"\\n\")"
   ]
  },
  {
   "cell_type": "code",
   "execution_count": 39,
   "metadata": {
    "scrolled": true
   },
   "outputs": [
    {
     "name": "stdout",
     "output_type": "stream",
     "text": [
      "RMSE score for the XGBoost regressor raw is : 840.568133022036\n",
      "Variance score for the XGBoost regressor raw is : 0.84\n",
      "\n",
      "\n",
      "RMSE score for the XGBoost regressor is : 762.6069075922089\n",
      "Variance score for the XGBoost regressor is : 0.87\n",
      "\n",
      "\n",
      "RMSE score for the XGBoost regressor1 is : 778.0147693658475\n",
      "Variance score for the XGBoost regressor1 is : 0.86\n",
      "\n",
      "\n",
      "RMSE score for the XGBoost regressor2 is : 1546.4575684667393\n",
      "Variance score for the XGBoost regressor2 is : 0.46\n"
     ]
    }
   ],
   "source": [
    "#Evaluate the model with default params for raw data\n",
    "print('RMSE score for the XGBoost regressor raw is : {}'.format(np.sqrt(metrics.mean_squared_error(y_test,y_pred_xgbraw))))\n",
    "# print('RMSLE score for the XGBoost regressor is : {}'.format(np.sqrt(metrics.mean_squared_log_error(y_test,y_pred_xgb))))\n",
    "print('Variance score for the XGBoost regressor raw is : %.2f' % regressor_xgbraw.score(X_test, y_test))\n",
    "\n",
    "print(\"\\n\")\n",
    "\n",
    "#Evaluate the model with default params for Feature Selection Group\n",
    "print('RMSE score for the XGBoost regressor is : {}'.format(np.sqrt(metrics.mean_squared_error(y_test_fs,y_pred_xgb))))\n",
    "# print('RMSLE score for the XGBoost regressor is : {}'.format(np.sqrt(metrics.mean_squared_log_error(y_test,y_pred_xgb))))\n",
    "print('Variance score for the XGBoost regressor is : %.2f' % regressor_xgb.score(X_test_fs, y_test_fs))\n",
    "\n",
    "print(\"\\n\")\n",
    "\n",
    "#Evaluate the model with Tuned params for Feature Selection Group\n",
    "print('RMSE score for the XGBoost regressor1 is : {}'.format(np.sqrt(metrics.mean_squared_error(y_test_fs,y_pred_xgb1))))\n",
    "# print('RMSLE score for the XGBoost regressor1 is : {}'.format(np.sqrt(metrics.mean_squared_log_error(y_test_fs,y_pred_xgb1))))\n",
    "print('Variance score for the XGBoost regressor1 is : %.2f' % regressor_xgb1.score(X_test_fs,y_test_fs))\n",
    "\n",
    "print(\"\\n\")\n",
    "\n",
    "#Evaluate the model with PCA params  for Feature Extraction Group\n",
    "print('RMSE score for the XGBoost regressor2 is : {}'.format(np.sqrt(metrics.mean_squared_error(y_test_pca, y_pred_xgb_pca))))\n",
    "print('Variance score for the XGBoost regressor2 is : %.2f' % regressor_xgb2.score(X_test_pca, y_test_pca))"
   ]
  },
  {
   "cell_type": "code",
   "execution_count": 40,
   "metadata": {},
   "outputs": [
    {
     "name": "stdout",
     "output_type": "stream",
     "text": [
      "Total sum of difference between the actual and the predicted values for the RF regressor is : 3316746\n",
      "Total sum of difference between the actual and the predicted values for the tuned XGB regressor is : 2624057\n"
     ]
    }
   ],
   "source": [
    "#Comparing test results for the XGBoost and RF regressor\n",
    "print(\"Total sum of difference between the actual and the predicted values for the RF regressor is : %d\"%np.abs(np.sum(np.subtract(y_test,y_pred_rf))))\n",
    "print(\"Total sum of difference between the actual and the predicted values for the tuned XGB regressor is : %d\"%np.abs(np.sum(np.subtract(y_test,y_pred_xgb1))))"
   ]
  },
  {
   "cell_type": "markdown",
   "metadata": {},
   "source": [
    "# Learning curves :"
   ]
  },
  {
   "cell_type": "code",
   "execution_count": 41,
   "metadata": {
    "scrolled": true
   },
   "outputs": [
    {
     "data": {
      "image/png": "[encoded data removed]",
      "text/plain": [
       "<Figure size 1008x360 with 1 Axes>"
      ]
     },
     "metadata": {
      "needs_background": "light"
     },
     "output_type": "display_data"
    },
    {
     "data": {
      "image/png": "[encoded data removed]",
      "text/plain": [
       "<Figure size 1008x360 with 1 Axes>"
      ]
     },
     "metadata": {
      "needs_background": "light"
     },
     "output_type": "display_data"
    }
   ],
   "source": [
    "#Define a function to plot learning curve.\n",
    "def learning_curves(estimator, title, features, target, train_sizes, cv, n_jobs=-1):\n",
    "    plt.figure(figsize = (14,5))\n",
    "    train_sizes, train_scores, validation_scores = learning_curve(estimator, features, target, train_sizes = train_sizes, cv = cv, scoring = 'neg_mean_squared_error',  n_jobs=n_jobs)\n",
    "    train_scores_mean = -train_scores.mean(axis = 1)\n",
    "    validation_scores_mean = -validation_scores.mean(axis = 1)\n",
    "    \n",
    "    plt.grid()\n",
    "    \n",
    "    plt.plot(train_sizes, train_scores_mean,'o-', color=\"r\", label = 'Training error')\n",
    "    plt.plot(train_sizes, validation_scores_mean,'o-', color=\"g\", label = 'Validation error')\n",
    "\n",
    "    plt.ylabel('MSE', fontsize = 14)\n",
    "    plt.xlabel('Training set size', fontsize = 14)\n",
    "    \n",
    "    title = 'Learning curves for a ' + title + ' model'\n",
    "    plt.title(title, fontsize = 18, loc='left')\n",
    "    \n",
    "    plt.legend(loc=\"best\")\n",
    "    \n",
    "    return plt\n",
    "\n",
    "# score curves, each time with 20% data randomly selected as a validation set.\n",
    "cv = ShuffleSplit(n_splits=10, test_size=0.2, random_state=4)\n",
    "\n",
    "# Plot learning curve for the RF Regressor\n",
    "title = \"Random Forest Regressor\"\n",
    "\n",
    "# Call learning curve with all dataset i.e. traininig and test combined because CV will take of data split.\n",
    "learning_curves(regressor_rf, title, X_opt,y, train_sizes=np.linspace(.1, 1.0, 5), cv=cv, n_jobs=-1)\n",
    "\n",
    "#Plot learning curve for the XGBoost Regressor\n",
    "title = \"XGBoost Regressor\"\n",
    "\n",
    "# Call learning curve on less number of estimators than the tuned estimator because it took too much time for the compilation.\n",
    "learning_curves(XGBRegressor(n_estimators=111,\n",
    "                            learning_rate=0.08,\n",
    "                            gamma=0,\n",
    "                            subsample=0.75,\n",
    "                            colsample_bytree=1,\n",
    "                            max_depth=7,\n",
    "                            min_child_weight=4,\n",
    "                            silent=1), title, X_opt,y, train_sizes=np.linspace(.1, 1.0, 5), cv=cv, n_jobs=-1)\n",
    "\n",
    "plt.show()"
   ]
  },
  {
   "cell_type": "markdown",
   "metadata": {},
   "source": [
    "## Demloy modele pkl : "
   ]
  },
  {
   "cell_type": "code",
   "execution_count": 260,
   "metadata": {},
   "outputs": [],
   "source": [
    "import pickle\n",
    "pickle.dump(regressor_xgb1, open('model_regressor_xgb1.pkl','wb'))\n",
    "\n",
    "model = pickle.load(open('model_regressor_xgb1.pkl','rb'))"
   ]
  },
  {
   "cell_type": "code",
   "execution_count": 261,
   "metadata": {},
   "outputs": [
    {
     "data": {
      "text/plain": [
       "array([1.        , 0.2336312 , 1.13505038])"
      ]
     },
     "execution_count": 261,
     "metadata": {},
     "output_type": "execute_result"
    }
   ],
   "source": [
    "X_train_fs[1]"
   ]
  },
  {
   "cell_type": "code",
   "execution_count": 262,
   "metadata": {},
   "outputs": [
    {
     "data": {
      "text/plain": [
       "array([[  926],\n",
       "       [ 2237],\n",
       "       [ 1798],\n",
       "       [ 6468],\n",
       "       [ 3075],\n",
       "       [ 2594],\n",
       "       [  829],\n",
       "       [ 4107],\n",
       "       [ 1107],\n",
       "       [ 3427],\n",
       "       [ 1836],\n",
       "       [  853],\n",
       "       [ 4441],\n",
       "       [  924],\n",
       "       [ 1015],\n",
       "       [ 1015],\n",
       "       [ 1636],\n",
       "       [  972],\n",
       "       [ 2324],\n",
       "       [ 1971],\n",
       "       [ 1699],\n",
       "       [ 1620],\n",
       "       [  807],\n",
       "       [  646],\n",
       "       [  738],\n",
       "       [ 1325],\n",
       "       [12048],\n",
       "       [ 5091],\n",
       "       [ 1103],\n",
       "       [ 1134],\n",
       "       [  558],\n",
       "       [ 1448],\n",
       "       [  801],\n",
       "       [  968],\n",
       "       [ 1982],\n",
       "       [ 2567],\n",
       "       [ 1462],\n",
       "       [ 1021],\n",
       "       [ 3475],\n",
       "       [ 1033],\n",
       "       [ 1682],\n",
       "       [  626],\n",
       "       [ 8754],\n",
       "       [  524],\n",
       "       [ 1345],\n",
       "       [  881],\n",
       "       [ 1062],\n",
       "       [ 5800],\n",
       "       [ 1079],\n",
       "       [  819],\n",
       "       [ 6267],\n",
       "       [  641],\n",
       "       [ 4311],\n",
       "       [  436],\n",
       "       [  920],\n",
       "       [ 1221],\n",
       "       [  659],\n",
       "       [ 1478],\n",
       "       [ 1310],\n",
       "       [  571],\n",
       "       [ 2445],\n",
       "       [ 2446],\n",
       "       [  920],\n",
       "       [  474],\n",
       "       [  410],\n",
       "       [  454],\n",
       "       [  848],\n",
       "       [ 1342],\n",
       "       [ 1535],\n",
       "       [ 1663],\n",
       "       [ 2008],\n",
       "       [ 1570],\n",
       "       [  546],\n",
       "       [ 9690],\n",
       "       [  922],\n",
       "       [ 2055],\n",
       "       [  922],\n",
       "       [  816],\n",
       "       [  535],\n",
       "       [  679],\n",
       "       [ 1567],\n",
       "       [  440],\n",
       "       [  553],\n",
       "       [ 5558],\n",
       "       [ 1534],\n",
       "       [18916],\n",
       "       [ 3326],\n",
       "       [  692],\n",
       "       [ 1130],\n",
       "       [ 1598],\n",
       "       [  472],\n",
       "       [ 1861],\n",
       "       [ 1032],\n",
       "       [ 2816],\n",
       "       [ 1815],\n",
       "       [ 1084],\n",
       "       [ 2140],\n",
       "       [ 2764],\n",
       "       [  783],\n",
       "       [ 1789],\n",
       "       [  553],\n",
       "       [ 1617],\n",
       "       [  891],\n",
       "       [ 2744],\n",
       "       [  697],\n",
       "       [  627],\n",
       "       [ 1003],\n",
       "       [ 4678],\n",
       "       [ 1733],\n",
       "       [ 1187],\n",
       "       [  776],\n",
       "       [ 1150],\n",
       "       [ 2487],\n",
       "       [ 1370],\n",
       "       [ 2791],\n",
       "       [  860],\n",
       "       [  821],\n",
       "       [ 1339],\n",
       "       [ 4664],\n",
       "       [ 1595],\n",
       "       [  804],\n",
       "       [  984],\n",
       "       [  926],\n",
       "       [ 1857],\n",
       "       [ 1292],\n",
       "       [ 2423],\n",
       "       [ 1327],\n",
       "       [ 1657],\n",
       "       [ 1489],\n",
       "       [ 4968],\n",
       "       [  911],\n",
       "       [  713],\n",
       "       [  956],\n",
       "       [  594],\n",
       "       [  604],\n",
       "       [ 4708],\n",
       "       [  825],\n",
       "       [ 1714],\n",
       "       [ 1491],\n",
       "       [ 1148],\n",
       "       [ 1390],\n",
       "       [ 1025],\n",
       "       [ 1518],\n",
       "       [ 1860],\n",
       "       [  921],\n",
       "       [ 1224],\n",
       "       [  438],\n",
       "       [  585],\n",
       "       [ 2471],\n",
       "       [  407],\n",
       "       [ 7625],\n",
       "       [ 1937],\n",
       "       [ 4146],\n",
       "       [ 1114],\n",
       "       [ 1000],\n",
       "       [  758],\n",
       "       [  484],\n",
       "       [ 1613],\n",
       "       [ 1519],\n",
       "       [ 1515],\n",
       "       [ 4570],\n",
       "       [ 1465],\n",
       "       [ 6167],\n",
       "       [ 1456],\n",
       "       [ 1301],\n",
       "       [  820],\n",
       "       [  501],\n",
       "       [ 1422],\n",
       "       [  471],\n",
       "       [  781],\n",
       "       [ 2242],\n",
       "       [ 1701],\n",
       "       [ 1926],\n",
       "       [ 1210],\n",
       "       [ 1449],\n",
       "       [ 1932],\n",
       "       [ 1626],\n",
       "       [ 1070],\n",
       "       [ 1005],\n",
       "       [  568],\n",
       "       [  951],\n",
       "       [ 1259],\n",
       "       [ 2561],\n",
       "       [ 1067],\n",
       "       [ 1574],\n",
       "       [ 2670],\n",
       "       [ 1620]], dtype=int64)"
      ]
     },
     "execution_count": 262,
     "metadata": {},
     "output_type": "execute_result"
    }
   ],
   "source": [
    "y_test_fs"
   ]
  },
  {
   "cell_type": "code",
   "execution_count": 263,
   "metadata": {},
   "outputs": [
    {
     "data": {
      "text/html": [
       "<div>\n",
       "<style scoped>\n",
       "    .dataframe tbody tr th:only-of-type {\n",
       "        vertical-align: middle;\n",
       "    }\n",
       "\n",
       "    .dataframe tbody tr th {\n",
       "        vertical-align: top;\n",
       "    }\n",
       "\n",
       "    .dataframe thead th {\n",
       "        text-align: right;\n",
       "    }\n",
       "</style>\n",
       "<table border=\"1\" class=\"dataframe\">\n",
       "  <thead>\n",
       "    <tr style=\"text-align: right;\">\n",
       "      <th></th>\n",
       "      <th>prediction</th>\n",
       "      <th>distance</th>\n",
       "      <th>speed</th>\n",
       "    </tr>\n",
       "  </thead>\n",
       "  <tbody>\n",
       "    <tr>\n",
       "      <th>561</th>\n",
       "      <td>1.0</td>\n",
       "      <td>1.523243</td>\n",
       "      <td>6.281415</td>\n",
       "    </tr>\n",
       "    <tr>\n",
       "      <th>562</th>\n",
       "      <td>1.0</td>\n",
       "      <td>3.572327</td>\n",
       "      <td>12.809141</td>\n",
       "    </tr>\n",
       "    <tr>\n",
       "      <th>563</th>\n",
       "      <td>1.0</td>\n",
       "      <td>8.946073</td>\n",
       "      <td>15.234562</td>\n",
       "    </tr>\n",
       "    <tr>\n",
       "      <th>564</th>\n",
       "      <td>1.0</td>\n",
       "      <td>0.225483</td>\n",
       "      <td>1.268340</td>\n",
       "    </tr>\n",
       "    <tr>\n",
       "      <th>565</th>\n",
       "      <td>1.0</td>\n",
       "      <td>2.669576</td>\n",
       "      <td>8.642512</td>\n",
       "    </tr>\n",
       "    <tr>\n",
       "      <th>...</th>\n",
       "      <td>...</td>\n",
       "      <td>...</td>\n",
       "      <td>...</td>\n",
       "    </tr>\n",
       "    <tr>\n",
       "      <th>743</th>\n",
       "      <td>1.0</td>\n",
       "      <td>13.171242</td>\n",
       "      <td>37.073083</td>\n",
       "    </tr>\n",
       "    <tr>\n",
       "      <th>744</th>\n",
       "      <td>1.0</td>\n",
       "      <td>1.649732</td>\n",
       "      <td>4.090244</td>\n",
       "    </tr>\n",
       "    <tr>\n",
       "      <th>745</th>\n",
       "      <td>1.0</td>\n",
       "      <td>2.158493</td>\n",
       "      <td>11.632598</td>\n",
       "    </tr>\n",
       "    <tr>\n",
       "      <th>746</th>\n",
       "      <td>1.0</td>\n",
       "      <td>24.625431</td>\n",
       "      <td>43.118459</td>\n",
       "    </tr>\n",
       "    <tr>\n",
       "      <th>747</th>\n",
       "      <td>1.0</td>\n",
       "      <td>3.451765</td>\n",
       "      <td>9.925204</td>\n",
       "    </tr>\n",
       "  </tbody>\n",
       "</table>\n",
       "<p>187 rows × 3 columns</p>\n",
       "</div>"
      ],
      "text/plain": [
       "     prediction   distance      speed\n",
       "561         1.0   1.523243   6.281415\n",
       "562         1.0   3.572327  12.809141\n",
       "563         1.0   8.946073  15.234562\n",
       "564         1.0   0.225483   1.268340\n",
       "565         1.0   2.669576   8.642512\n",
       "..          ...        ...        ...\n",
       "743         1.0  13.171242  37.073083\n",
       "744         1.0   1.649732   4.090244\n",
       "745         1.0   2.158493  11.632598\n",
       "746         1.0  24.625431  43.118459\n",
       "747         1.0   3.451765   9.925204\n",
       "\n",
       "[187 rows x 3 columns]"
      ]
     },
     "execution_count": 263,
     "metadata": {},
     "output_type": "execute_result"
    }
   ],
   "source": [
    "df = pd.DataFrame(X_train_fs, \n",
    "             columns=['prediction','distance','speed'])\n",
    "df=df[-187:]\n",
    "df"
   ]
  },
  {
   "cell_type": "code",
   "execution_count": 264,
   "metadata": {},
   "outputs": [
    {
     "name": "stdout",
     "output_type": "stream",
     "text": [
      "Changing class type to XGBRegressionExplainer...\n",
      "Generating self.shap_explainer = shap.TreeExplainer(model)\n"
     ]
    }
   ],
   "source": [
    "from explainerdashboard import RegressionExplainer\n",
    "\n",
    "explainer = RegressionExplainer(model, X_test_fs, y_test_fs)"
   ]
  },
  {
   "cell_type": "code",
   "execution_count": 265,
   "metadata": {
    "scrolled": true
   },
   "outputs": [
    {
     "name": "stdout",
     "output_type": "stream",
     "text": [
      "Building ExplainerDashboard..\n",
      "Detected notebook environment, consider setting mode='external', mode='inline' or mode='jupyterlab' to keep the notebook interactive while the dashboard is running...\n",
      "Warning: calculating shap interaction values can be slow! Pass shap_interaction=False to remove interactions tab.\n",
      "Generating layout...\n",
      "Calculating shap values...\n",
      "Calculating predictions...\n",
      "Calculating residuals...\n",
      "Calculating absolute residuals...\n",
      "Generating xgboost model dump...\n",
      "Calculating dependencies...\n",
      "Calculating importances...\n",
      "Calculating shap interaction values...\n",
      "Reminder: TreeShap computational complexity is O(TLD^2), where T is the number of trees, L is the maximum number of leaves in any tree and D the maximal depth of any tree. So reducing these will speed up the calculation.\n",
      "Calculating ShadowDecTree for each individual decision tree...\n",
      "Reminder: you can store the explainer (including calculated dependencies) with explainer.dump('explainer.joblib') and reload with e.g. ClassifierExplainer.from_file('explainer.joblib')\n",
      "Registering callbacks...\n",
      "Starting ExplainerDashboard on http://192.168.1.20:8050\n",
      "Dash is running on http://0.0.0.0:8050/\n",
      "\n",
      "Dash is running on http://0.0.0.0:8050/\n",
      "\n",
      " * Serving Flask app \"explainerdashboard.dashboards\" (lazy loading)\n",
      " * Environment: production\n",
      "   WARNING: This is a development server. Do not use it in a production deployment.\n",
      "   Use a production WSGI server instead.\n",
      " * Debug mode: off\n"
     ]
    },
    {
     "name": "stderr",
     "output_type": "stream",
     "text": [
      " * Running on http://0.0.0.0:8050/ (Press CTRL+C to quit)\n",
      "192.168.1.20 - - [07/Jun/2021 18:08:25] \"\u001b[37mGET / HTTP/1.1\u001b[0m\" 200 -\n",
      "192.168.1.20 - - [07/Jun/2021 18:08:25] \"\u001b[37mGET /_dash-dependencies HTTP/1.1\u001b[0m\" 200 -\n",
      "192.168.1.20 - - [07/Jun/2021 18:08:25] \"\u001b[37mGET /_dash-layout HTTP/1.1\u001b[0m\" 200 -\n",
      "192.168.1.20 - - [07/Jun/2021 18:08:26] \"\u001b[37mPOST /_dash-update-component HTTP/1.1\u001b[0m\" 200 -\n",
      "192.168.1.20 - - [07/Jun/2021 18:08:26] \"\u001b[37mPOST /_dash-update-component HTTP/1.1\u001b[0m\" 200 -\n",
      "192.168.1.20 - - [07/Jun/2021 18:08:26] \"\u001b[37mPOST /_dash-update-component HTTP/1.1\u001b[0m\" 200 -\n",
      "192.168.1.20 - - [07/Jun/2021 18:08:26] \"\u001b[37mPOST /_dash-update-component HTTP/1.1\u001b[0m\" 200 -\n",
      "192.168.1.20 - - [07/Jun/2021 18:08:26] \"\u001b[37mPOST /_dash-update-component HTTP/1.1\u001b[0m\" 200 -\n",
      "192.168.1.20 - - [07/Jun/2021 18:08:26] \"\u001b[37mPOST /_dash-update-component HTTP/1.1\u001b[0m\" 200 -\n",
      "192.168.1.20 - - [07/Jun/2021 18:08:26] \"\u001b[37mPOST /_dash-update-component HTTP/1.1\u001b[0m\" 200 -\n",
      "192.168.1.20 - - [07/Jun/2021 18:08:26] \"\u001b[37mPOST /_dash-update-component HTTP/1.1\u001b[0m\" 200 -\n",
      "192.168.1.20 - - [07/Jun/2021 18:08:26] \"\u001b[37mPOST /_dash-update-component HTTP/1.1\u001b[0m\" 200 -\n",
      "192.168.1.20 - - [07/Jun/2021 18:08:26] \"\u001b[37mPOST /_dash-update-component HTTP/1.1\u001b[0m\" 200 -\n",
      "192.168.1.20 - - [07/Jun/2021 18:08:26] \"\u001b[37mPOST /_dash-update-component HTTP/1.1\u001b[0m\" 200 -\n",
      "192.168.1.20 - - [07/Jun/2021 18:08:26] \"\u001b[37mPOST /_dash-update-component HTTP/1.1\u001b[0m\" 200 -\n",
      "192.168.1.20 - - [07/Jun/2021 18:08:26] \"\u001b[37mPOST /_dash-update-component HTTP/1.1\u001b[0m\" 200 -\n",
      "192.168.1.20 - - [07/Jun/2021 18:08:26] \"\u001b[37mPOST /_dash-update-component HTTP/1.1\u001b[0m\" 200 -\n",
      "192.168.1.20 - - [07/Jun/2021 18:08:26] \"\u001b[37mPOST /_dash-update-component HTTP/1.1\u001b[0m\" 200 -\n",
      "192.168.1.20 - - [07/Jun/2021 18:08:26] \"\u001b[37mPOST /_dash-update-component HTTP/1.1\u001b[0m\" 200 -\n",
      "192.168.1.20 - - [07/Jun/2021 18:08:26] \"\u001b[37mPOST /_dash-update-component HTTP/1.1\u001b[0m\" 200 -\n",
      "192.168.1.20 - - [07/Jun/2021 18:08:26] \"\u001b[37mPOST /_dash-update-component HTTP/1.1\u001b[0m\" 200 -\n",
      "192.168.1.20 - - [07/Jun/2021 18:08:26] \"\u001b[37mPOST /_dash-update-component HTTP/1.1\u001b[0m\" 200 -\n",
      "192.168.1.20 - - [07/Jun/2021 18:08:26] \"\u001b[37mPOST /_dash-update-component HTTP/1.1\u001b[0m\" 200 -\n",
      "192.168.1.20 - - [07/Jun/2021 18:08:26] \"\u001b[37mPOST /_dash-update-component HTTP/1.1\u001b[0m\" 200 -\n",
      "192.168.1.20 - - [07/Jun/2021 18:08:26] \"\u001b[37mPOST /_dash-update-component HTTP/1.1\u001b[0m\" 204 -\n",
      "192.168.1.20 - - [07/Jun/2021 18:08:26] \"\u001b[37mPOST /_dash-update-component HTTP/1.1\u001b[0m\" 204 -\n",
      "192.168.1.20 - - [07/Jun/2021 18:08:26] \"\u001b[37mPOST /_dash-update-component HTTP/1.1\u001b[0m\" 200 -\n",
      "192.168.1.20 - - [07/Jun/2021 18:08:26] \"\u001b[37mPOST /_dash-update-component HTTP/1.1\u001b[0m\" 200 -\n",
      "192.168.1.20 - - [07/Jun/2021 18:08:26] \"\u001b[37mPOST /_dash-update-component HTTP/1.1\u001b[0m\" 200 -\n",
      "192.168.1.20 - - [07/Jun/2021 18:08:26] \"\u001b[37mPOST /_dash-update-component HTTP/1.1\u001b[0m\" 200 -\n",
      "192.168.1.20 - - [07/Jun/2021 18:08:26] \"\u001b[37mPOST /_dash-update-component HTTP/1.1\u001b[0m\" 204 -\n",
      "192.168.1.20 - - [07/Jun/2021 18:08:26] \"\u001b[37mPOST /_dash-update-component HTTP/1.1\u001b[0m\" 204 -\n",
      "192.168.1.20 - - [07/Jun/2021 18:08:26] \"\u001b[37mPOST /_dash-update-component HTTP/1.1\u001b[0m\" 200 -\n",
      "192.168.1.20 - - [07/Jun/2021 18:08:26] \"\u001b[37mPOST /_dash-update-component HTTP/1.1\u001b[0m\" 200 -\n",
      "192.168.1.20 - - [07/Jun/2021 18:08:26] \"\u001b[37mPOST /_dash-update-component HTTP/1.1\u001b[0m\" 200 -\n",
      "192.168.1.20 - - [07/Jun/2021 18:08:26] \"\u001b[37mPOST /_dash-update-component HTTP/1.1\u001b[0m\" 200 -\n",
      "192.168.1.20 - - [07/Jun/2021 18:08:27] \"\u001b[37mPOST /_dash-update-component HTTP/1.1\u001b[0m\" 200 -\n",
      "192.168.1.20 - - [07/Jun/2021 18:08:27] \"\u001b[37mPOST /_dash-update-component HTTP/1.1\u001b[0m\" 200 -\n",
      "192.168.1.20 - - [07/Jun/2021 18:08:27] \"\u001b[37mPOST /_dash-update-component HTTP/1.1\u001b[0m\" 200 -\n",
      "192.168.1.20 - - [07/Jun/2021 18:08:27] \"\u001b[37mPOST /_dash-update-component HTTP/1.1\u001b[0m\" 200 -\n",
      "192.168.1.20 - - [07/Jun/2021 18:08:27] \"\u001b[37mPOST /_dash-update-component HTTP/1.1\u001b[0m\" 200 -\n",
      "192.168.1.20 - - [07/Jun/2021 18:08:27] \"\u001b[37mPOST /_dash-update-component HTTP/1.1\u001b[0m\" 200 -\n",
      "192.168.1.20 - - [07/Jun/2021 18:08:27] \"\u001b[37mPOST /_dash-update-component HTTP/1.1\u001b[0m\" 200 -\n",
      "192.168.1.20 - - [07/Jun/2021 18:08:27] \"\u001b[37mPOST /_dash-update-component HTTP/1.1\u001b[0m\" 200 -\n",
      "192.168.1.20 - - [07/Jun/2021 18:08:27] \"\u001b[37mPOST /_dash-update-component HTTP/1.1\u001b[0m\" 200 -\n",
      "192.168.1.20 - - [07/Jun/2021 18:08:27] \"\u001b[37mPOST /_dash-update-component HTTP/1.1\u001b[0m\" 200 -\n",
      "192.168.1.20 - - [07/Jun/2021 18:08:27] \"\u001b[37mPOST /_dash-update-component HTTP/1.1\u001b[0m\" 200 -\n",
      "192.168.1.20 - - [07/Jun/2021 18:08:27] \"\u001b[37mPOST /_dash-update-component HTTP/1.1\u001b[0m\" 200 -\n",
      "192.168.1.20 - - [07/Jun/2021 18:08:27] \"\u001b[37mPOST /_dash-update-component HTTP/1.1\u001b[0m\" 200 -\n",
      "192.168.1.20 - - [07/Jun/2021 18:08:27] \"\u001b[37mPOST /_dash-update-component HTTP/1.1\u001b[0m\" 200 -\n",
      "192.168.1.20 - - [07/Jun/2021 18:08:27] \"\u001b[37mPOST /_dash-update-component HTTP/1.1\u001b[0m\" 200 -\n",
      "192.168.1.20 - - [07/Jun/2021 18:08:27] \"\u001b[37mPOST /_dash-update-component HTTP/1.1\u001b[0m\" 200 -\n",
      "192.168.1.20 - - [07/Jun/2021 18:08:27] \"\u001b[37mPOST /_dash-update-component HTTP/1.1\u001b[0m\" 200 -\n",
      "192.168.1.20 - - [07/Jun/2021 18:08:27] \"\u001b[37mPOST /_dash-update-component HTTP/1.1\u001b[0m\" 200 -\n",
      "192.168.1.20 - - [07/Jun/2021 18:08:27] \"\u001b[37mPOST /_dash-update-component HTTP/1.1\u001b[0m\" 200 -\n",
      "192.168.1.20 - - [07/Jun/2021 18:08:27] \"\u001b[37mPOST /_dash-update-component HTTP/1.1\u001b[0m\" 200 -\n",
      "192.168.1.20 - - [07/Jun/2021 18:08:27] \"\u001b[37mPOST /_dash-update-component HTTP/1.1\u001b[0m\" 200 -\n",
      "192.168.1.20 - - [07/Jun/2021 18:08:27] \"\u001b[37mPOST /_dash-update-component HTTP/1.1\u001b[0m\" 200 -\n",
      "192.168.1.20 - - [07/Jun/2021 18:08:27] \"\u001b[37mPOST /_dash-update-component HTTP/1.1\u001b[0m\" 204 -\n",
      "192.168.1.20 - - [07/Jun/2021 18:08:27] \"\u001b[37mPOST /_dash-update-component HTTP/1.1\u001b[0m\" 200 -\n",
      "192.168.1.20 - - [07/Jun/2021 18:08:27] \"\u001b[37mPOST /_dash-update-component HTTP/1.1\u001b[0m\" 200 -\n",
      "192.168.1.20 - - [07/Jun/2021 18:08:27] \"\u001b[37mPOST /_dash-update-component HTTP/1.1\u001b[0m\" 200 -\n",
      "192.168.1.20 - - [07/Jun/2021 18:08:27] \"\u001b[37mPOST /_dash-update-component HTTP/1.1\u001b[0m\" 204 -\n",
      "192.168.1.20 - - [07/Jun/2021 18:08:27] \"\u001b[37mPOST /_dash-update-component HTTP/1.1\u001b[0m\" 200 -\n",
      "192.168.1.20 - - [07/Jun/2021 18:08:27] \"\u001b[37mPOST /_dash-update-component HTTP/1.1\u001b[0m\" 200 -\n",
      "192.168.1.20 - - [07/Jun/2021 18:08:27] \"\u001b[37mPOST /_dash-update-component HTTP/1.1\u001b[0m\" 200 -\n",
      "192.168.1.20 - - [07/Jun/2021 18:08:27] \"\u001b[37mPOST /_dash-update-component HTTP/1.1\u001b[0m\" 200 -\n",
      "192.168.1.20 - - [07/Jun/2021 18:08:27] \"\u001b[37mPOST /_dash-update-component HTTP/1.1\u001b[0m\" 200 -\n",
      "192.168.1.20 - - [07/Jun/2021 18:08:27] \"\u001b[37mPOST /_dash-update-component HTTP/1.1\u001b[0m\" 200 -\n",
      "192.168.1.20 - - [07/Jun/2021 18:08:27] \"\u001b[37mPOST /_dash-update-component HTTP/1.1\u001b[0m\" 200 -\n",
      "192.168.1.20 - - [07/Jun/2021 18:08:27] \"\u001b[37mPOST /_dash-update-component HTTP/1.1\u001b[0m\" 200 -\n",
      "192.168.1.20 - - [07/Jun/2021 18:08:27] \"\u001b[37mPOST /_dash-update-component HTTP/1.1\u001b[0m\" 200 -\n",
      "192.168.1.20 - - [07/Jun/2021 18:08:28] \"\u001b[37mPOST /_dash-update-component HTTP/1.1\u001b[0m\" 200 -\n",
      "192.168.1.20 - - [07/Jun/2021 18:08:28] \"\u001b[37mPOST /_dash-update-component HTTP/1.1\u001b[0m\" 200 -\n",
      "192.168.1.20 - - [07/Jun/2021 18:08:28] \"\u001b[37mPOST /_dash-update-component HTTP/1.1\u001b[0m\" 200 -\n",
      "192.168.1.20 - - [07/Jun/2021 18:08:29] \"\u001b[37mPOST /_dash-update-component HTTP/1.1\u001b[0m\" 200 -\n"
     ]
    }
   ],
   "source": [
    "from explainerdashboard import ExplainerDashboard\n",
    "ExplainerDashboard(explainer).run()"
   ]
  },
  {
   "cell_type": "markdown",
   "metadata": {},
   "source": [
    "### Define evaluation metric"
   ]
  },
  {
   "cell_type": "code",
   "execution_count": 74,
   "metadata": {},
   "outputs": [],
   "source": [
    "import pickle\n",
    "filename = \"xgb_model.sav\"\n",
    "pickle.dump(regressor_xgb, open(filename, 'wb'))"
   ]
  },
  {
   "cell_type": "raw",
   "metadata": {},
   "source": [
    "test.head()"
   ]
  },
  {
   "cell_type": "code",
   "execution_count": 77,
   "metadata": {},
   "outputs": [
    {
     "name": "stdout",
     "output_type": "stream",
     "text": [
      "[15:51:35] WARNING: C:/Users/Administrator/workspace/xgboost-win64_release_1.4.0/src/objective/regression_obj.cu:171: reg:linear is now deprecated in favor of reg:squarederror.\n"
     ]
    }
   ],
   "source": [
    "import xgboost as xgb\n",
    "from sklearn.metrics import mean_squared_error\n",
    "data_dmatrix = xgb.DMatrix(data=X,label=y)\n",
    "X_train, X_test, y_train, y_test = train_test_split(X, y, test_size=0.2, random_state=123)\n",
    "xg_reg = xgb.XGBRegressor(objective ='reg:linear', colsample_bytree = 0.3, learning_rate = 0.1,\n",
    "                max_depth = 5, alpha = 10, n_estimators = 10)\n",
    "xg_reg.fit(X_train,y_train)\n",
    "\n",
    "preds = xg_reg.predict(X_test)"
   ]
  },
  {
   "cell_type": "code",
   "execution_count": 78,
   "metadata": {},
   "outputs": [
    {
     "name": "stdout",
     "output_type": "stream",
     "text": [
      "RMSE: 2325.579628\n"
     ]
    }
   ],
   "source": [
    "rmse = np.sqrt(mean_squared_error(y_test, preds))\n",
    "print(\"RMSE: %f\" % (rmse))"
   ]
  },
  {
   "cell_type": "code",
   "execution_count": 79,
   "metadata": {},
   "outputs": [
    {
     "name": "stdout",
     "output_type": "stream",
     "text": [
      "[15:51:39] WARNING: C:/Users/Administrator/workspace/xgboost-win64_release_1.4.0/src/objective/regression_obj.cu:171: reg:linear is now deprecated in favor of reg:squarederror.\n",
      "[15:51:39] WARNING: C:/Users/Administrator/workspace/xgboost-win64_release_1.4.0/src/objective/regression_obj.cu:171: reg:linear is now deprecated in favor of reg:squarederror.\n",
      "[15:51:39] WARNING: C:/Users/Administrator/workspace/xgboost-win64_release_1.4.0/src/objective/regression_obj.cu:171: reg:linear is now deprecated in favor of reg:squarederror.\n",
      "[15:51:39] WARNING: C:/Users/Administrator/workspace/xgboost-win64_release_1.4.0/src/objective/regression_obj.cu:171: reg:linear is now deprecated in favor of reg:squarederror.\n"
     ]
    }
   ],
   "source": [
    "params = {\"objective\":\"reg:linear\",'colsample_bytree': 0.3,'learning_rate': 0.1,\n",
    "                'max_depth': 5, 'alpha': 10}\n",
    "\n",
    "cv_results = xgb.cv(dtrain=data_dmatrix, params=params, nfold=3,\n",
    "                    num_boost_round=50,early_stopping_rounds=10,metrics=\"rmse\", as_pandas=True, seed=123)\n",
    "xg_reg = xgb.train(params=params, dtrain=data_dmatrix, num_boost_round=10)"
   ]
  },
  {
   "cell_type": "code",
   "execution_count": 81,
   "metadata": {},
   "outputs": [
    {
     "data": {
      "image/png": "[encoded data removed]",
      "text/plain": [
       "<Figure size 432x288 with 1 Axes>"
      ]
     },
     "metadata": {
      "needs_background": "light"
     },
     "output_type": "display_data"
    }
   ],
   "source": [
    "xgb.plot_importance(xg_reg)\n",
    "plt.rcParams['figure.figsize'] = [5, 5]\n",
    "plt.show()"
   ]
  },
  {
   "cell_type": "code",
   "execution_count": null,
   "metadata": {},
   "outputs": [],
   "source": []
  }
 ],
 "metadata": {
  "kernelspec": {
   "display_name": "Python 3",
   "language": "python",
   "name": "python3"
  },
  "language_info": {
   "codemirror_mode": {
    "name": "ipython",
    "version": 3
   },
   "file_extension": ".py",
   "mimetype": "text/x-python",
   "name": "python",
   "nbconvert_exporter": "python",
   "pygments_lexer": "ipython3",
   "version": "3.8.8"
  }
 },
 "nbformat": 4,
 "nbformat_minor": 4
}
