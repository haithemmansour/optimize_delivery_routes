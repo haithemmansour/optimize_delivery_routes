{
 "cells": [
  {
   "cell_type": "markdown",
   "metadata": {},
   "source": [
    "# Trip Duration delivery Prediction : "
   ]
  },
  {
   "cell_type": "markdown",
   "metadata": {},
   "source": [
    "## Import libraries : "
   ]
  },
  {
   "cell_type": "code",
   "execution_count": 1,
   "metadata": {},
   "outputs": [],
   "source": [
    "import pandas as pd\n",
    "from sqlalchemy import create_engine\n",
    "#import pymysql\n",
    "import numpy as np \n",
    "import seaborn as sns\n",
    "import matplotlib.pyplot as plt\n",
    "from sklearn.impute import SimpleImputer\n",
    "from sklearn.preprocessing import StandardScaler\n",
    "from sklearn.preprocessing import LabelEncoder, OneHotEncoder\n",
    "\n",
    "import datetime as dt\n",
    "from sklearn.linear_model import LinearRegression\n",
    "from sklearn.ensemble import RandomForestRegressor\n",
    "from xgboost import XGBRegressor\n",
    "from sklearn import metrics\n",
    "from sklearn.model_selection import train_test_split, GridSearchCV\n",
    "from haversine import haversine\n",
    "import statsmodels.formula.api as sm\n",
    "from sklearn.model_selection import learning_curve\n",
    "from sklearn.model_selection import ShuffleSplit\n",
    "import warnings; warnings.simplefilter('ignore')"
   ]
  },
  {
   "cell_type": "markdown",
   "metadata": {},
   "source": [
    "## Import Dataset :"
   ]
  },
  {
   "cell_type": "code",
   "execution_count": 82,
   "metadata": {
    "scrolled": false
   },
   "outputs": [
    {
     "data": {
      "text/html": [
       "<div>\n",
       "<style scoped>\n",
       "    .dataframe tbody tr th:only-of-type {\n",
       "        vertical-align: middle;\n",
       "    }\n",
       "\n",
       "    .dataframe tbody tr th {\n",
       "        vertical-align: top;\n",
       "    }\n",
       "\n",
       "    .dataframe thead th {\n",
       "        text-align: right;\n",
       "    }\n",
       "</style>\n",
       "<table border=\"1\" class=\"dataframe\">\n",
       "  <thead>\n",
       "    <tr style=\"text-align: right;\">\n",
       "      <th></th>\n",
       "      <th>Date</th>\n",
       "      <th>Round_Name</th>\n",
       "      <th>realInfoHasPrepared</th>\n",
       "      <th>Expediteur</th>\n",
       "      <th>ID_de_la_tache</th>\n",
       "      <th>Type_de_Service</th>\n",
       "      <th>sourceSequence</th>\n",
       "      <th>SourceRealSequence</th>\n",
       "      <th>sourceClosureDate</th>\n",
       "      <th>TaskDurationSec</th>\n",
       "      <th>...</th>\n",
       "      <th>timeWindowStop</th>\n",
       "      <th>TourneeId</th>\n",
       "      <th>TaskId</th>\n",
       "      <th>itemId</th>\n",
       "      <th>vehiculeId</th>\n",
       "      <th>driver_id</th>\n",
       "      <th>pickup_longitude</th>\n",
       "      <th>pickup_latitude</th>\n",
       "      <th>dropoff_longitude</th>\n",
       "      <th>dropoff_latitude</th>\n",
       "    </tr>\n",
       "  </thead>\n",
       "  <tbody>\n",
       "    <tr>\n",
       "      <th>0</th>\n",
       "      <td>2021-02-25</td>\n",
       "      <td>R63</td>\n",
       "      <td>2021-02-25 05:35:58.813000+00:00</td>\n",
       "      <td>C149</td>\n",
       "      <td>DEL-000330205</td>\n",
       "      <td>LIVRAISON</td>\n",
       "      <td>1</td>\n",
       "      <td>1</td>\n",
       "      <td>2021-02-25 06:47:25.343000+00:00</td>\n",
       "      <td>4287</td>\n",
       "      <td>...</td>\n",
       "      <td>2021-02-25T09:00:00.000Z</td>\n",
       "      <td>603636c63ab20cdd4eb037da</td>\n",
       "      <td>6035ed49da48e783a5a4272d</td>\n",
       "      <td>6035ed49da48e73462a4272f</td>\n",
       "      <td>603638a14e448f8068e8b90c</td>\n",
       "      <td>600eb655b8410bf293e8530c</td>\n",
       "      <td>2.506612</td>\n",
       "      <td>48.812136</td>\n",
       "      <td>2.406808</td>\n",
       "      <td>48.835986</td>\n",
       "    </tr>\n",
       "    <tr>\n",
       "      <th>1</th>\n",
       "      <td>2021-02-25</td>\n",
       "      <td>R63</td>\n",
       "      <td>2021-02-25 05:35:58.813000+00:00</td>\n",
       "      <td>C149</td>\n",
       "      <td>DEL-000332033</td>\n",
       "      <td>LIVRAISON</td>\n",
       "      <td>2</td>\n",
       "      <td>2</td>\n",
       "      <td>2021-02-25 07:27:32.410000+00:00</td>\n",
       "      <td>2407</td>\n",
       "      <td>...</td>\n",
       "      <td>2021-02-25T09:00:00.000Z</td>\n",
       "      <td>603636c63ab20cdd4eb037da</td>\n",
       "      <td>603623a8a559e3b5d39b0d98</td>\n",
       "      <td>603623a8a559e311759b0d9a</td>\n",
       "      <td>603638a14e448f8068e8b90c</td>\n",
       "      <td>600eb655b8410bf293e8530c</td>\n",
       "      <td>2.406808</td>\n",
       "      <td>48.835986</td>\n",
       "      <td>2.418641</td>\n",
       "      <td>48.837413</td>\n",
       "    </tr>\n",
       "    <tr>\n",
       "      <th>2</th>\n",
       "      <td>2021-02-25</td>\n",
       "      <td>R63</td>\n",
       "      <td>2021-02-25 05:35:58.813000+00:00</td>\n",
       "      <td>C149</td>\n",
       "      <td>DEL-000326209</td>\n",
       "      <td>LIVRAISON</td>\n",
       "      <td>3</td>\n",
       "      <td>3</td>\n",
       "      <td>2021-02-25 07:39:47.322000+00:00</td>\n",
       "      <td>735</td>\n",
       "      <td>...</td>\n",
       "      <td>2021-02-25T09:00:00.000Z</td>\n",
       "      <td>603636c63ab20cdd4eb037da</td>\n",
       "      <td>6035ed4779d70a3f30874242</td>\n",
       "      <td>6035ed4779d70a8891874244</td>\n",
       "      <td>603638a14e448f8068e8b90c</td>\n",
       "      <td>600eb655b8410bf293e8530c</td>\n",
       "      <td>2.418641</td>\n",
       "      <td>48.837413</td>\n",
       "      <td>2.436830</td>\n",
       "      <td>48.851986</td>\n",
       "    </tr>\n",
       "    <tr>\n",
       "      <th>3</th>\n",
       "      <td>2021-02-25</td>\n",
       "      <td>R63</td>\n",
       "      <td>2021-02-25 05:35:58.813000+00:00</td>\n",
       "      <td>C149</td>\n",
       "      <td>DEL-000332455</td>\n",
       "      <td>LIVRAISON</td>\n",
       "      <td>4</td>\n",
       "      <td>4</td>\n",
       "      <td>2021-02-25 07:56:09.386000+00:00</td>\n",
       "      <td>982</td>\n",
       "      <td>...</td>\n",
       "      <td>2021-02-25T09:00:00.000Z</td>\n",
       "      <td>603636c63ab20cdd4eb037da</td>\n",
       "      <td>603623ab3bec54467322afa2</td>\n",
       "      <td>603623ab3bec54040b22afa4</td>\n",
       "      <td>603638a14e448f8068e8b90c</td>\n",
       "      <td>600eb655b8410bf293e8530c</td>\n",
       "      <td>2.436830</td>\n",
       "      <td>48.851986</td>\n",
       "      <td>2.447442</td>\n",
       "      <td>48.849543</td>\n",
       "    </tr>\n",
       "    <tr>\n",
       "      <th>4</th>\n",
       "      <td>2021-02-25</td>\n",
       "      <td>R63</td>\n",
       "      <td>2021-02-25 05:35:58.813000+00:00</td>\n",
       "      <td>C149</td>\n",
       "      <td>DEL-000331055</td>\n",
       "      <td>LIVRAISON</td>\n",
       "      <td>5</td>\n",
       "      <td>5</td>\n",
       "      <td>2021-02-25 08:07:27.695000+00:00</td>\n",
       "      <td>678</td>\n",
       "      <td>...</td>\n",
       "      <td>2021-02-25T09:00:00.000Z</td>\n",
       "      <td>603636c63ab20cdd4eb037da</td>\n",
       "      <td>6035ed4851429d042982f6fd</td>\n",
       "      <td>6035ed4851429d23d682f6ff</td>\n",
       "      <td>603638a14e448f8068e8b90c</td>\n",
       "      <td>600eb655b8410bf293e8530c</td>\n",
       "      <td>2.447442</td>\n",
       "      <td>48.849543</td>\n",
       "      <td>2.448732</td>\n",
       "      <td>48.867005</td>\n",
       "    </tr>\n",
       "  </tbody>\n",
       "</table>\n",
       "<p>5 rows × 36 columns</p>\n",
       "</div>"
      ],
      "text/plain": [
       "        Date Round_Name              realInfoHasPrepared Expediteur  \\\n",
       "0 2021-02-25        R63 2021-02-25 05:35:58.813000+00:00       C149   \n",
       "1 2021-02-25        R63 2021-02-25 05:35:58.813000+00:00       C149   \n",
       "2 2021-02-25        R63 2021-02-25 05:35:58.813000+00:00       C149   \n",
       "3 2021-02-25        R63 2021-02-25 05:35:58.813000+00:00       C149   \n",
       "4 2021-02-25        R63 2021-02-25 05:35:58.813000+00:00       C149   \n",
       "\n",
       "  ID_de_la_tache Type_de_Service  sourceSequence  SourceRealSequence  \\\n",
       "0  DEL-000330205       LIVRAISON               1                   1   \n",
       "1  DEL-000332033       LIVRAISON               2                   2   \n",
       "2  DEL-000326209       LIVRAISON               3                   3   \n",
       "3  DEL-000332455       LIVRAISON               4                   4   \n",
       "4  DEL-000331055       LIVRAISON               5                   5   \n",
       "\n",
       "                 sourceClosureDate  TaskDurationSec  ...  \\\n",
       "0 2021-02-25 06:47:25.343000+00:00             4287  ...   \n",
       "1 2021-02-25 07:27:32.410000+00:00             2407  ...   \n",
       "2 2021-02-25 07:39:47.322000+00:00              735  ...   \n",
       "3 2021-02-25 07:56:09.386000+00:00              982  ...   \n",
       "4 2021-02-25 08:07:27.695000+00:00              678  ...   \n",
       "\n",
       "             timeWindowStop                 TourneeId  \\\n",
       "0  2021-02-25T09:00:00.000Z  603636c63ab20cdd4eb037da   \n",
       "1  2021-02-25T09:00:00.000Z  603636c63ab20cdd4eb037da   \n",
       "2  2021-02-25T09:00:00.000Z  603636c63ab20cdd4eb037da   \n",
       "3  2021-02-25T09:00:00.000Z  603636c63ab20cdd4eb037da   \n",
       "4  2021-02-25T09:00:00.000Z  603636c63ab20cdd4eb037da   \n",
       "\n",
       "                     TaskId                    itemId  \\\n",
       "0  6035ed49da48e783a5a4272d  6035ed49da48e73462a4272f   \n",
       "1  603623a8a559e3b5d39b0d98  603623a8a559e311759b0d9a   \n",
       "2  6035ed4779d70a3f30874242  6035ed4779d70a8891874244   \n",
       "3  603623ab3bec54467322afa2  603623ab3bec54040b22afa4   \n",
       "4  6035ed4851429d042982f6fd  6035ed4851429d23d682f6ff   \n",
       "\n",
       "                 vehiculeId                 driver_id pickup_longitude  \\\n",
       "0  603638a14e448f8068e8b90c  600eb655b8410bf293e8530c         2.506612   \n",
       "1  603638a14e448f8068e8b90c  600eb655b8410bf293e8530c         2.406808   \n",
       "2  603638a14e448f8068e8b90c  600eb655b8410bf293e8530c         2.418641   \n",
       "3  603638a14e448f8068e8b90c  600eb655b8410bf293e8530c         2.436830   \n",
       "4  603638a14e448f8068e8b90c  600eb655b8410bf293e8530c         2.447442   \n",
       "\n",
       "  pickup_latitude dropoff_longitude dropoff_latitude  \n",
       "0       48.812136          2.406808        48.835986  \n",
       "1       48.835986          2.418641        48.837413  \n",
       "2       48.837413          2.436830        48.851986  \n",
       "3       48.851986          2.447442        48.849543  \n",
       "4       48.849543          2.448732        48.867005  \n",
       "\n",
       "[5 rows x 36 columns]"
      ]
     },
     "execution_count": 82,
     "metadata": {},
     "output_type": "execute_result"
    }
   ],
   "source": [
    "task=pd.read_excel(\"../Clean_Dataset.xlsx\")\n",
    "task[\"Date\"]=pd.to_datetime(task[\"Date\"])\n",
    "task[\"realInfoHasPrepared\"]=pd.to_datetime(task[\"realInfoHasPrepared\"], format='%Y-%m-%d %H:%M:%S')\n",
    "task[\"sourceClosureDate\"]=pd.to_datetime(task[\"sourceClosureDate\"], format='%Y-%m-%d %H:%M:%S')\n",
    "\n",
    "#sort by round Name \n",
    "task['sourceSequence'] = task.groupby(['Round_Name','TourneeId']).cumcount().add(1)\n",
    "\n",
    "# split location Geometry to langitude et latitude: \n",
    "\n",
    "task[\"locationGeometry\"]= task[\"locationGeometry\"].map(lambda x: str(x)[1:-1])\n",
    "local=task[\"locationGeometry\"].tolist()\n",
    "x_data=[]\n",
    "y_data=[]\n",
    "\n",
    "for element in local :\n",
    "    if element and \",\" in element:\n",
    "        x,y = element.split(\",\")\n",
    "        x_data.append(float(x))\n",
    "        y_data.append(float(y))\n",
    "    else :\n",
    "        task.drop(task[task['locationGeometry'] == element].index, inplace=True)\n",
    "#data.drop(['locationGeometry'], axis=1 , inplace=True )\n",
    "#data.drop(['Code_postal'], axis=1 , inplace=True )\n",
    "task[\"pickup_longitude\"]=x_data\n",
    "task[\"pickup_latitude\"]=y_data\n",
    "task[\"dropoff_longitude\"]= task.pickup_longitude.shift(-1)\n",
    "task[\"dropoff_latitude\"]= task.pickup_latitude.shift(-1)\n",
    "     \n",
    "#data[\"sourceClosureDate(i-1)\"]=data.sourceClosureDate.shift(1)\n",
    "task.head()\n"
   ]
  },
  {
   "cell_type": "markdown",
   "metadata": {},
   "source": [
    "## Data Exploration : "
   ]
  },
  {
   "cell_type": "markdown",
   "metadata": {},
   "source": [
    "### add new columns to the dataframe :  "
   ]
  },
  {
   "cell_type": "code",
   "execution_count": 83,
   "metadata": {
    "scrolled": true
   },
   "outputs": [],
   "source": [
    "data=task.dropna(subset=['sourceClosureDate' ],how='any')\n",
    "data.drop(['sourceStreet', 'sourceCity', 'sourceCountry','sourceAddress','TaskId',\n",
    "                'itemId','vehiculeId','driver_id','sourceZip','locationType','Code_postal','ID_de_la_tache','Item___Quantite','Date',\n",
    "           'SourceRealSequence','timeWindowStop','timeWindowStart'], axis=1 , inplace=True )\n",
    "data.dropna(inplace=True)"
   ]
  },
  {
   "cell_type": "code",
   "execution_count": 84,
   "metadata": {},
   "outputs": [],
   "source": [
    "data=data.sort_values(['Round_Name','TourneeId'], ascending=True)\n",
    "data=data.reset_index(drop=True)"
   ]
  },
  {
   "cell_type": "code",
   "execution_count": 85,
   "metadata": {},
   "outputs": [],
   "source": [
    "data['month'] = data.realInfoHasPrepared.dt.month\n",
    "data['weekday_num'] = data.realInfoHasPrepared.dt.weekday\n",
    "data['pickup_hour'] = data.realInfoHasPrepared.dt.hour\n",
    "data['weekday'] = data.realInfoHasPrepared.dt.day_name()"
   ]
  },
  {
   "cell_type": "code",
   "execution_count": 86,
   "metadata": {},
   "outputs": [],
   "source": [
    "def calc_distance(df):\n",
    "    pickup = (df['pickup_latitude'], df['pickup_longitude'])\n",
    "    drop = (df['dropoff_latitude'], df['dropoff_longitude'])\n",
    "    return haversine(pickup, drop)"
   ]
  },
  {
   "cell_type": "code",
   "execution_count": 87,
   "metadata": {
    "scrolled": true
   },
   "outputs": [],
   "source": [
    "data['sourceSequence'] = data.groupby(['Round_Name']).cumcount().add(1)\n",
    "#Calculate distance and assign new column to the dataframe.\n",
    "data['distance'] = data.apply(lambda x: calc_distance(x), axis = 1)\n",
    "data['new'] = pd.Series([0 for x in range(len(data.index))])\n",
    "\n",
    "data.loc[(data.sourceSequence == 1),'new']= 1\n",
    "data[\"new\"]= data.new.shift(-1)\n",
    "data.dropna(inplace=True)\n",
    "data['new'] = data['new'].astype(int)\n",
    "data.loc[(data.new == 1),'distance']= 0\n",
    "#Calculate Speed in km/h for further insights\n",
    "data['speed'] = (data.distance/(data.TaskDurationSec/3600))\n",
    "data = data[data.distance != 0]\n",
    "data=data.reset_index(drop=True)"
   ]
  },
  {
   "cell_type": "code",
   "execution_count": 88,
   "metadata": {},
   "outputs": [],
   "source": [
    "data[\"latitude_difference\"] = data[\"dropoff_latitude\"] - data[\"pickup_latitude\"]\n",
    "data[\"longitude_difference\"] = data[\"dropoff_longitude\"] - data[\"pickup_longitude\"]"
   ]
  },
  {
   "cell_type": "code",
   "execution_count": 89,
   "metadata": {},
   "outputs": [],
   "source": [
    "data.drop_duplicates(subset =\"locationGeometry\",keep = False, inplace = True)"
   ]
  },
  {
   "cell_type": "code",
   "execution_count": 90,
   "metadata": {},
   "outputs": [],
   "source": [
    "data = data.loc[data[\"month\"] >= 3]"
   ]
  },
  {
   "cell_type": "code",
   "execution_count": 91,
   "metadata": {},
   "outputs": [],
   "source": [
    "data.drop(['realInfoHasPrepared', 'sourceSequence', 'locationGeometry','sourceHubName',\n",
    "           'new', 'pickup_latitude', 'pickup_longitude', 'dropoff_latitude','dropoff_longitude', 'sourceClosureDate'], axis=1 , inplace=True )"
   ]
  },
  {
   "cell_type": "code",
   "execution_count": 92,
   "metadata": {
    "scrolled": true
   },
   "outputs": [],
   "source": [
    "#data.dtypes.reset_index()"
   ]
  },
  {
   "cell_type": "code",
   "execution_count": 93,
   "metadata": {},
   "outputs": [],
   "source": [
    "#data.TaskDurationSec.groupby(pd.cut(data.TaskDurationSec, np.arange(1,max(data.TaskDurationSec),3600))).count()"
   ]
  },
  {
   "cell_type": "code",
   "execution_count": 94,
   "metadata": {
    "scrolled": false
   },
   "outputs": [],
   "source": [
    "data = data[data.TaskDurationSec <= 86400]\n",
    "data = data[data.TaskDurationSec >= 400]\n",
    "data[\"sourceSequence\"] = data.groupby(['Round_Name']).cumcount().add(1)\n",
    "data=data.reset_index(drop=True)\n",
    "#data.info()"
   ]
  },
  {
   "cell_type": "code",
   "execution_count": 95,
   "metadata": {},
   "outputs": [
    {
     "name": "stdout",
     "output_type": "stream",
     "text": [
      "<class 'pandas.core.frame.DataFrame'>\n",
      "RangeIndex: 935 entries, 0 to 934\n",
      "Data columns (total 19 columns):\n",
      " #   Column                         Non-Null Count  Dtype  \n",
      "---  ------                         --------------  -----  \n",
      " 0   Round_Name                     935 non-null    object \n",
      " 1   Expediteur                     935 non-null    object \n",
      " 2   Type_de_Service                935 non-null    object \n",
      " 3   TaskDurationSec                935 non-null    int64  \n",
      " 4   Item___Nom_sous_categorie      935 non-null    object \n",
      " 5   Item___Type_unite_manutention  935 non-null    object \n",
      " 6   sourceZone                     935 non-null    object \n",
      " 7   status                         935 non-null    object \n",
      " 8   metadataFACTURATION            935 non-null    object \n",
      " 9   TourneeId                      935 non-null    object \n",
      " 10  month                          935 non-null    int64  \n",
      " 11  weekday_num                    935 non-null    int64  \n",
      " 12  pickup_hour                    935 non-null    int64  \n",
      " 13  weekday                        935 non-null    object \n",
      " 14  distance                       935 non-null    float64\n",
      " 15  speed                          935 non-null    float64\n",
      " 16  latitude_difference            935 non-null    float64\n",
      " 17  longitude_difference           935 non-null    float64\n",
      " 18  sourceSequence                 935 non-null    int64  \n",
      "dtypes: float64(4), int64(5), object(10)\n",
      "memory usage: 138.9+ KB\n"
     ]
    }
   ],
   "source": [
    "data=data.sort_values(\"Round_Name\", ascending=True)\n",
    "data=data.reset_index(drop=True)\n",
    "data.info()"
   ]
  },
  {
   "cell_type": "markdown",
   "metadata": {},
   "source": [
    "# Data Analysis : "
   ]
  },
  {
   "cell_type": "code",
   "execution_count": 96,
   "metadata": {},
   "outputs": [
    {
     "data": {
      "image/png": "[encoded data removed]",
      "text/plain": [
       "<Figure size 360x360 with 1 Axes>"
      ]
     },
     "metadata": {
      "needs_background": "light"
     },
     "output_type": "display_data"
    }
   ],
   "source": [
    "data.TaskDurationSec.groupby(pd.cut(data.TaskDurationSec, np.arange(1,10000,600))).count().plot(kind='barh')\n",
    "plt.xlabel('Trip Counts')\n",
    "plt.ylabel('Trip Duration (seconds)')\n",
    "plt.show()"
   ]
  },
  {
   "cell_type": "code",
   "execution_count": 97,
   "metadata": {},
   "outputs": [
    {
     "data": {
      "image/png": "[encoded data removed]",
      "text/plain": [
       "<Figure size 360x360 with 1 Axes>"
      ]
     },
     "metadata": {
      "needs_background": "light"
     },
     "output_type": "display_data"
    }
   ],
   "source": [
    "sns.countplot(data.Type_de_Service)\n",
    "plt.show()"
   ]
  },
  {
   "cell_type": "code",
   "execution_count": 98,
   "metadata": {},
   "outputs": [
    {
     "data": {
      "image/png": "[encoded data removed]",
      "text/plain": [
       "<Figure size 360x360 with 1 Axes>"
      ]
     },
     "metadata": {
      "needs_background": "light"
     },
     "output_type": "display_data"
    }
   ],
   "source": [
    "sns.countplot(data.status)\n",
    "plt.show()"
   ]
  },
  {
   "cell_type": "code",
   "execution_count": 99,
   "metadata": {},
   "outputs": [
    {
     "data": {
      "image/png": "[encoded data removed]",
      "text/plain": [
       "<Figure size 360x360 with 1 Axes>"
      ]
     },
     "metadata": {
      "needs_background": "light"
     },
     "output_type": "display_data"
    }
   ],
   "source": [
    "sns.countplot(data.Item___Type_unite_manutention)\n",
    "plt.show()"
   ]
  },
  {
   "cell_type": "code",
   "execution_count": 100,
   "metadata": {},
   "outputs": [
    {
     "data": {
      "image/png": "[encoded data removed]",
      "text/plain": [
       "<Figure size 360x360 with 1 Axes>"
      ]
     },
     "metadata": {
      "needs_background": "light"
     },
     "output_type": "display_data"
    }
   ],
   "source": [
    "sns.countplot(data.Item___Nom_sous_categorie)\n",
    "plt.show()"
   ]
  },
  {
   "cell_type": "code",
   "execution_count": 101,
   "metadata": {},
   "outputs": [
    {
     "data": {
      "image/png": "[encoded data removed]",
      "text/plain": [
       "<Figure size 360x360 with 1 Axes>"
      ]
     },
     "metadata": {
      "needs_background": "light"
     },
     "output_type": "display_data"
    }
   ],
   "source": [
    "sns.countplot(data.metadataFACTURATION)\n",
    "plt.show()"
   ]
  },
  {
   "cell_type": "code",
   "execution_count": 102,
   "metadata": {
    "scrolled": true
   },
   "outputs": [
    {
     "data": {
      "image/png": "[encoded data removed]",
      "text/plain": [
       "<Figure size 360x360 with 1 Axes>"
      ]
     },
     "metadata": {
      "needs_background": "light"
     },
     "output_type": "display_data"
    }
   ],
   "source": [
    "sns.countplot(data.pickup_hour)\n",
    "plt.show()"
   ]
  },
  {
   "cell_type": "code",
   "execution_count": 103,
   "metadata": {
    "scrolled": false
   },
   "outputs": [
    {
     "data": {
      "image/png": "[encoded data removed]",
      "text/plain": [
       "<Figure size 360x360 with 1 Axes>"
      ]
     },
     "metadata": {
      "needs_background": "light"
     },
     "output_type": "display_data"
    }
   ],
   "source": [
    "sns.countplot(data.Round_Name)\n",
    "plt.show()"
   ]
  },
  {
   "cell_type": "code",
   "execution_count": 104,
   "metadata": {},
   "outputs": [
    {
     "data": {
      "image/png": "[encoded data removed]",
      "text/plain": [
       "<Figure size 360x360 with 1 Axes>"
      ]
     },
     "metadata": {
      "needs_background": "light"
     },
     "output_type": "display_data"
    }
   ],
   "source": [
    "group1 = data.groupby('pickup_hour').TaskDurationSec.mean()\n",
    "sns.pointplot(group1.index, group1.values)\n",
    "plt.ylabel('Trip Duration (seconds)')\n",
    "plt.xlabel('Pickup Hour')\n",
    "plt.show()"
   ]
  },
  {
   "cell_type": "code",
   "execution_count": 105,
   "metadata": {},
   "outputs": [
    {
     "data": {
      "image/png": "[encoded data removed]",
      "text/plain": [
       "<Figure size 360x360 with 1 Axes>"
      ]
     },
     "metadata": {
      "needs_background": "light"
     },
     "output_type": "display_data"
    }
   ],
   "source": [
    "group2 = data.groupby('weekday_num').TaskDurationSec.mean()\n",
    "sns.pointplot(group2.index, group2.values)\n",
    "plt.ylabel('Trip Duration (seconds)')\n",
    "plt.xlabel('Weekday')\n",
    "plt.show()"
   ]
  },
  {
   "cell_type": "code",
   "execution_count": 106,
   "metadata": {},
   "outputs": [
    {
     "data": {
      "image/png": "[encoded data removed]",
      "text/plain": [
       "<Figure size 360x360 with 1 Axes>"
      ]
     },
     "metadata": {
      "needs_background": "light"
     },
     "output_type": "display_data"
    }
   ],
   "source": [
    "group3 = data.groupby('weekday_num').distance.mean()\n",
    "sns.pointplot(group3.index, group3.values)\n",
    "plt.ylabel('Distance (Km)')\n",
    "plt.xlabel('Weekday')\n",
    "plt.show()"
   ]
  },
  {
   "cell_type": "code",
   "execution_count": 107,
   "metadata": {
    "scrolled": true
   },
   "outputs": [
    {
     "data": {
      "image/png": "[encoded data removed]",
      "text/plain": [
       "<Figure size 360x360 with 1 Axes>"
      ]
     },
     "metadata": {
      "needs_background": "light"
     },
     "output_type": "display_data"
    }
   ],
   "source": [
    "group4 = data.groupby('month').TaskDurationSec.mean()\n",
    "sns.pointplot(group4.index, group4.values)\n",
    "plt.ylabel('Trip Duration (seconds)')\n",
    "plt.xlabel('Month')\n",
    "plt.show()"
   ]
  },
  {
   "cell_type": "code",
   "execution_count": 108,
   "metadata": {
    "scrolled": true
   },
   "outputs": [
    {
     "data": {
      "image/png": "[encoded data removed]",
      "text/plain": [
       "<Figure size 360x360 with 1 Axes>"
      ]
     },
     "metadata": {
      "needs_background": "light"
     },
     "output_type": "display_data"
    }
   ],
   "source": [
    "group5 = data.groupby('Expediteur').TaskDurationSec.mean()\n",
    "sns.barplot(group5.index, group5.values)\n",
    "plt.ylabel('Trip Duration (seconds)')\n",
    "plt.xlabel('Vendor')\n",
    "plt.show()"
   ]
  },
  {
   "cell_type": "code",
   "execution_count": 109,
   "metadata": {},
   "outputs": [
    {
     "data": {
      "image/png": "[encoded data removed]",
      "text/plain": [
       "<Figure size 360x360 with 1 Axes>"
      ]
     },
     "metadata": {
      "needs_background": "light"
     },
     "output_type": "display_data"
    }
   ],
   "source": [
    "group5 = data.groupby('weekday_num').TaskDurationSec.mean()\n",
    "sns.pointplot(group5.index, group5.values)\n",
    "plt.ylabel('Trip Duration (seconds)')\n",
    "plt.xlabel('weekday')\n",
    "plt.show()"
   ]
  },
  {
   "cell_type": "code",
   "execution_count": 110,
   "metadata": {},
   "outputs": [
    {
     "data": {
      "image/png": "[encoded data removed]",
      "text/plain": [
       "<Figure size 360x360 with 1 Axes>"
      ]
     },
     "metadata": {
      "needs_background": "light"
     },
     "output_type": "display_data"
    }
   ],
   "source": [
    "group5 = data.groupby('weekday_num').distance.mean()\n",
    "sns.pointplot(group5.index, group5.values)\n",
    "plt.ylabel('Distance (Km)')\n",
    "plt.xlabel('weekday')\n",
    "plt.show()"
   ]
  },
  {
   "cell_type": "code",
   "execution_count": 111,
   "metadata": {},
   "outputs": [
    {
     "data": {
      "image/png": "[encoded data removed]",
      "text/plain": [
       "<Figure size 1296x216 with 6 Axes>"
      ]
     },
     "metadata": {
      "needs_background": "light"
     },
     "output_type": "display_data"
    }
   ],
   "source": [
    "n = sns.FacetGrid(data, col='weekday_num')\n",
    "n.map(plt.hist, 'TaskDurationSec')\n",
    "plt.show()"
   ]
  },
  {
   "cell_type": "code",
   "execution_count": 112,
   "metadata": {
    "scrolled": true
   },
   "outputs": [
    {
     "data": {
      "image/png": "[encoded data removed]",
      "text/plain": [
       "<Figure size 1296x216 with 6 Axes>"
      ]
     },
     "metadata": {
      "needs_background": "light"
     },
     "output_type": "display_data"
    }
   ],
   "source": [
    "n2 = sns.FacetGrid(data, col='weekday')\n",
    "n2.map(plt.hist, 'TaskDurationSec')\n",
    "plt.show()"
   ]
  },
  {
   "cell_type": "code",
   "execution_count": 113,
   "metadata": {},
   "outputs": [
    {
     "data": {
      "image/png": "[encoded data removed]",
      "text/plain": [
       "<Figure size 360x360 with 1 Axes>"
      ]
     },
     "metadata": {
      "needs_background": "light"
     },
     "output_type": "display_data"
    }
   ],
   "source": [
    "sns.countplot(data.month)\n",
    "plt.ylabel('Trip Counts')\n",
    "plt.xlabel('Months')\n",
    "plt.show()"
   ]
  },
  {
   "cell_type": "markdown",
   "metadata": {},
   "source": [
    "# Feature Selection :"
   ]
  },
  {
   "cell_type": "code",
   "execution_count": 115,
   "metadata": {
    "scrolled": true
   },
   "outputs": [
    {
     "data": {
      "text/plain": [
       "[(0, 'Round_Name'),\n",
       " (1, 'Expediteur'),\n",
       " (2, 'Type_de_Service'),\n",
       " (3, 'TaskDurationSec'),\n",
       " (4, 'Item___Nom_sous_categorie'),\n",
       " (5, 'Item___Type_unite_manutention'),\n",
       " (6, 'sourceZone'),\n",
       " (7, 'status'),\n",
       " (8, 'metadataFACTURATION'),\n",
       " (9, 'TourneeId'),\n",
       " (10, 'month'),\n",
       " (11, 'weekday_num'),\n",
       " (12, 'pickup_hour'),\n",
       " (13, 'weekday'),\n",
       " (14, 'distance'),\n",
       " (15, 'speed'),\n",
       " (16, 'latitude_difference'),\n",
       " (17, 'longitude_difference'),\n",
       " (18, 'sourceSequence')]"
      ]
     },
     "execution_count": 115,
     "metadata": {},
     "output_type": "execute_result"
    }
   ],
   "source": [
    "#First chech the index of the features and label\n",
    "list(zip( range(0,len(data.columns)),data.columns))"
   ]
  },
  {
   "cell_type": "code",
   "execution_count": 35,
   "metadata": {},
   "outputs": [],
   "source": [
    "#data.columns"
   ]
  },
  {
   "cell_type": "code",
   "execution_count": 116,
   "metadata": {
    "scrolled": false
   },
   "outputs": [],
   "source": [
    "X = data[[ 'Expediteur','pickup_hour','weekday_num','Item___Nom_sous_categorie', 'Item___Type_unite_manutention',\n",
    "          'sourceZone','distance','speed']]\n",
    "y = data[[\"TaskDurationSec\"]]\n",
    "#X = X.iloc[:,:].values\n",
    "#X.head()\n"
   ]
  },
  {
   "cell_type": "code",
   "execution_count": 117,
   "metadata": {
    "scrolled": true
   },
   "outputs": [
    {
     "data": {
      "text/html": [
       "<div>\n",
       "<style scoped>\n",
       "    .dataframe tbody tr th:only-of-type {\n",
       "        vertical-align: middle;\n",
       "    }\n",
       "\n",
       "    .dataframe tbody tr th {\n",
       "        vertical-align: top;\n",
       "    }\n",
       "\n",
       "    .dataframe thead th {\n",
       "        text-align: right;\n",
       "    }\n",
       "</style>\n",
       "<table border=\"1\" class=\"dataframe\">\n",
       "  <thead>\n",
       "    <tr style=\"text-align: right;\">\n",
       "      <th></th>\n",
       "      <th>Expediteur</th>\n",
       "      <th>pickup_hour</th>\n",
       "      <th>weekday_num</th>\n",
       "      <th>Item___Nom_sous_categorie</th>\n",
       "      <th>Item___Type_unite_manutention</th>\n",
       "      <th>sourceZone</th>\n",
       "      <th>distance</th>\n",
       "      <th>speed</th>\n",
       "    </tr>\n",
       "  </thead>\n",
       "  <tbody>\n",
       "    <tr>\n",
       "      <th>0</th>\n",
       "      <td>10</td>\n",
       "      <td>9</td>\n",
       "      <td>2</td>\n",
       "      <td>2</td>\n",
       "      <td>5</td>\n",
       "      <td>20</td>\n",
       "      <td>16.391973</td>\n",
       "      <td>28.562973</td>\n",
       "    </tr>\n",
       "    <tr>\n",
       "      <th>1</th>\n",
       "      <td>10</td>\n",
       "      <td>9</td>\n",
       "      <td>2</td>\n",
       "      <td>2</td>\n",
       "      <td>5</td>\n",
       "      <td>20</td>\n",
       "      <td>11.313842</td>\n",
       "      <td>26.937718</td>\n",
       "    </tr>\n",
       "    <tr>\n",
       "      <th>2</th>\n",
       "      <td>10</td>\n",
       "      <td>10</td>\n",
       "      <td>2</td>\n",
       "      <td>2</td>\n",
       "      <td>5</td>\n",
       "      <td>6</td>\n",
       "      <td>3.744604</td>\n",
       "      <td>4.765138</td>\n",
       "    </tr>\n",
       "    <tr>\n",
       "      <th>3</th>\n",
       "      <td>7</td>\n",
       "      <td>10</td>\n",
       "      <td>2</td>\n",
       "      <td>1</td>\n",
       "      <td>1</td>\n",
       "      <td>0</td>\n",
       "      <td>9.121295</td>\n",
       "      <td>18.111783</td>\n",
       "    </tr>\n",
       "    <tr>\n",
       "      <th>4</th>\n",
       "      <td>7</td>\n",
       "      <td>10</td>\n",
       "      <td>2</td>\n",
       "      <td>1</td>\n",
       "      <td>1</td>\n",
       "      <td>11</td>\n",
       "      <td>1.048186</td>\n",
       "      <td>3.621372</td>\n",
       "    </tr>\n",
       "    <tr>\n",
       "      <th>...</th>\n",
       "      <td>...</td>\n",
       "      <td>...</td>\n",
       "      <td>...</td>\n",
       "      <td>...</td>\n",
       "      <td>...</td>\n",
       "      <td>...</td>\n",
       "      <td>...</td>\n",
       "      <td>...</td>\n",
       "    </tr>\n",
       "    <tr>\n",
       "      <th>930</th>\n",
       "      <td>7</td>\n",
       "      <td>3</td>\n",
       "      <td>0</td>\n",
       "      <td>1</td>\n",
       "      <td>1</td>\n",
       "      <td>18</td>\n",
       "      <td>6.925606</td>\n",
       "      <td>2.221526</td>\n",
       "    </tr>\n",
       "    <tr>\n",
       "      <th>931</th>\n",
       "      <td>10</td>\n",
       "      <td>3</td>\n",
       "      <td>0</td>\n",
       "      <td>2</td>\n",
       "      <td>5</td>\n",
       "      <td>14</td>\n",
       "      <td>4.352031</td>\n",
       "      <td>9.199831</td>\n",
       "    </tr>\n",
       "    <tr>\n",
       "      <th>932</th>\n",
       "      <td>7</td>\n",
       "      <td>5</td>\n",
       "      <td>2</td>\n",
       "      <td>1</td>\n",
       "      <td>1</td>\n",
       "      <td>19</td>\n",
       "      <td>17.002044</td>\n",
       "      <td>41.496514</td>\n",
       "    </tr>\n",
       "    <tr>\n",
       "      <th>933</th>\n",
       "      <td>10</td>\n",
       "      <td>4</td>\n",
       "      <td>2</td>\n",
       "      <td>2</td>\n",
       "      <td>5</td>\n",
       "      <td>6</td>\n",
       "      <td>2.394255</td>\n",
       "      <td>12.941919</td>\n",
       "    </tr>\n",
       "    <tr>\n",
       "      <th>934</th>\n",
       "      <td>2</td>\n",
       "      <td>4</td>\n",
       "      <td>2</td>\n",
       "      <td>0</td>\n",
       "      <td>0</td>\n",
       "      <td>6</td>\n",
       "      <td>1.403256</td>\n",
       "      <td>8.161102</td>\n",
       "    </tr>\n",
       "  </tbody>\n",
       "</table>\n",
       "<p>935 rows × 8 columns</p>\n",
       "</div>"
      ],
      "text/plain": [
       "     Expediteur  pickup_hour  weekday_num  Item___Nom_sous_categorie  \\\n",
       "0            10            9            2                          2   \n",
       "1            10            9            2                          2   \n",
       "2            10           10            2                          2   \n",
       "3             7           10            2                          1   \n",
       "4             7           10            2                          1   \n",
       "..          ...          ...          ...                        ...   \n",
       "930           7            3            0                          1   \n",
       "931          10            3            0                          2   \n",
       "932           7            5            2                          1   \n",
       "933          10            4            2                          2   \n",
       "934           2            4            2                          0   \n",
       "\n",
       "     Item___Type_unite_manutention  sourceZone   distance      speed  \n",
       "0                                5          20  16.391973  28.562973  \n",
       "1                                5          20  11.313842  26.937718  \n",
       "2                                5           6   3.744604   4.765138  \n",
       "3                                1           0   9.121295  18.111783  \n",
       "4                                1          11   1.048186   3.621372  \n",
       "..                             ...         ...        ...        ...  \n",
       "930                              1          18   6.925606   2.221526  \n",
       "931                              5          14   4.352031   9.199831  \n",
       "932                              1          19  17.002044  41.496514  \n",
       "933                              5           6   2.394255  12.941919  \n",
       "934                              0           6   1.403256   8.161102  \n",
       "\n",
       "[935 rows x 8 columns]"
      ]
     },
     "execution_count": 117,
     "metadata": {},
     "output_type": "execute_result"
    }
   ],
   "source": [
    "from sklearn.preprocessing import LabelEncoder, OneHotEncoder\n",
    "labelencoder_X = LabelEncoder()\n",
    "for i in range (6):\n",
    "    X.iloc[:, i:i+1] = labelencoder_X.fit_transform(X.iloc[:, i:i+1])\n",
    "X=X.reset_index(drop=True)\n",
    "X"
   ]
  },
  {
   "cell_type": "code",
   "execution_count": 37,
   "metadata": {},
   "outputs": [
    {
     "data": {
      "text/html": [
       "<div>\n",
       "<style scoped>\n",
       "    .dataframe tbody tr th:only-of-type {\n",
       "        vertical-align: middle;\n",
       "    }\n",
       "\n",
       "    .dataframe tbody tr th {\n",
       "        vertical-align: top;\n",
       "    }\n",
       "\n",
       "    .dataframe thead th {\n",
       "        text-align: right;\n",
       "    }\n",
       "</style>\n",
       "<table border=\"1\" class=\"dataframe\">\n",
       "  <thead>\n",
       "    <tr style=\"text-align: right;\">\n",
       "      <th></th>\n",
       "      <th>distance</th>\n",
       "      <th>speed</th>\n",
       "      <th>Expediteur_0</th>\n",
       "      <th>Expediteur_1</th>\n",
       "      <th>Expediteur_2</th>\n",
       "      <th>Expediteur_3</th>\n",
       "      <th>Expediteur_4</th>\n",
       "      <th>Expediteur_5</th>\n",
       "      <th>Expediteur_6</th>\n",
       "      <th>Expediteur_7</th>\n",
       "      <th>...</th>\n",
       "      <th>Item___Nom_sous_categorie_0</th>\n",
       "      <th>Item___Nom_sous_categorie_1</th>\n",
       "      <th>Item___Nom_sous_categorie_2</th>\n",
       "      <th>Item___Nom_sous_categorie_3</th>\n",
       "      <th>Item___Type_unite_manutention_0</th>\n",
       "      <th>Item___Type_unite_manutention_1</th>\n",
       "      <th>Item___Type_unite_manutention_2</th>\n",
       "      <th>Item___Type_unite_manutention_3</th>\n",
       "      <th>Item___Type_unite_manutention_4</th>\n",
       "      <th>Item___Type_unite_manutention_5</th>\n",
       "    </tr>\n",
       "  </thead>\n",
       "  <tbody>\n",
       "    <tr>\n",
       "      <th>0</th>\n",
       "      <td>16.391973</td>\n",
       "      <td>28.562973</td>\n",
       "      <td>0</td>\n",
       "      <td>0</td>\n",
       "      <td>0</td>\n",
       "      <td>0</td>\n",
       "      <td>0</td>\n",
       "      <td>0</td>\n",
       "      <td>0</td>\n",
       "      <td>0</td>\n",
       "      <td>...</td>\n",
       "      <td>0</td>\n",
       "      <td>0</td>\n",
       "      <td>1</td>\n",
       "      <td>0</td>\n",
       "      <td>0</td>\n",
       "      <td>0</td>\n",
       "      <td>0</td>\n",
       "      <td>0</td>\n",
       "      <td>0</td>\n",
       "      <td>1</td>\n",
       "    </tr>\n",
       "  </tbody>\n",
       "</table>\n",
       "<p>1 rows × 74 columns</p>\n",
       "</div>"
      ],
      "text/plain": [
       "    distance      speed  Expediteur_0  Expediteur_1  Expediteur_2  \\\n",
       "0  16.391973  28.562973             0             0             0   \n",
       "\n",
       "   Expediteur_3  Expediteur_4  Expediteur_5  Expediteur_6  Expediteur_7  ...  \\\n",
       "0             0             0             0             0             0  ...   \n",
       "\n",
       "   Item___Nom_sous_categorie_0  Item___Nom_sous_categorie_1  \\\n",
       "0                            0                            0   \n",
       "\n",
       "   Item___Nom_sous_categorie_2  Item___Nom_sous_categorie_3  \\\n",
       "0                            1                            0   \n",
       "\n",
       "   Item___Type_unite_manutention_0  Item___Type_unite_manutention_1  \\\n",
       "0                                0                                0   \n",
       "\n",
       "   Item___Type_unite_manutention_2  Item___Type_unite_manutention_3  \\\n",
       "0                                0                                0   \n",
       "\n",
       "   Item___Type_unite_manutention_4  Item___Type_unite_manutention_5  \n",
       "0                                0                                1  \n",
       "\n",
       "[1 rows x 74 columns]"
      ]
     },
     "execution_count": 37,
     "metadata": {},
     "output_type": "execute_result"
    }
   ],
   "source": [
    "X=pd.get_dummies(X, columns=[ 'Expediteur','pickup_hour',\n",
    "          'sourceZone','weekday_num','Item___Nom_sous_categorie', 'Item___Type_unite_manutention'])\n",
    "X.head(1)"
   ]
  },
  {
   "cell_type": "code",
   "execution_count": 118,
   "metadata": {},
   "outputs": [],
   "source": [
    "X = X.iloc[:,:].values\n",
    "y = y.iloc[:,:].values"
   ]
  },
  {
   "cell_type": "code",
   "execution_count": 119,
   "metadata": {},
   "outputs": [
    {
     "name": "stdout",
     "output_type": "stream",
     "text": [
      "Let's append 935 rows of 1's as the first column in the X array\n"
     ]
    }
   ],
   "source": [
    "print(\"Let's append {} rows of 1's as the first column in the X array\".format(X.shape[0]))"
   ]
  },
  {
   "cell_type": "code",
   "execution_count": 120,
   "metadata": {},
   "outputs": [],
   "source": [
    "X1 = np.append(arr = np.ones((X.shape[0],1)).astype(int), values = X, axis = 1)"
   ]
  },
  {
   "cell_type": "code",
   "execution_count": 121,
   "metadata": {},
   "outputs": [
    {
     "data": {
      "text/plain": [
       "(935, 9)"
      ]
     },
     "execution_count": 121,
     "metadata": {},
     "output_type": "execute_result"
    }
   ],
   "source": [
    "X1.shape"
   ]
  },
  {
   "cell_type": "code",
   "execution_count": 122,
   "metadata": {},
   "outputs": [
    {
     "data": {
      "text/plain": [
       "(935, 1)"
      ]
     },
     "execution_count": 122,
     "metadata": {},
     "output_type": "execute_result"
    }
   ],
   "source": [
    "y.shape"
   ]
  },
  {
   "cell_type": "code",
   "execution_count": 123,
   "metadata": {},
   "outputs": [
    {
     "name": "stdout",
     "output_type": "stream",
     "text": [
      "Probability values of each feature \n",
      "\n",
      "[4.97635977e-10 8.89568891e-01 8.11223631e-01 8.79586438e-01\n",
      " 3.37762815e-01 2.79756679e-01 2.74921905e-01 2.49005643e-52\n",
      " 1.80134222e-59]\n",
      "\n",
      "\n",
      "Feature at index 1 is removed \n",
      "\n",
      "7 dimensions remaining now... \n",
      "\n",
      "=================================================================\n",
      "\n",
      "Probability values of each feature \n",
      "\n",
      "[9.02857006e-15 8.05397175e-01 8.83089407e-01 3.37509067e-01\n",
      " 2.28500511e-01 2.71445230e-01 5.18904517e-53 8.37558732e-60]\n",
      "\n",
      "\n",
      "Feature at index 2 is removed \n",
      "\n",
      "6 dimensions remaining now... \n",
      "\n",
      "=================================================================\n",
      "\n",
      "Probability values of each feature \n",
      "\n",
      "[5.42455103e-17 8.29781943e-01 3.37928078e-01 2.24862567e-01\n",
      " 2.68535399e-01 4.51971148e-53 6.41681239e-60]\n",
      "\n",
      "\n",
      "Feature at index 1 is removed \n",
      "\n",
      "5 dimensions remaining now... \n",
      "\n",
      "=================================================================\n",
      "\n",
      "Probability values of each feature \n",
      "\n",
      "[3.79205658e-20 3.39926947e-01 2.08470568e-01 2.51567065e-01\n",
      " 2.63340232e-53 5.05786029e-60]\n",
      "\n",
      "\n",
      "Feature at index 1 is removed \n",
      "\n",
      "4 dimensions remaining now... \n",
      "\n",
      "=================================================================\n",
      "\n",
      "Probability values of each feature \n",
      "\n",
      "[1.73505554e-46 3.59978597e-01 2.25328568e-01 1.11594858e-53\n",
      " 2.20924797e-60]\n",
      "\n",
      "\n",
      "Feature at index 1 is removed \n",
      "\n",
      "3 dimensions remaining now... \n",
      "\n",
      "=================================================================\n",
      "\n",
      "Probability values of each feature \n",
      "\n",
      "[7.56008901e-59 1.91966129e-01 1.49084728e-53 1.20546841e-60]\n",
      "\n",
      "\n",
      "Feature at index 1 is removed \n",
      "\n",
      "2 dimensions remaining now... \n",
      "\n",
      "=================================================================\n",
      "\n",
      "Final stat summary with optimal 2 features\n"
     ]
    },
    {
     "data": {
      "text/html": [
       "<table class=\"simpletable\">\n",
       "<caption>OLS Regression Results</caption>\n",
       "<tr>\n",
       "  <th>Dep. Variable:</th>            <td>y</td>        <th>  R-squared:         </th> <td>   0.271</td> \n",
       "</tr>\n",
       "<tr>\n",
       "  <th>Model:</th>                   <td>OLS</td>       <th>  Adj. R-squared:    </th> <td>   0.270</td> \n",
       "</tr>\n",
       "<tr>\n",
       "  <th>Method:</th>             <td>Least Squares</td>  <th>  F-statistic:       </th> <td>   173.3</td> \n",
       "</tr>\n",
       "<tr>\n",
       "  <th>Date:</th>             <td>Mon, 07 Jun 2021</td> <th>  Prob (F-statistic):</th> <td>9.90e-65</td> \n",
       "</tr>\n",
       "<tr>\n",
       "  <th>Time:</th>                 <td>16:00:49</td>     <th>  Log-Likelihood:    </th> <td> -8196.4</td> \n",
       "</tr>\n",
       "<tr>\n",
       "  <th>No. Observations:</th>      <td>   935</td>      <th>  AIC:               </th> <td>1.640e+04</td>\n",
       "</tr>\n",
       "<tr>\n",
       "  <th>Df Residuals:</th>          <td>   932</td>      <th>  BIC:               </th> <td>1.641e+04</td>\n",
       "</tr>\n",
       "<tr>\n",
       "  <th>Df Model:</th>              <td>     2</td>      <th>                     </th>     <td> </td>    \n",
       "</tr>\n",
       "<tr>\n",
       "  <th>Covariance Type:</th>      <td>nonrobust</td>    <th>                     </th>     <td> </td>    \n",
       "</tr>\n",
       "</table>\n",
       "<table class=\"simpletable\">\n",
       "<tr>\n",
       "    <td></td>       <th>coef</th>     <th>std err</th>      <th>t</th>      <th>P>|t|</th>  <th>[0.025</th>    <th>0.975]</th>  \n",
       "</tr>\n",
       "<tr>\n",
       "  <th>const</th> <td> 1948.6022</td> <td>   68.038</td> <td>   28.640</td> <td> 0.000</td> <td> 1815.076</td> <td> 2082.128</td>\n",
       "</tr>\n",
       "<tr>\n",
       "  <th>x1</th>    <td>  226.8008</td> <td>   13.533</td> <td>   16.759</td> <td> 0.000</td> <td>  200.242</td> <td>  253.360</td>\n",
       "</tr>\n",
       "<tr>\n",
       "  <th>x2</th>    <td>  -88.2240</td> <td>    4.987</td> <td>  -17.692</td> <td> 0.000</td> <td>  -98.011</td> <td>  -78.438</td>\n",
       "</tr>\n",
       "</table>\n",
       "<table class=\"simpletable\">\n",
       "<tr>\n",
       "  <th>Omnibus:</th>       <td>748.980</td> <th>  Durbin-Watson:     </th> <td>   2.037</td> \n",
       "</tr>\n",
       "<tr>\n",
       "  <th>Prob(Omnibus):</th> <td> 0.000</td>  <th>  Jarque-Bera (JB):  </th> <td>15301.661</td>\n",
       "</tr>\n",
       "<tr>\n",
       "  <th>Skew:</th>          <td> 3.595</td>  <th>  Prob(JB):          </th> <td>    0.00</td> \n",
       "</tr>\n",
       "<tr>\n",
       "  <th>Kurtosis:</th>      <td>21.468</td>  <th>  Cond. No.          </th> <td>    26.2</td> \n",
       "</tr>\n",
       "</table><br/><br/>Notes:<br/>[1] Standard Errors assume that the covariance matrix of the errors is correctly specified."
      ],
      "text/plain": [
       "<class 'statsmodels.iolib.summary.Summary'>\n",
       "\"\"\"\n",
       "                            OLS Regression Results                            \n",
       "==============================================================================\n",
       "Dep. Variable:                      y   R-squared:                       0.271\n",
       "Model:                            OLS   Adj. R-squared:                  0.270\n",
       "Method:                 Least Squares   F-statistic:                     173.3\n",
       "Date:                Mon, 07 Jun 2021   Prob (F-statistic):           9.90e-65\n",
       "Time:                        16:00:49   Log-Likelihood:                -8196.4\n",
       "No. Observations:                 935   AIC:                         1.640e+04\n",
       "Df Residuals:                     932   BIC:                         1.641e+04\n",
       "Df Model:                           2                                         \n",
       "Covariance Type:            nonrobust                                         \n",
       "==============================================================================\n",
       "                 coef    std err          t      P>|t|      [0.025      0.975]\n",
       "------------------------------------------------------------------------------\n",
       "const       1948.6022     68.038     28.640      0.000    1815.076    2082.128\n",
       "x1           226.8008     13.533     16.759      0.000     200.242     253.360\n",
       "x2           -88.2240      4.987    -17.692      0.000     -98.011     -78.438\n",
       "==============================================================================\n",
       "Omnibus:                      748.980   Durbin-Watson:                   2.037\n",
       "Prob(Omnibus):                  0.000   Jarque-Bera (JB):            15301.661\n",
       "Skew:                           3.595   Prob(JB):                         0.00\n",
       "Kurtosis:                      21.468   Cond. No.                         26.2\n",
       "==============================================================================\n",
       "\n",
       "Notes:\n",
       "[1] Standard Errors assume that the covariance matrix of the errors is correctly specified.\n",
       "\"\"\""
      ]
     },
     "execution_count": 123,
     "metadata": {},
     "output_type": "execute_result"
    }
   ],
   "source": [
    "import statsmodels.regression.linear_model as sm\n",
    "#Select all the features in X array\n",
    "X_opt = X1[:,range(0,9)]\n",
    "regressor_OLS = sm.OLS(endog = y, exog = X_opt).fit()\n",
    "\n",
    "#Fetch p values for each feature\n",
    "p_Vals = regressor_OLS.pvalues\n",
    "\n",
    "#define significance level for accepting the feature.\n",
    "sig_Level = 0.05\n",
    "\n",
    "#Loop to iterate over features and remove the feature with p value less than the sig_level\n",
    "while max(p_Vals) > sig_Level:\n",
    "    print(\"Probability values of each feature \\n\")\n",
    "    print(p_Vals)\n",
    "    X_opt = np.delete(X_opt, np.argmax(p_Vals), axis = 1)\n",
    "    print(\"\\n\")\n",
    "    print(\"Feature at index {} is removed \\n\".format(str(np.argmax(p_Vals))))\n",
    "    print(str(X_opt.shape[1]-1) + \" dimensions remaining now... \\n\")\n",
    "    regressor_OLS = sm.OLS(endog = y, exog = X_opt).fit()\n",
    "    p_Vals = regressor_OLS.pvalues\n",
    "    print(\"=================================================================\\n\")\n",
    "    \n",
    "#Print final summary\n",
    "print(\"Final stat summary with optimal {} features\".format(str(X_opt.shape[1]-1)))\n",
    "regressor_OLS.summary()"
   ]
  },
  {
   "cell_type": "markdown",
   "metadata": {},
   "source": [
    "### Split Data : "
   ]
  },
  {
   "cell_type": "markdown",
   "metadata": {},
   "source": [
    "### Splitting the dataset into the Training set and Test set"
   ]
  },
  {
   "cell_type": "code",
   "execution_count": 125,
   "metadata": {
    "scrolled": true
   },
   "outputs": [],
   "source": [
    "#Split raw data\n",
    "X_train, X_test, y_train, y_test = train_test_split(X,y, random_state=4, test_size=0.2)\n",
    "\n",
    "#Split data from the feature selection group\n",
    "X_train_fs, X_test_fs, y_train_fs, y_test_fs = train_test_split(X_opt,y, random_state=4, test_size=0.2)"
   ]
  },
  {
   "cell_type": "markdown",
   "metadata": {},
   "source": [
    "## Feature Extraction : "
   ]
  },
  {
   "cell_type": "code",
   "execution_count": 126,
   "metadata": {
    "scrolled": true
   },
   "outputs": [
    {
     "data": {
      "text/plain": [
       "array([[ 7.        , 10.        ,  1.        , ..., 19.        ,\n",
       "         0.50736407,  1.13801287],\n",
       "       [10.        , 10.        ,  0.        , ...,  8.        ,\n",
       "         0.2336312 ,  1.13505038],\n",
       "       [ 7.        , 10.        ,  0.        , ...,  8.        ,\n",
       "         2.70531644,  7.74792298],\n",
       "       ...,\n",
       "       [ 7.        ,  3.        ,  1.        , ...,  4.        ,\n",
       "         2.15849324, 11.63259828],\n",
       "       [10.        , 10.        ,  4.        , ..., 20.        ,\n",
       "        24.62543078, 43.11845856],\n",
       "       [ 7.        , 10.        ,  4.        , ...,  8.        ,\n",
       "         3.45176536,  9.9252039 ]])"
      ]
     },
     "execution_count": 126,
     "metadata": {},
     "output_type": "execute_result"
    }
   ],
   "source": [
    "X_train_pca, X_test_pca, y_train_pca, y_test_pca = train_test_split(X,y, random_state=4, test_size=0.2)\n",
    "X_train_pca"
   ]
  },
  {
   "cell_type": "code",
   "execution_count": 46,
   "metadata": {},
   "outputs": [
    {
     "data": {
      "text/plain": [
       "array([[10.        ,  7.        ,  2.        , ..., 11.        ,\n",
       "         5.20046082, 20.21777425],\n",
       "       [ 7.        , 10.        ,  1.        , ...,  4.        ,\n",
       "         3.70590558,  5.96390706],\n",
       "       [ 7.        ,  9.        ,  0.        , ...,  3.        ,\n",
       "         0.50958248,  1.02029863],\n",
       "       ...,\n",
       "       [ 7.        , 11.        ,  5.        , ..., 21.        ,\n",
       "         2.05350534,  4.69670852],\n",
       "       [ 7.        ,  8.        ,  5.        , ..., 19.        ,\n",
       "         9.0588094 , 12.21412504],\n",
       "       [10.        , 10.        ,  2.        , ...,  7.        ,\n",
       "         6.51649781, 14.48110625]])"
      ]
     },
     "execution_count": 46,
     "metadata": {},
     "output_type": "execute_result"
    }
   ],
   "source": [
    "X_test_pca"
   ]
  },
  {
   "cell_type": "markdown",
   "metadata": {},
   "source": [
    "## Scale Data : "
   ]
  },
  {
   "cell_type": "code",
   "execution_count": 127,
   "metadata": {},
   "outputs": [],
   "source": [
    "from sklearn.preprocessing import StandardScaler\n",
    "scaler = StandardScaler()\n",
    "X_train_pca = scaler.fit_transform(X_train_pca)\n",
    "X_test_pca = scaler.transform(X_test_pca)"
   ]
  },
  {
   "cell_type": "markdown",
   "metadata": {},
   "source": [
    "## PCA application:\n",
    "Let's apply PCA technique on the training features to understand how many principal \n",
    "components should we select for our model to capture atleast 90% variance. For that we will \n",
    "take help of plot and cumsum function of numpy package"
   ]
  },
  {
   "cell_type": "code",
   "execution_count": 128,
   "metadata": {
    "scrolled": true
   },
   "outputs": [
    {
     "data": {
      "image/png": "[encoded data removed]",
      "text/plain": [
       "<Figure size 360x360 with 1 Axes>"
      ]
     },
     "metadata": {
      "needs_background": "light"
     },
     "output_type": "display_data"
    }
   ],
   "source": [
    "from sklearn.decomposition import PCA\n",
    "pca = PCA().fit(X_train_pca)\n",
    "plt.plot(np.cumsum(pca.explained_variance_ratio_))\n",
    "plt.xlabel(\"number of components\")\n",
    "plt.ylabel(\"Cumulative explained variance\")\n",
    "plt.show()"
   ]
  },
  {
   "cell_type": "code",
   "execution_count": 129,
   "metadata": {
    "scrolled": true
   },
   "outputs": [
    {
     "data": {
      "text/plain": [
       "[(1, 32.51),\n",
       " (2, 55.349999999999994),\n",
       " (3, 69.89),\n",
       " (4, 81.45),\n",
       " (5, 89.44),\n",
       " (6, 95.66),\n",
       " (7, 98.84)]"
      ]
     },
     "execution_count": 129,
     "metadata": {},
     "output_type": "execute_result"
    }
   ],
   "source": [
    "arr = np.cumsum(np.round(pca.explained_variance_ratio_, decimals=4)*100)\n",
    "list(zip(range(1,len(arr)), arr))"
   ]
  },
  {
   "cell_type": "code",
   "execution_count": 130,
   "metadata": {},
   "outputs": [
    {
     "data": {
      "text/plain": [
       "array([[-1.70919112,  0.21449094,  0.1002417 , ...,  0.40205508,\n",
       "        -0.23087581,  0.35498496],\n",
       "       [ 0.73889217, -0.82522514, -1.44999746, ..., -0.38597367,\n",
       "         0.04235682, -0.1391573 ],\n",
       "       [ 0.93585863, -1.5443753 , -1.62465025, ...,  0.10169678,\n",
       "        -0.14706893,  0.03091188],\n",
       "       ...,\n",
       "       [ 0.85759457,  0.08568495,  0.49592277, ..., -2.4428323 ,\n",
       "         0.94206934,  0.17765268],\n",
       "       [ 0.90889092,  1.27190591,  0.72248694, ..., -1.5835835 ,\n",
       "         0.65525284, -0.46699776],\n",
       "       [-2.01959731, -0.16375375, -0.44293006, ..., -0.1838419 ,\n",
       "        -0.17961733, -0.06977216]])"
      ]
     },
     "execution_count": 130,
     "metadata": {},
     "output_type": "execute_result"
    }
   ],
   "source": [
    "pca_10 = PCA(n_components=7)\n",
    "X_train_pca = pca_10.fit_transform(X_train_pca)\n",
    "X_test_pca = pca_10.transform(X_test_pca)\n",
    "X_test_pca"
   ]
  },
  {
   "cell_type": "markdown",
   "metadata": {},
   "source": [
    "## Correlation Analysis :\n",
    "Correlation analysis is a method of statistical evaluation used to study the strength of a relationship between two or more, numerically measured, continuous variables. This analysis is useful when we need to check if there are possible connections between variables. We will utilize Heatmap for our analysis."
   ]
  },
  {
   "cell_type": "markdown",
   "metadata": {},
   "source": [
    "## Heatmap :\n",
    "A heatmap is a graphical representation of data that uses a system of \n",
    "color-coding to represent statistical relationship between different values.\n",
    "Let's plot the relationship between the features of the Feature selection group first"
   ]
  },
  {
   "cell_type": "code",
   "execution_count": 131,
   "metadata": {
    "scrolled": true
   },
   "outputs": [
    {
     "data": {
      "image/png": "[encoded data removed]",
      "text/plain": [
       "<Figure size 1080x1080 with 2 Axes>"
      ]
     },
     "metadata": {
      "needs_background": "light"
     },
     "output_type": "display_data"
    }
   ],
   "source": [
    "plt.figure(figsize=(15,15))\n",
    "corr = pd.DataFrame(X_train_fs[:,1:]).corr()\n",
    "corr.index = pd.DataFrame(X_train_fs[:,1:]).columns\n",
    "sns.heatmap(corr, cmap='RdYlGn', vmin=-1, vmax=1, square=True)\n",
    "plt.title(\"Correlation Heatmap\", fontsize=16)\n",
    "plt.show()"
   ]
  },
  {
   "cell_type": "code",
   "execution_count": 132,
   "metadata": {
    "scrolled": false
   },
   "outputs": [
    {
     "data": {
      "image/png": "[encoded data removed]",
      "text/plain": [
       "<Figure size 360x360 with 2 Axes>"
      ]
     },
     "metadata": {
      "needs_background": "light"
     },
     "output_type": "display_data"
    }
   ],
   "source": [
    "corr = pd.DataFrame(X_train_pca).corr()\n",
    "corr.index = pd.DataFrame(X_train_pca).columns\n",
    "sns.heatmap(corr, cmap='RdYlGn', vmin=-1, vmax=1, square=True)\n",
    "plt.title(\"Correlation Heatmap\", fontsize=16)\n",
    "plt.show()"
   ]
  },
  {
   "cell_type": "markdown",
   "metadata": {},
   "source": [
    "# Multiple Linear Regression :"
   ]
  },
  {
   "cell_type": "markdown",
   "metadata": {},
   "source": [
    "## Model training : "
   ]
  },
  {
   "cell_type": "code",
   "execution_count": 133,
   "metadata": {},
   "outputs": [
    {
     "data": {
      "text/plain": [
       "LinearRegression()"
      ]
     },
     "execution_count": 133,
     "metadata": {},
     "output_type": "execute_result"
    }
   ],
   "source": [
    "#Linear regressor for the raw data\n",
    "regressor = LinearRegression() \n",
    "regressor.fit(X_train,y_train) \n",
    "\n",
    "#Linear regressor for the Feature selection group\n",
    "regressor1 = LinearRegression() \n",
    "regressor1.fit(X_train_fs,y_train_fs) \n",
    "\n",
    "#Linear regressor for the Feature extraction group\n",
    "regressor2 = LinearRegression() \n",
    "regressor2.fit(X_train_pca,y_train_pca) "
   ]
  },
  {
   "cell_type": "code",
   "execution_count": 134,
   "metadata": {},
   "outputs": [],
   "source": [
    "#Predict from the test features of raw data\n",
    "y_pred = regressor.predict(X_test) \n",
    "\n",
    "#Predict from the test features of Feature Selection group\n",
    "y_pred = regressor1.predict(X_test_fs) \n",
    "\n",
    "#Predict from the test features of Feature Extraction group\n",
    "y_pred_pca = regressor2.predict(X_test_pca) "
   ]
  },
  {
   "cell_type": "code",
   "execution_count": 135,
   "metadata": {
    "scrolled": false
   },
   "outputs": [
    {
     "name": "stdout",
     "output_type": "stream",
     "text": [
      "RMSE score for the Multiple LR raw is : 1729.5355711228835\n",
      "Variance score for the Multiple LR raw is : 0.32\n",
      "\n",
      "\n",
      "RMSE score for the Multiple LR FS is : 1729.5355711228835\n",
      "Variance score for the Multiple LR FS is : 0.32\n",
      "\n",
      "\n",
      "RMSE score for the Multiple LR PCA is : 1729.7136144526428\n",
      "Variance score for the Multiple LR PCA is : 0.32\n"
     ]
    }
   ],
   "source": [
    "#Evaluate the regressor on the raw data\n",
    "print('RMSE score for the Multiple LR raw is : {}'.format(np.sqrt(metrics.mean_squared_error(y_test,y_pred))))\n",
    "print('Variance score for the Multiple LR raw is : %.2f' % regressor.score(X_test, y_test))\n",
    "print(\"\\n\")\n",
    "\n",
    "#Evaluate the regressor on the Feature selection group\n",
    "print('RMSE score for the Multiple LR FS is : {}'.format(np.sqrt(metrics.mean_squared_error(y_test_fs,y_pred))))\n",
    "print('Variance score for the Multiple LR FS is : %.2f' % regressor1.score(X_test_fs, y_test_fs))\n",
    "print(\"\\n\")\n",
    "\n",
    "#Evaluate the regressor on the Feature extraction group\n",
    "print('RMSE score for the Multiple LR PCA is : {}'.format(np.sqrt(metrics.mean_squared_error(y_test_pca,y_pred_pca))))\n",
    "print('Variance score for the Multiple LR PCA is : %.2f' % regressor2.score(X_test_pca, y_test_pca))"
   ]
  },
  {
   "cell_type": "code",
   "execution_count": 136,
   "metadata": {},
   "outputs": [
    {
     "data": {
      "text/plain": [
       "(748, 8)"
      ]
     },
     "execution_count": 136,
     "metadata": {},
     "output_type": "execute_result"
    }
   ],
   "source": [
    "X_train.shape"
   ]
  },
  {
   "cell_type": "code",
   "execution_count": 137,
   "metadata": {
    "scrolled": true
   },
   "outputs": [
    {
     "data": {
      "text/html": [
       "<div>\n",
       "<style scoped>\n",
       "    .dataframe tbody tr th:only-of-type {\n",
       "        vertical-align: middle;\n",
       "    }\n",
       "\n",
       "    .dataframe tbody tr th {\n",
       "        vertical-align: top;\n",
       "    }\n",
       "\n",
       "    .dataframe thead th {\n",
       "        text-align: right;\n",
       "    }\n",
       "</style>\n",
       "<table border=\"1\" class=\"dataframe\">\n",
       "  <thead>\n",
       "    <tr style=\"text-align: right;\">\n",
       "      <th></th>\n",
       "      <th>Value</th>\n",
       "    </tr>\n",
       "  </thead>\n",
       "  <tbody>\n",
       "    <tr>\n",
       "      <th>7 vs 8</th>\n",
       "      <td>-0.240506</td>\n",
       "    </tr>\n",
       "    <tr>\n",
       "      <th>6 vs 8</th>\n",
       "      <td>0.120204</td>\n",
       "    </tr>\n",
       "    <tr>\n",
       "      <th>0 vs 8</th>\n",
       "      <td>-0.064998</td>\n",
       "    </tr>\n",
       "    <tr>\n",
       "      <th>5 vs 8</th>\n",
       "      <td>0.049691</td>\n",
       "    </tr>\n",
       "    <tr>\n",
       "      <th>4 vs 8</th>\n",
       "      <td>-0.039665</td>\n",
       "    </tr>\n",
       "    <tr>\n",
       "      <th>3 vs 8</th>\n",
       "      <td>-0.021725</td>\n",
       "    </tr>\n",
       "    <tr>\n",
       "      <th>1 vs 8</th>\n",
       "      <td>-0.011293</td>\n",
       "    </tr>\n",
       "    <tr>\n",
       "      <th>2 vs 8</th>\n",
       "      <td>0.005806</td>\n",
       "    </tr>\n",
       "  </tbody>\n",
       "</table>\n",
       "</div>"
      ],
      "text/plain": [
       "           Value\n",
       "7 vs 8 -0.240506\n",
       "6 vs 8  0.120204\n",
       "0 vs 8 -0.064998\n",
       "5 vs 8  0.049691\n",
       "4 vs 8 -0.039665\n",
       "3 vs 8 -0.021725\n",
       "1 vs 8 -0.011293\n",
       "2 vs 8  0.005806"
      ]
     },
     "execution_count": 137,
     "metadata": {},
     "output_type": "execute_result"
    }
   ],
   "source": [
    "#Find linear correlation of each feature with the target variable\n",
    "from scipy.stats import pearsonr\n",
    "#df1 = pd.DataFrame(np.concatenate((X_train,y_train.reshape(len(y_train),1)),axis=1))\n",
    "df1 = pd.DataFrame(np.concatenate((X_train,y_train),axis=1))\n",
    "df1.columns = df1.columns.astype(str)\n",
    "\n",
    "features = df1.iloc[:,:8].columns.tolist()\n",
    "target = df1.iloc[:,8].name\n",
    "\n",
    "correlations = {}\n",
    "for f in features:\n",
    "    data_temp = df1[[f,target]]\n",
    "    x1 = data_temp[f].values\n",
    "    x2 = data_temp[target].values\n",
    "    key = f + ' vs ' + target\n",
    "    correlations[key] = pearsonr(x1,x2)[0]\n",
    "    \n",
    "data_correlations = pd.DataFrame(correlations, index=['Value']).T\n",
    "data_correlations.loc[data_correlations['Value'].abs().sort_values(ascending=False).index]"
   ]
  },
  {
   "cell_type": "code",
   "execution_count": 58,
   "metadata": {},
   "outputs": [
    {
     "data": {
      "text/plain": [
       "array([[ 1383.87976484],\n",
       "       [ 2275.81998644],\n",
       "       [ 2014.64108569],\n",
       "       [ 3499.99267951],\n",
       "       [ 2142.93479787],\n",
       "       [ 2893.7112726 ],\n",
       "       [ 1602.79230417],\n",
       "       [ 3535.00875401],\n",
       "       [ 1915.77525645],\n",
       "       [ 6734.71253972],\n",
       "       [ 3572.65973594],\n",
       "       [ 1761.75667318],\n",
       "       [ 3408.25252496],\n",
       "       [ 1911.88910864],\n",
       "       [ 1074.67392998],\n",
       "       [ 1844.81034909],\n",
       "       [ 2401.75144297],\n",
       "       [ 1581.82680624],\n",
       "       [ 2561.33899372],\n",
       "       [ 2299.35639743],\n",
       "       [ 2174.47652716],\n",
       "       [ 2426.27691479],\n",
       "       [  791.17541556],\n",
       "       [ 1551.97185595],\n",
       "       [ 1808.62132774],\n",
       "       [ 1957.79551769],\n",
       "       [ 2476.19678691],\n",
       "       [ 2108.74256716],\n",
       "       [ 1888.61373719],\n",
       "       [ 1895.80241315],\n",
       "       [ 1529.73063228],\n",
       "       [ 1993.39263634],\n",
       "       [ 1813.76318162],\n",
       "       [ 1938.01654975],\n",
       "       [ 2170.93377379],\n",
       "       [ 2312.36970002],\n",
       "       [ 1997.11840669],\n",
       "       [ 1707.25635919],\n",
       "       [ 2394.49881996],\n",
       "       [ 1953.43636629],\n",
       "       [ 2023.27027621],\n",
       "       [  993.04805327],\n",
       "       [ 2094.07468943],\n",
       "       [ 1633.81832794],\n",
       "       [ 1971.73208576],\n",
       "       [ 1866.35803747],\n",
       "       [ 1941.65977433],\n",
       "       [ 2277.7434214 ],\n",
       "       [ 1770.72415325],\n",
       "       [ 1781.44198371],\n",
       "       [ 2200.3688517 ],\n",
       "       [ 1062.10156861],\n",
       "       [ 2732.53904215],\n",
       "       [ 1613.27013168],\n",
       "       [ 1509.31944685],\n",
       "       [ 1978.69060605],\n",
       "       [ 1930.58067472],\n",
       "       [ 2007.14732088],\n",
       "       [ 1989.17793321],\n",
       "       [   42.07545074],\n",
       "       [ 2461.41248876],\n",
       "       [ 2253.89822333],\n",
       "       [ 1113.22185635],\n",
       "       [ 1548.57288458],\n",
       "       [   87.70358893],\n",
       "       [ 1836.32934037],\n",
       "       [ 1924.41583182],\n",
       "       [ 1900.87441627],\n",
       "       [ 2018.4088935 ],\n",
       "       [ 2189.37473619],\n",
       "       [ 2180.63124132],\n",
       "       [ 2015.0640228 ],\n",
       "       [ 1711.58307107],\n",
       "       [ 5176.07537949],\n",
       "       [ 1820.3071477 ],\n",
       "       [ 2071.86019002],\n",
       "       [ 1688.46567621],\n",
       "       [ 1469.09217732],\n",
       "       [  229.35547548],\n",
       "       [ 1641.10812044],\n",
       "       [ 2005.00226922],\n",
       "       [  867.09709374],\n",
       "       [ 1078.02477884],\n",
       "       [ 6239.49958368],\n",
       "       [ 2247.31898353],\n",
       "       [ 5321.64487637],\n",
       "       [ 3533.26334546],\n",
       "       [ 1586.60369986],\n",
       "       [ 1941.05537902],\n",
       "       [ 2044.6003293 ],\n",
       "       [ 1699.90648885],\n",
       "       [ 2229.98120935],\n",
       "       [ 1531.76585709],\n",
       "       [ 3365.52638511],\n",
       "       [ 2746.77305761],\n",
       "       [ 1063.21124337],\n",
       "       [ 3392.52702496],\n",
       "       [ 2039.43439365],\n",
       "       [ 1847.72732086],\n",
       "       [ 2258.3714459 ],\n",
       "       [ 1495.65901478],\n",
       "       [ 2036.6000599 ],\n",
       "       [ 1771.64948782],\n",
       "       [ 2143.25575657],\n",
       "       [  845.79663362],\n",
       "       [-2225.92750199],\n",
       "       [ 1910.85419526],\n",
       "       [ 3237.2619289 ],\n",
       "       [ 2009.23208551],\n",
       "       [ 1884.91729056],\n",
       "       [ 1760.85969943],\n",
       "       [ 1978.79138426],\n",
       "       [ 3421.91050383],\n",
       "       [ 1921.58264597],\n",
       "       [ 2536.74058048],\n",
       "       [ 1762.50293966],\n",
       "       [ 1854.36527431],\n",
       "       [ 1982.37512536],\n",
       "       [ 2312.09516133],\n",
       "       [ 2009.19885165],\n",
       "       [ 1857.44319388],\n",
       "       [ 1918.32912627],\n",
       "       [ 1539.29142502],\n",
       "       [ 2231.32384396],\n",
       "       [ 1579.70646376],\n",
       "       [ 2045.44738243],\n",
       "       [ 1926.40688403],\n",
       "       [ 2055.09423875],\n",
       "       [ 2001.96087099],\n",
       "       [ 2632.74162267],\n",
       "       [  858.1799488 ],\n",
       "       [ 1983.68305811],\n",
       "       [ 1755.79625986],\n",
       "       [ 1123.36734171],\n",
       "       [  764.66985355],\n",
       "       [ 2525.50703095],\n",
       "       [ 1897.59384474],\n",
       "       [ 2054.00260031],\n",
       "       [ 2022.28068433],\n",
       "       [ 1924.02926872],\n",
       "       [ 1980.53846602],\n",
       "       [ 1700.61571796],\n",
       "       [ 2017.17067019],\n",
       "       [ 2108.49381823],\n",
       "       [ 1343.98682825],\n",
       "       [ 1967.38978563],\n",
       "       [ 1076.63579941],\n",
       "       [  372.20872086],\n",
       "       [ 2363.00838687],\n",
       "       [-3669.33377414],\n",
       "       [ 5155.44519737],\n",
       "       [ 2098.58977171],\n",
       "       [ 2800.71715322],\n",
       "       [ 1949.91900132],\n",
       "       [ 1954.51166713],\n",
       "       [ 1703.05575188],\n",
       "       [-1227.94828213],\n",
       "       [ 2017.19473321],\n",
       "       [ 2059.37525762],\n",
       "       [ 2063.87243761],\n",
       "       [ 2768.86260908],\n",
       "       [ 1995.865917  ],\n",
       "       [ 2248.49847787],\n",
       "       [ 2025.76947697],\n",
       "       [ 1932.98440115],\n",
       "       [ 1941.09315967],\n",
       "       [ 1571.17338799],\n",
       "       [ 1984.18759277],\n",
       "       [ 1747.19144741],\n",
       "       [ 1872.09284238],\n",
       "       [ 2105.86974297],\n",
       "       [ 2077.69403558],\n",
       "       [ 2622.66727459],\n",
       "       [ 1561.09746484],\n",
       "       [ 2006.16317754],\n",
       "       [ 2140.29047615],\n",
       "       [ 2303.19012687],\n",
       "       [ 1937.73463494],\n",
       "       [ 1833.95608434],\n",
       "       [ 1932.22850387],\n",
       "       [  932.55225322],\n",
       "       [ 1916.03602958],\n",
       "       [ 2151.03981008],\n",
       "       [ 1391.9818511 ],\n",
       "       [ 2031.38793365],\n",
       "       [ 2885.49716927],\n",
       "       [ 2151.37481518]])"
      ]
     },
     "execution_count": 58,
     "metadata": {},
     "output_type": "execute_result"
    }
   ],
   "source": [
    "y_pred"
   ]
  },
  {
   "cell_type": "markdown",
   "metadata": {},
   "source": [
    "### y_pred_pca"
   ]
  },
  {
   "cell_type": "code",
   "execution_count": 59,
   "metadata": {},
   "outputs": [
    {
     "data": {
      "text/plain": [
       "array([[  926],\n",
       "       [ 2237],\n",
       "       [ 1798],\n",
       "       [ 6468],\n",
       "       [ 3075],\n",
       "       [ 2594],\n",
       "       [  829],\n",
       "       [ 4107],\n",
       "       [ 1107],\n",
       "       [ 3427],\n",
       "       [ 1836],\n",
       "       [  853],\n",
       "       [ 4441],\n",
       "       [  924],\n",
       "       [ 1015],\n",
       "       [ 1015],\n",
       "       [ 1636],\n",
       "       [  972],\n",
       "       [ 2324],\n",
       "       [ 1971],\n",
       "       [ 1699],\n",
       "       [ 1620],\n",
       "       [  807],\n",
       "       [  646],\n",
       "       [  738],\n",
       "       [ 1325],\n",
       "       [12048],\n",
       "       [ 5091],\n",
       "       [ 1103],\n",
       "       [ 1134],\n",
       "       [  558],\n",
       "       [ 1448],\n",
       "       [  801],\n",
       "       [  968],\n",
       "       [ 1982],\n",
       "       [ 2567],\n",
       "       [ 1462],\n",
       "       [ 1021],\n",
       "       [ 3475],\n",
       "       [ 1033],\n",
       "       [ 1682],\n",
       "       [  626],\n",
       "       [ 8754],\n",
       "       [  524],\n",
       "       [ 1345],\n",
       "       [  881],\n",
       "       [ 1062],\n",
       "       [ 5800],\n",
       "       [ 1079],\n",
       "       [  819],\n",
       "       [ 6267],\n",
       "       [  641],\n",
       "       [ 4311],\n",
       "       [  436],\n",
       "       [  920],\n",
       "       [ 1221],\n",
       "       [  659],\n",
       "       [ 1478],\n",
       "       [ 1310],\n",
       "       [  571],\n",
       "       [ 2445],\n",
       "       [ 2446],\n",
       "       [  920],\n",
       "       [  474],\n",
       "       [  410],\n",
       "       [  454],\n",
       "       [  848],\n",
       "       [ 1342],\n",
       "       [ 1535],\n",
       "       [ 1663],\n",
       "       [ 2008],\n",
       "       [ 1570],\n",
       "       [  546],\n",
       "       [ 9690],\n",
       "       [  922],\n",
       "       [ 2055],\n",
       "       [  922],\n",
       "       [  816],\n",
       "       [  535],\n",
       "       [  679],\n",
       "       [ 1567],\n",
       "       [  440],\n",
       "       [  553],\n",
       "       [ 5558],\n",
       "       [ 1534],\n",
       "       [18916],\n",
       "       [ 3326],\n",
       "       [  692],\n",
       "       [ 1130],\n",
       "       [ 1598],\n",
       "       [  472],\n",
       "       [ 1861],\n",
       "       [ 1032],\n",
       "       [ 2816],\n",
       "       [ 1815],\n",
       "       [ 1084],\n",
       "       [ 2140],\n",
       "       [ 2764],\n",
       "       [  783],\n",
       "       [ 1789],\n",
       "       [  553],\n",
       "       [ 1617],\n",
       "       [  891],\n",
       "       [ 2744],\n",
       "       [  697],\n",
       "       [  627],\n",
       "       [ 1003],\n",
       "       [ 4678],\n",
       "       [ 1733],\n",
       "       [ 1187],\n",
       "       [  776],\n",
       "       [ 1150],\n",
       "       [ 2487],\n",
       "       [ 1370],\n",
       "       [ 2791],\n",
       "       [  860],\n",
       "       [  821],\n",
       "       [ 1339],\n",
       "       [ 4664],\n",
       "       [ 1595],\n",
       "       [  804],\n",
       "       [  984],\n",
       "       [  926],\n",
       "       [ 1857],\n",
       "       [ 1292],\n",
       "       [ 2423],\n",
       "       [ 1327],\n",
       "       [ 1657],\n",
       "       [ 1489],\n",
       "       [ 4968],\n",
       "       [  911],\n",
       "       [  713],\n",
       "       [  956],\n",
       "       [  594],\n",
       "       [  604],\n",
       "       [ 4708],\n",
       "       [  825],\n",
       "       [ 1714],\n",
       "       [ 1491],\n",
       "       [ 1148],\n",
       "       [ 1390],\n",
       "       [ 1025],\n",
       "       [ 1518],\n",
       "       [ 1860],\n",
       "       [  921],\n",
       "       [ 1224],\n",
       "       [  438],\n",
       "       [  585],\n",
       "       [ 2471],\n",
       "       [  407],\n",
       "       [ 7625],\n",
       "       [ 1937],\n",
       "       [ 4146],\n",
       "       [ 1114],\n",
       "       [ 1000],\n",
       "       [  758],\n",
       "       [  484],\n",
       "       [ 1613],\n",
       "       [ 1519],\n",
       "       [ 1515],\n",
       "       [ 4570],\n",
       "       [ 1465],\n",
       "       [ 6167],\n",
       "       [ 1456],\n",
       "       [ 1301],\n",
       "       [  820],\n",
       "       [  501],\n",
       "       [ 1422],\n",
       "       [  471],\n",
       "       [  781],\n",
       "       [ 2242],\n",
       "       [ 1701],\n",
       "       [ 1926],\n",
       "       [ 1210],\n",
       "       [ 1449],\n",
       "       [ 1932],\n",
       "       [ 1626],\n",
       "       [ 1070],\n",
       "       [ 1005],\n",
       "       [  568],\n",
       "       [  951],\n",
       "       [ 1259],\n",
       "       [ 2561],\n",
       "       [ 1067],\n",
       "       [ 1574],\n",
       "       [ 2670],\n",
       "       [ 1620]], dtype=int64)"
      ]
     },
     "execution_count": 59,
     "metadata": {},
     "output_type": "execute_result"
    }
   ],
   "source": [
    "y_test_fs"
   ]
  },
  {
   "cell_type": "markdown",
   "metadata": {},
   "source": [
    "# Random Forest Regressor :"
   ]
  },
  {
   "cell_type": "markdown",
   "metadata": {},
   "source": [
    "## Model training : "
   ]
  },
  {
   "cell_type": "code",
   "execution_count": 138,
   "metadata": {
    "scrolled": false
   },
   "outputs": [
    {
     "name": "stdout",
     "output_type": "stream",
     "text": [
      "\n",
      "\n"
     ]
    }
   ],
   "source": [
    "#instantiate the object for the Random Forest Regressor with default params from raw data\n",
    "regressor_rfraw = RandomForestRegressor(n_jobs=-1)\n",
    "\n",
    "#instantiate the object for the Random Forest Regressor with default params for Feature Selection Group\n",
    "regressor_rf = RandomForestRegressor(n_jobs=-1)\n",
    "\n",
    "# #instantiate the object for the Random Forest Regressor with tuned hyper parameters for Feature Selection Group\n",
    "# regressor_rf1 = RandomForestRegressor(n_estimators = 26,\n",
    "#                                      max_depth = 22,\n",
    "#                                      min_samples_split = 9,\n",
    "#                                      n_jobs=-1)\n",
    "\n",
    "#instantiate the object for the Random Forest Regressor for Feature Extraction Group\n",
    "regressor_rf2 = RandomForestRegressor(n_jobs=-1)\n",
    "\n",
    "\n",
    "#Train the object with default params for raw data\n",
    "regressor_rfraw.fit(X_train,y_train)\n",
    "\n",
    "#Train the object with default params for Feature Selection Group\n",
    "regressor_rf.fit(X_train_fs,y_train_fs)\n",
    "\n",
    "# #Train the object with tuned params for Feature Selection Group\n",
    "# regressor_rf1.fit(X_train_fs,y_train_fs)\n",
    "\n",
    "# #Train the object with default params for Feature Extraction Group\n",
    "regressor_rf2.fit(X_train_pca,y_train_pca)\n",
    "\n",
    "print(\"\\n\")"
   ]
  },
  {
   "cell_type": "markdown",
   "metadata": {},
   "source": [
    "## Model prediction :"
   ]
  },
  {
   "cell_type": "code",
   "execution_count": 139,
   "metadata": {
    "scrolled": true
   },
   "outputs": [
    {
     "name": "stdout",
     "output_type": "stream",
     "text": [
      "\n",
      "\n"
     ]
    }
   ],
   "source": [
    "#Predict the output with object of default params for Feature Selection Group\n",
    "y_pred_rfraw = regressor_rfraw.predict(X_test)\n",
    "\n",
    "#Predict the output with object of default params for Feature Selection Group\n",
    "y_pred_rf = regressor_rf.predict(X_test_fs)\n",
    "\n",
    "# #Predict the output with object of hyper tuned params for Feature Selection Group\n",
    "# y_pred_rf1 = regressor_rf1.predict(X_test_fs)\n",
    "\n",
    "#Predict the output with object of PCA params for Feature Extraction Group\n",
    "y_pred_rfpca = regressor_rf2.predict(X_test_pca)\n",
    "\n",
    "print(\"\\n\")"
   ]
  },
  {
   "cell_type": "code",
   "execution_count": 140,
   "metadata": {
    "scrolled": true
   },
   "outputs": [
    {
     "name": "stdout",
     "output_type": "stream",
     "text": [
      "RMSE score for the RF regressor raw is : 890.9507512202904\n",
      "RMSLE score for the RF regressor raw is : 0.16209362260917137\n",
      "Variance score for the RF regressor raw is : 0.82\n",
      "\n",
      "\n",
      "RMSE score for the RF regressor is : 841.437994888023\n",
      "RMSLE score for the RF regressor is : 0.14912024752385863\n",
      "Variance score for the RF regressor is : 0.84\n",
      "\n",
      "\n",
      "RMSE score for the RF regressor2 is : 1519.8733494565379\n",
      "Variance score for the RF regressor2 is : 0.48\n"
     ]
    }
   ],
   "source": [
    "#Evaluate the model with default params for raw data\n",
    "print('RMSE score for the RF regressor raw is : {}'.format(np.sqrt(metrics.mean_squared_error(y_test,y_pred_rfraw))))\n",
    "print('RMSLE score for the RF regressor raw is : {}'.format(np.sqrt(metrics.mean_squared_log_error(y_test,y_pred_rfraw))))\n",
    "print('Variance score for the RF regressor raw is : %.2f' % regressor_rfraw.score(X_test, y_test))\n",
    "\n",
    "print(\"\\n\")\n",
    "\n",
    "#Evaluate the model with default params for Feature Selection Group\n",
    "print('RMSE score for the RF regressor is : {}'.format(np.sqrt(metrics.mean_squared_error(y_test_fs,y_pred_rf))))\n",
    "print('RMSLE score for the RF regressor is : {}'.format(np.sqrt(metrics.mean_squared_log_error(y_test_fs,y_pred_rf))))\n",
    "print('Variance score for the RF regressor is : %.2f' % regressor_rf.score(X_test_fs, y_test_fs))\n",
    "\n",
    "# print(\"\\n\")\n",
    "\n",
    "# #Evaluate the model with tuned params for Feature Selection Group\n",
    "# print('RMSE score for the RF regressor1 is : {}'.format(np.sqrt(metrics.mean_squared_error(y_test_fs,y_pred_rf1))))\n",
    "# print('RMSLE score for the RF regressor1 is : {}'.format(np.sqrt(metrics.mean_squared_log_error(y_test_fs,y_pred_rf1))))\n",
    "# print('Variance score for the RF regressor1 is : %.2f' % regressor_rf1.score(X_test_fs, y_test_fs))\n",
    "\n",
    "print(\"\\n\")\n",
    "\n",
    "#Evaluate the model with PCA params  for Feature Extraction Group\n",
    "print('RMSE score for the RF regressor2 is : {}'.format(np.sqrt(metrics.mean_squared_error(y_test_pca, y_pred_rfpca))))\n",
    "print('Variance score for the RF regressor2 is : %.2f' % regressor_rf2.score(X_test_pca, y_test_pca))"
   ]
  },
  {
   "cell_type": "markdown",
   "metadata": {},
   "source": [
    "# XGBoost Regressor :"
   ]
  },
  {
   "cell_type": "code",
   "execution_count": 141,
   "metadata": {},
   "outputs": [
    {
     "name": "stdout",
     "output_type": "stream",
     "text": [
      "[16:01:48] WARNING: C:/Users/Administrator/workspace/xgboost-win64_release_1.4.0/src/learner.cc:573: \n",
      "Parameters: { \"silent\" } might not be used.\n",
      "\n",
      "  This may not be accurate due to some parameters are only used in language bindings but\n",
      "  passed down to XGBoost core.  Or some parameters are not used but slip through this\n",
      "  verification. Please open an issue if you find above cases.\n",
      "\n",
      "\n",
      "\n",
      "\n"
     ]
    }
   ],
   "source": [
    "#instantiate the object for the XGBoost Regressor with default params for raw data\n",
    "regressor_xgbraw = XGBRegressor(n_jobs=-1)\n",
    "\n",
    "#instantiate the object for the XGBoost Regressor with default params for Feature Selection Group\n",
    "regressor_xgb = XGBRegressor(n_jobs=-1)\n",
    "\n",
    "#instantiate the object for the XGBoost Regressor with tuned hyper parameters for Feature Selection Group\n",
    "regressor_xgb1 = XGBRegressor(n_estimators=300,\n",
    "                            learning_rate=0.08,\n",
    "                            gamma=0,\n",
    "                            subsample=0.75,\n",
    "                            colsample_bytree=1,\n",
    "                            max_depth=7,\n",
    "                            min_child_weight=4,\n",
    "                            silent=1,\n",
    "                           n_jobs=-1)\n",
    "\n",
    "#instantiate the object for the XGBoost Regressor for Feature Extraction Group\n",
    "regressor_xgb2 = XGBRegressor(n_jobs=-1)\n",
    "\n",
    "\n",
    "#Train the object with default params for raw data\n",
    "regressor_xgbraw.fit(X_train,y_train)\n",
    "\n",
    "#Train the object with default params for Feature Selection Group\n",
    "regressor_xgb.fit(X_train_fs,y_train_fs)\n",
    "\n",
    "#Train the object with tuned params for Feature Selection Group\n",
    "regressor_xgb1.fit(X_train_fs,y_train_fs)\n",
    "\n",
    "#Train the object with default params for Feature Extraction Group\n",
    "regressor_xgb2.fit(X_train_pca,y_train_pca)\n",
    "\n",
    "print(\"\\n\")"
   ]
  },
  {
   "cell_type": "code",
   "execution_count": 142,
   "metadata": {},
   "outputs": [
    {
     "name": "stdout",
     "output_type": "stream",
     "text": [
      "\n",
      "\n"
     ]
    }
   ],
   "source": [
    "#Predict the output with object of default params for raw data\n",
    "y_pred_xgbraw = regressor_xgbraw.predict(X_test)\n",
    "\n",
    "#Predict the output with object of default params for Feature Selection Group\n",
    "y_pred_xgb = regressor_xgb.predict(X_test_fs)\n",
    "\n",
    "#Predict the output with object of hyper tuned params for Feature Selection Group\n",
    "y_pred_xgb1 = regressor_xgb1.predict(X_test_fs)\n",
    "\n",
    "#Predict the output with object of PCA params for Feature Extraction Group\n",
    "y_pred_xgb_pca = regressor_xgb2.predict(X_test_pca)\n",
    "\n",
    "print(\"\\n\")"
   ]
  },
  {
   "cell_type": "code",
   "execution_count": 144,
   "metadata": {
    "scrolled": true
   },
   "outputs": [
    {
     "name": "stdout",
     "output_type": "stream",
     "text": [
      "RMSE score for the XGBoost regressor raw is : 840.568133022036\n",
      "Variance score for the XGBoost regressor raw is : 0.84\n",
      "\n",
      "\n",
      "RMSE score for the XGBoost regressor is : 762.6069075922089\n",
      "Variance score for the XGBoost regressor is : 0.87\n",
      "\n",
      "\n",
      "RMSE score for the XGBoost regressor1 is : 778.0147693658475\n",
      "Variance score for the XGBoost regressor1 is : 0.86\n",
      "\n",
      "\n",
      "RMSE score for the XGBoost regressor2 is : 1546.4575684667393\n",
      "Variance score for the XGBoost regressor2 is : 0.46\n"
     ]
    }
   ],
   "source": [
    "#Evaluate the model with default params for raw data\n",
    "print('RMSE score for the XGBoost regressor raw is : {}'.format(np.sqrt(metrics.mean_squared_error(y_test,y_pred_xgbraw))))\n",
    "# print('RMSLE score for the XGBoost regressor is : {}'.format(np.sqrt(metrics.mean_squared_log_error(y_test,y_pred_xgb))))\n",
    "print('Variance score for the XGBoost regressor raw is : %.2f' % regressor_xgbraw.score(X_test, y_test))\n",
    "\n",
    "print(\"\\n\")\n",
    "\n",
    "#Evaluate the model with default params for Feature Selection Group\n",
    "print('RMSE score for the XGBoost regressor is : {}'.format(np.sqrt(metrics.mean_squared_error(y_test_fs,y_pred_xgb))))\n",
    "# print('RMSLE score for the XGBoost regressor is : {}'.format(np.sqrt(metrics.mean_squared_log_error(y_test,y_pred_xgb))))\n",
    "print('Variance score for the XGBoost regressor is : %.2f' % regressor_xgb.score(X_test_fs, y_test_fs))\n",
    "\n",
    "print(\"\\n\")\n",
    "\n",
    "#Evaluate the model with Tuned params for Feature Selection Group\n",
    "print('RMSE score for the XGBoost regressor1 is : {}'.format(np.sqrt(metrics.mean_squared_error(y_test_fs,y_pred_xgb1))))\n",
    "# print('RMSLE score for the XGBoost regressor1 is : {}'.format(np.sqrt(metrics.mean_squared_log_error(y_test_fs,y_pred_xgb1))))\n",
    "print('Variance score for the XGBoost regressor1 is : %.2f' % regressor_xgb1.score(X_test_fs,y_test_fs))\n",
    "\n",
    "print(\"\\n\")\n",
    "\n",
    "#Evaluate the model with PCA params  for Feature Extraction Group\n",
    "print('RMSE score for the XGBoost regressor2 is : {}'.format(np.sqrt(metrics.mean_squared_error(y_test_pca, y_pred_xgb_pca))))\n",
    "print('Variance score for the XGBoost regressor2 is : %.2f' % regressor_xgb2.score(X_test_pca, y_test_pca))"
   ]
  },
  {
   "cell_type": "code",
   "execution_count": 145,
   "metadata": {},
   "outputs": [
    {
     "name": "stdout",
     "output_type": "stream",
     "text": [
      "Total sum of difference between the actual and the predicted values for the RF regressor is : 3242705\n",
      "Total sum of difference between the actual and the predicted values for the tuned XGB regressor is : 2624057\n"
     ]
    }
   ],
   "source": [
    "#Comparing test results for the XGBoost and RF regressor\n",
    "print(\"Total sum of difference between the actual and the predicted values for the RF regressor is : %d\"%np.abs(np.sum(np.subtract(y_test,y_pred_rf))))\n",
    "print(\"Total sum of difference between the actual and the predicted values for the tuned XGB regressor is : %d\"%np.abs(np.sum(np.subtract(y_test,y_pred_xgb1))))"
   ]
  },
  {
   "cell_type": "markdown",
   "metadata": {},
   "source": [
    "# Learning curves :"
   ]
  },
  {
   "cell_type": "code",
   "execution_count": 146,
   "metadata": {
    "scrolled": true
   },
   "outputs": [
    {
     "data": {
      "image/png": "[encoded data removed]",
      "text/plain": [
       "<Figure size 1008x360 with 1 Axes>"
      ]
     },
     "metadata": {
      "needs_background": "light"
     },
     "output_type": "display_data"
    },
    {
     "data": {
      "image/png": "[encoded data removed]",
      "text/plain": [
       "<Figure size 1008x360 with 1 Axes>"
      ]
     },
     "metadata": {
      "needs_background": "light"
     },
     "output_type": "display_data"
    }
   ],
   "source": [
    "#Define a function to plot learning curve.\n",
    "def learning_curves(estimator, title, features, target, train_sizes, cv, n_jobs=-1):\n",
    "    plt.figure(figsize = (14,5))\n",
    "    train_sizes, train_scores, validation_scores = learning_curve(estimator, features, target, train_sizes = train_sizes, cv = cv, scoring = 'neg_mean_squared_error',  n_jobs=n_jobs)\n",
    "    train_scores_mean = -train_scores.mean(axis = 1)\n",
    "    validation_scores_mean = -validation_scores.mean(axis = 1)\n",
    "    \n",
    "    plt.grid()\n",
    "    \n",
    "    plt.plot(train_sizes, train_scores_mean,'o-', color=\"r\", label = 'Training error')\n",
    "    plt.plot(train_sizes, validation_scores_mean,'o-', color=\"g\", label = 'Validation error')\n",
    "\n",
    "    plt.ylabel('MSE', fontsize = 14)\n",
    "    plt.xlabel('Training set size', fontsize = 14)\n",
    "    \n",
    "    title = 'Learning curves for a ' + title + ' model'\n",
    "    plt.title(title, fontsize = 18, loc='left')\n",
    "    \n",
    "    plt.legend(loc=\"best\")\n",
    "    \n",
    "    return plt\n",
    "\n",
    "# score curves, each time with 20% data randomly selected as a validation set.\n",
    "cv = ShuffleSplit(n_splits=10, test_size=0.2, random_state=4)\n",
    "\n",
    "# Plot learning curve for the RF Regressor\n",
    "title = \"Random Forest Regressor\"\n",
    "\n",
    "# Call learning curve with all dataset i.e. traininig and test combined because CV will take of data split.\n",
    "learning_curves(regressor_rf, title, X_opt,y, train_sizes=np.linspace(.1, 1.0, 5), cv=cv, n_jobs=-1)\n",
    "\n",
    "#Plot learning curve for the XGBoost Regressor\n",
    "title = \"XGBoost Regressor\"\n",
    "\n",
    "# Call learning curve on less number of estimators than the tuned estimator because it took too much time for the compilation.\n",
    "learning_curves(XGBRegressor(n_estimators=111,\n",
    "                            learning_rate=0.08,\n",
    "                            gamma=0,\n",
    "                            subsample=0.75,\n",
    "                            colsample_bytree=1,\n",
    "                            max_depth=7,\n",
    "                            min_child_weight=4,\n",
    "                            silent=1), title, X_opt,y, train_sizes=np.linspace(.1, 1.0, 5), cv=cv, n_jobs=-1)\n",
    "\n",
    "plt.show()"
   ]
  },
  {
   "cell_type": "markdown",
   "metadata": {},
   "source": [
    "## Demloy modele pkl : "
   ]
  },
  {
   "cell_type": "code",
   "execution_count": 147,
   "metadata": {},
   "outputs": [],
   "source": [
    "import pickle\n",
    "pickle.dump(regressor_xgb1, open('model_regressor_xgb1.pkl','wb'))\n",
    "\n",
    "model = pickle.load(open('model_regressor_xgb1.pkl','rb'))"
   ]
  },
  {
   "cell_type": "code",
   "execution_count": 148,
   "metadata": {},
   "outputs": [
    {
     "data": {
      "text/plain": [
       "array([1.        , 0.2336312 , 1.13505038])"
      ]
     },
     "execution_count": 148,
     "metadata": {},
     "output_type": "execute_result"
    }
   ],
   "source": [
    "X_train_fs[1]"
   ]
  },
  {
   "cell_type": "code",
   "execution_count": 70,
   "metadata": {},
   "outputs": [
    {
     "data": {
      "text/plain": [
       "array([[  926],\n",
       "       [ 2237],\n",
       "       [ 1798],\n",
       "       [ 6468],\n",
       "       [ 3075],\n",
       "       [ 2594],\n",
       "       [  829],\n",
       "       [ 4107],\n",
       "       [ 1107],\n",
       "       [ 3427],\n",
       "       [ 1836],\n",
       "       [  853],\n",
       "       [ 4441],\n",
       "       [  924],\n",
       "       [ 1015],\n",
       "       [ 1015],\n",
       "       [ 1636],\n",
       "       [  972],\n",
       "       [ 2324],\n",
       "       [ 1971],\n",
       "       [ 1699],\n",
       "       [ 1620],\n",
       "       [  807],\n",
       "       [  646],\n",
       "       [  738],\n",
       "       [ 1325],\n",
       "       [12048],\n",
       "       [ 5091],\n",
       "       [ 1103],\n",
       "       [ 1134],\n",
       "       [  558],\n",
       "       [ 1448],\n",
       "       [  801],\n",
       "       [  968],\n",
       "       [ 1982],\n",
       "       [ 2567],\n",
       "       [ 1462],\n",
       "       [ 1021],\n",
       "       [ 3475],\n",
       "       [ 1033],\n",
       "       [ 1682],\n",
       "       [  626],\n",
       "       [ 8754],\n",
       "       [  524],\n",
       "       [ 1345],\n",
       "       [  881],\n",
       "       [ 1062],\n",
       "       [ 5800],\n",
       "       [ 1079],\n",
       "       [  819],\n",
       "       [ 6267],\n",
       "       [  641],\n",
       "       [ 4311],\n",
       "       [  436],\n",
       "       [  920],\n",
       "       [ 1221],\n",
       "       [  659],\n",
       "       [ 1478],\n",
       "       [ 1310],\n",
       "       [  571],\n",
       "       [ 2445],\n",
       "       [ 2446],\n",
       "       [  920],\n",
       "       [  474],\n",
       "       [  410],\n",
       "       [  454],\n",
       "       [  848],\n",
       "       [ 1342],\n",
       "       [ 1535],\n",
       "       [ 1663],\n",
       "       [ 2008],\n",
       "       [ 1570],\n",
       "       [  546],\n",
       "       [ 9690],\n",
       "       [  922],\n",
       "       [ 2055],\n",
       "       [  922],\n",
       "       [  816],\n",
       "       [  535],\n",
       "       [  679],\n",
       "       [ 1567],\n",
       "       [  440],\n",
       "       [  553],\n",
       "       [ 5558],\n",
       "       [ 1534],\n",
       "       [18916],\n",
       "       [ 3326],\n",
       "       [  692],\n",
       "       [ 1130],\n",
       "       [ 1598],\n",
       "       [  472],\n",
       "       [ 1861],\n",
       "       [ 1032],\n",
       "       [ 2816],\n",
       "       [ 1815],\n",
       "       [ 1084],\n",
       "       [ 2140],\n",
       "       [ 2764],\n",
       "       [  783],\n",
       "       [ 1789],\n",
       "       [  553],\n",
       "       [ 1617],\n",
       "       [  891],\n",
       "       [ 2744],\n",
       "       [  697],\n",
       "       [  627],\n",
       "       [ 1003],\n",
       "       [ 4678],\n",
       "       [ 1733],\n",
       "       [ 1187],\n",
       "       [  776],\n",
       "       [ 1150],\n",
       "       [ 2487],\n",
       "       [ 1370],\n",
       "       [ 2791],\n",
       "       [  860],\n",
       "       [  821],\n",
       "       [ 1339],\n",
       "       [ 4664],\n",
       "       [ 1595],\n",
       "       [  804],\n",
       "       [  984],\n",
       "       [  926],\n",
       "       [ 1857],\n",
       "       [ 1292],\n",
       "       [ 2423],\n",
       "       [ 1327],\n",
       "       [ 1657],\n",
       "       [ 1489],\n",
       "       [ 4968],\n",
       "       [  911],\n",
       "       [  713],\n",
       "       [  956],\n",
       "       [  594],\n",
       "       [  604],\n",
       "       [ 4708],\n",
       "       [  825],\n",
       "       [ 1714],\n",
       "       [ 1491],\n",
       "       [ 1148],\n",
       "       [ 1390],\n",
       "       [ 1025],\n",
       "       [ 1518],\n",
       "       [ 1860],\n",
       "       [  921],\n",
       "       [ 1224],\n",
       "       [  438],\n",
       "       [  585],\n",
       "       [ 2471],\n",
       "       [  407],\n",
       "       [ 7625],\n",
       "       [ 1937],\n",
       "       [ 4146],\n",
       "       [ 1114],\n",
       "       [ 1000],\n",
       "       [  758],\n",
       "       [  484],\n",
       "       [ 1613],\n",
       "       [ 1519],\n",
       "       [ 1515],\n",
       "       [ 4570],\n",
       "       [ 1465],\n",
       "       [ 6167],\n",
       "       [ 1456],\n",
       "       [ 1301],\n",
       "       [  820],\n",
       "       [  501],\n",
       "       [ 1422],\n",
       "       [  471],\n",
       "       [  781],\n",
       "       [ 2242],\n",
       "       [ 1701],\n",
       "       [ 1926],\n",
       "       [ 1210],\n",
       "       [ 1449],\n",
       "       [ 1932],\n",
       "       [ 1626],\n",
       "       [ 1070],\n",
       "       [ 1005],\n",
       "       [  568],\n",
       "       [  951],\n",
       "       [ 1259],\n",
       "       [ 2561],\n",
       "       [ 1067],\n",
       "       [ 1574],\n",
       "       [ 2670],\n",
       "       [ 1620]], dtype=int64)"
      ]
     },
     "execution_count": 70,
     "metadata": {},
     "output_type": "execute_result"
    }
   ],
   "source": [
    "y_test_fs"
   ]
  },
  {
   "cell_type": "code",
   "execution_count": 149,
   "metadata": {},
   "outputs": [
    {
     "data": {
      "text/html": [
       "<div>\n",
       "<style scoped>\n",
       "    .dataframe tbody tr th:only-of-type {\n",
       "        vertical-align: middle;\n",
       "    }\n",
       "\n",
       "    .dataframe tbody tr th {\n",
       "        vertical-align: top;\n",
       "    }\n",
       "\n",
       "    .dataframe thead th {\n",
       "        text-align: right;\n",
       "    }\n",
       "</style>\n",
       "<table border=\"1\" class=\"dataframe\">\n",
       "  <thead>\n",
       "    <tr style=\"text-align: right;\">\n",
       "      <th></th>\n",
       "      <th>prediction</th>\n",
       "      <th>distance</th>\n",
       "      <th>speed</th>\n",
       "    </tr>\n",
       "  </thead>\n",
       "  <tbody>\n",
       "    <tr>\n",
       "      <th>560</th>\n",
       "      <td>1.0</td>\n",
       "      <td>3.744604</td>\n",
       "      <td>4.765138</td>\n",
       "    </tr>\n",
       "    <tr>\n",
       "      <th>561</th>\n",
       "      <td>1.0</td>\n",
       "      <td>1.523243</td>\n",
       "      <td>6.281415</td>\n",
       "    </tr>\n",
       "    <tr>\n",
       "      <th>562</th>\n",
       "      <td>1.0</td>\n",
       "      <td>3.572327</td>\n",
       "      <td>12.809141</td>\n",
       "    </tr>\n",
       "    <tr>\n",
       "      <th>563</th>\n",
       "      <td>1.0</td>\n",
       "      <td>8.946073</td>\n",
       "      <td>15.234562</td>\n",
       "    </tr>\n",
       "    <tr>\n",
       "      <th>564</th>\n",
       "      <td>1.0</td>\n",
       "      <td>0.225483</td>\n",
       "      <td>1.268340</td>\n",
       "    </tr>\n",
       "    <tr>\n",
       "      <th>...</th>\n",
       "      <td>...</td>\n",
       "      <td>...</td>\n",
       "      <td>...</td>\n",
       "    </tr>\n",
       "    <tr>\n",
       "      <th>743</th>\n",
       "      <td>1.0</td>\n",
       "      <td>13.171242</td>\n",
       "      <td>37.073083</td>\n",
       "    </tr>\n",
       "    <tr>\n",
       "      <th>744</th>\n",
       "      <td>1.0</td>\n",
       "      <td>1.649732</td>\n",
       "      <td>4.090244</td>\n",
       "    </tr>\n",
       "    <tr>\n",
       "      <th>745</th>\n",
       "      <td>1.0</td>\n",
       "      <td>2.158493</td>\n",
       "      <td>11.632598</td>\n",
       "    </tr>\n",
       "    <tr>\n",
       "      <th>746</th>\n",
       "      <td>1.0</td>\n",
       "      <td>24.625431</td>\n",
       "      <td>43.118459</td>\n",
       "    </tr>\n",
       "    <tr>\n",
       "      <th>747</th>\n",
       "      <td>1.0</td>\n",
       "      <td>3.451765</td>\n",
       "      <td>9.925204</td>\n",
       "    </tr>\n",
       "  </tbody>\n",
       "</table>\n",
       "<p>188 rows × 3 columns</p>\n",
       "</div>"
      ],
      "text/plain": [
       "     prediction   distance      speed\n",
       "560         1.0   3.744604   4.765138\n",
       "561         1.0   1.523243   6.281415\n",
       "562         1.0   3.572327  12.809141\n",
       "563         1.0   8.946073  15.234562\n",
       "564         1.0   0.225483   1.268340\n",
       "..          ...        ...        ...\n",
       "743         1.0  13.171242  37.073083\n",
       "744         1.0   1.649732   4.090244\n",
       "745         1.0   2.158493  11.632598\n",
       "746         1.0  24.625431  43.118459\n",
       "747         1.0   3.451765   9.925204\n",
       "\n",
       "[188 rows x 3 columns]"
      ]
     },
     "execution_count": 149,
     "metadata": {},
     "output_type": "execute_result"
    }
   ],
   "source": [
    "df = pd.DataFrame(X_train_fs, \n",
    "             columns=['prediction','distance','speed'])\n",
    "df=df[-188:]\n",
    "df"
   ]
  },
  {
   "cell_type": "code",
   "execution_count": 150,
   "metadata": {},
   "outputs": [
    {
     "name": "stdout",
     "output_type": "stream",
     "text": [
      "Changing class type to XGBRegressionExplainer...\n",
      "Generating self.shap_explainer = shap.TreeExplainer(model)\n"
     ]
    }
   ],
   "source": [
    "from explainerdashboard import RegressionExplainer\n",
    "\n",
    "explainer = RegressionExplainer(model, X_test_fs, y_test_fs)"
   ]
  },
  {
   "cell_type": "code",
   "execution_count": 151,
   "metadata": {
    "scrolled": true
   },
   "outputs": [
    {
     "name": "stdout",
     "output_type": "stream",
     "text": [
      "Building ExplainerDashboard..\n",
      "Detected notebook environment, consider setting mode='external', mode='inline' or mode='jupyterlab' to keep the notebook interactive while the dashboard is running...\n",
      "Warning: calculating shap interaction values can be slow! Pass shap_interaction=False to remove interactions tab.\n",
      "Generating layout...\n",
      "Calculating shap values...\n",
      "Calculating predictions...\n",
      "Calculating residuals...\n"
     ]
    },
    {
     "ename": "ValueError",
     "evalue": "operands could not be broadcast together with shapes (187,) (188,) ",
     "output_type": "error",
     "traceback": [
      "\u001b[1;31m---------------------------------------------------------------------------\u001b[0m",
      "\u001b[1;31mValueError\u001b[0m                                Traceback (most recent call last)",
      "\u001b[1;32m<ipython-input-151-a33d352d2a92>\u001b[0m in \u001b[0;36m<module>\u001b[1;34m\u001b[0m\n\u001b[0;32m      1\u001b[0m \u001b[1;32mfrom\u001b[0m \u001b[0mexplainerdashboard\u001b[0m \u001b[1;32mimport\u001b[0m \u001b[0mExplainerDashboard\u001b[0m\u001b[1;33m\u001b[0m\u001b[1;33m\u001b[0m\u001b[0m\n\u001b[1;32m----> 2\u001b[1;33m \u001b[0mExplainerDashboard\u001b[0m\u001b[1;33m(\u001b[0m\u001b[0mexplainer\u001b[0m\u001b[1;33m)\u001b[0m\u001b[1;33m.\u001b[0m\u001b[0mrun\u001b[0m\u001b[1;33m(\u001b[0m\u001b[1;33m)\u001b[0m\u001b[1;33m\u001b[0m\u001b[1;33m\u001b[0m\u001b[0m\n\u001b[0m",
      "\u001b[1;32m~\\anaconda3\\lib\\site-packages\\explainerdashboard\\dashboards.py\u001b[0m in \u001b[0;36m__init__\u001b[1;34m(self, explainer, tabs, title, name, description, simple, hide_header, header_hide_title, header_hide_selector, hide_poweredby, block_selector_callbacks, pos_label, fluid, mode, width, height, bootstrap, external_stylesheets, server, url_base_pathname, responsive, logins, port, importances, model_summary, contributions, whatif, shap_dependence, shap_interaction, decision_trees, **kwargs)\u001b[0m\n\u001b[0;32m    483\u001b[0m         \u001b[1;32mif\u001b[0m \u001b[0misinstance\u001b[0m\u001b[1;33m(\u001b[0m\u001b[0mtabs\u001b[0m\u001b[1;33m,\u001b[0m \u001b[0mlist\u001b[0m\u001b[1;33m)\u001b[0m\u001b[1;33m:\u001b[0m\u001b[1;33m\u001b[0m\u001b[1;33m\u001b[0m\u001b[0m\n\u001b[0;32m    484\u001b[0m             \u001b[0mtabs\u001b[0m \u001b[1;33m=\u001b[0m \u001b[1;33m[\u001b[0m\u001b[0mself\u001b[0m\u001b[1;33m.\u001b[0m\u001b[0m_convert_str_tabs\u001b[0m\u001b[1;33m(\u001b[0m\u001b[0mtab\u001b[0m\u001b[1;33m)\u001b[0m \u001b[1;32mfor\u001b[0m \u001b[0mtab\u001b[0m \u001b[1;32min\u001b[0m \u001b[0mtabs\u001b[0m\u001b[1;33m]\u001b[0m\u001b[1;33m\u001b[0m\u001b[1;33m\u001b[0m\u001b[0m\n\u001b[1;32m--> 485\u001b[1;33m             self.explainer_layout = ExplainerTabsLayout(explainer, tabs, title, \n\u001b[0m\u001b[0;32m    486\u001b[0m                             \u001b[0mdescription\u001b[0m\u001b[1;33m=\u001b[0m\u001b[0mself\u001b[0m\u001b[1;33m.\u001b[0m\u001b[0mdescription\u001b[0m\u001b[1;33m,\u001b[0m\u001b[1;33m\u001b[0m\u001b[1;33m\u001b[0m\u001b[0m\n\u001b[0;32m    487\u001b[0m                             **update_kwargs(kwargs, \n",
      "\u001b[1;32m~\\anaconda3\\lib\\site-packages\\explainerdashboard\\dashboards.py\u001b[0m in \u001b[0;36m__init__\u001b[1;34m(self, explainer, tabs, title, description, header_hide_title, header_hide_selector, hide_poweredby, block_selector_callbacks, pos_label, fluid, **kwargs)\u001b[0m\n\u001b[0;32m     85\u001b[0m \u001b[1;33m\u001b[0m\u001b[0m\n\u001b[0;32m     86\u001b[0m         \u001b[0mself\u001b[0m\u001b[1;33m.\u001b[0m\u001b[0mselector\u001b[0m \u001b[1;33m=\u001b[0m \u001b[0mPosLabelSelector\u001b[0m\u001b[1;33m(\u001b[0m\u001b[0mexplainer\u001b[0m\u001b[1;33m,\u001b[0m \u001b[0mname\u001b[0m\u001b[1;33m=\u001b[0m\u001b[1;34m\"0\"\u001b[0m\u001b[1;33m,\u001b[0m \u001b[0mpos_label\u001b[0m\u001b[1;33m=\u001b[0m\u001b[0mpos_label\u001b[0m\u001b[1;33m)\u001b[0m\u001b[1;33m\u001b[0m\u001b[1;33m\u001b[0m\u001b[0m\n\u001b[1;32m---> 87\u001b[1;33m         \u001b[0mself\u001b[0m\u001b[1;33m.\u001b[0m\u001b[0mtabs\u001b[0m  \u001b[1;33m=\u001b[0m \u001b[1;33m[\u001b[0m\u001b[0minstantiate_component\u001b[0m\u001b[1;33m(\u001b[0m\u001b[0mtab\u001b[0m\u001b[1;33m,\u001b[0m \u001b[0mexplainer\u001b[0m\u001b[1;33m,\u001b[0m \u001b[0mname\u001b[0m\u001b[1;33m=\u001b[0m\u001b[0mstr\u001b[0m\u001b[1;33m(\u001b[0m\u001b[0mi\u001b[0m\u001b[1;33m+\u001b[0m\u001b[1;36m1\u001b[0m\u001b[1;33m)\u001b[0m\u001b[1;33m,\u001b[0m \u001b[1;33m**\u001b[0m\u001b[0mkwargs\u001b[0m\u001b[1;33m)\u001b[0m \u001b[1;32mfor\u001b[0m \u001b[0mi\u001b[0m\u001b[1;33m,\u001b[0m \u001b[0mtab\u001b[0m \u001b[1;32min\u001b[0m \u001b[0menumerate\u001b[0m\u001b[1;33m(\u001b[0m\u001b[0mtabs\u001b[0m\u001b[1;33m)\u001b[0m\u001b[1;33m]\u001b[0m\u001b[1;33m\u001b[0m\u001b[1;33m\u001b[0m\u001b[0m\n\u001b[0m\u001b[0;32m     88\u001b[0m         \u001b[1;32massert\u001b[0m \u001b[0mlen\u001b[0m\u001b[1;33m(\u001b[0m\u001b[0mself\u001b[0m\u001b[1;33m.\u001b[0m\u001b[0mtabs\u001b[0m\u001b[1;33m)\u001b[0m \u001b[1;33m>\u001b[0m \u001b[1;36m0\u001b[0m\u001b[1;33m,\u001b[0m \u001b[1;34m'When passing a list to tabs, need to pass at least one valid tab!'\u001b[0m\u001b[1;33m\u001b[0m\u001b[1;33m\u001b[0m\u001b[0m\n\u001b[0;32m     89\u001b[0m \u001b[1;33m\u001b[0m\u001b[0m\n",
      "\u001b[1;32m~\\anaconda3\\lib\\site-packages\\explainerdashboard\\dashboards.py\u001b[0m in \u001b[0;36m<listcomp>\u001b[1;34m(.0)\u001b[0m\n\u001b[0;32m     85\u001b[0m \u001b[1;33m\u001b[0m\u001b[0m\n\u001b[0;32m     86\u001b[0m         \u001b[0mself\u001b[0m\u001b[1;33m.\u001b[0m\u001b[0mselector\u001b[0m \u001b[1;33m=\u001b[0m \u001b[0mPosLabelSelector\u001b[0m\u001b[1;33m(\u001b[0m\u001b[0mexplainer\u001b[0m\u001b[1;33m,\u001b[0m \u001b[0mname\u001b[0m\u001b[1;33m=\u001b[0m\u001b[1;34m\"0\"\u001b[0m\u001b[1;33m,\u001b[0m \u001b[0mpos_label\u001b[0m\u001b[1;33m=\u001b[0m\u001b[0mpos_label\u001b[0m\u001b[1;33m)\u001b[0m\u001b[1;33m\u001b[0m\u001b[1;33m\u001b[0m\u001b[0m\n\u001b[1;32m---> 87\u001b[1;33m         \u001b[0mself\u001b[0m\u001b[1;33m.\u001b[0m\u001b[0mtabs\u001b[0m  \u001b[1;33m=\u001b[0m \u001b[1;33m[\u001b[0m\u001b[0minstantiate_component\u001b[0m\u001b[1;33m(\u001b[0m\u001b[0mtab\u001b[0m\u001b[1;33m,\u001b[0m \u001b[0mexplainer\u001b[0m\u001b[1;33m,\u001b[0m \u001b[0mname\u001b[0m\u001b[1;33m=\u001b[0m\u001b[0mstr\u001b[0m\u001b[1;33m(\u001b[0m\u001b[0mi\u001b[0m\u001b[1;33m+\u001b[0m\u001b[1;36m1\u001b[0m\u001b[1;33m)\u001b[0m\u001b[1;33m,\u001b[0m \u001b[1;33m**\u001b[0m\u001b[0mkwargs\u001b[0m\u001b[1;33m)\u001b[0m \u001b[1;32mfor\u001b[0m \u001b[0mi\u001b[0m\u001b[1;33m,\u001b[0m \u001b[0mtab\u001b[0m \u001b[1;32min\u001b[0m \u001b[0menumerate\u001b[0m\u001b[1;33m(\u001b[0m\u001b[0mtabs\u001b[0m\u001b[1;33m)\u001b[0m\u001b[1;33m]\u001b[0m\u001b[1;33m\u001b[0m\u001b[1;33m\u001b[0m\u001b[0m\n\u001b[0m\u001b[0;32m     88\u001b[0m         \u001b[1;32massert\u001b[0m \u001b[0mlen\u001b[0m\u001b[1;33m(\u001b[0m\u001b[0mself\u001b[0m\u001b[1;33m.\u001b[0m\u001b[0mtabs\u001b[0m\u001b[1;33m)\u001b[0m \u001b[1;33m>\u001b[0m \u001b[1;36m0\u001b[0m\u001b[1;33m,\u001b[0m \u001b[1;34m'When passing a list to tabs, need to pass at least one valid tab!'\u001b[0m\u001b[1;33m\u001b[0m\u001b[1;33m\u001b[0m\u001b[0m\n\u001b[0;32m     89\u001b[0m \u001b[1;33m\u001b[0m\u001b[0m\n",
      "\u001b[1;32m~\\anaconda3\\lib\\site-packages\\explainerdashboard\\dashboard_methods.py\u001b[0m in \u001b[0;36minstantiate_component\u001b[1;34m(component, explainer, name, **kwargs)\u001b[0m\n\u001b[0;32m    625\u001b[0m             \u001b[0mkwargs\u001b[0m \u001b[1;33m=\u001b[0m \u001b[1;33m{\u001b[0m\u001b[0mk\u001b[0m\u001b[1;33m:\u001b[0m\u001b[0mv\u001b[0m \u001b[1;32mfor\u001b[0m \u001b[0mk\u001b[0m\u001b[1;33m,\u001b[0m\u001b[0mv\u001b[0m \u001b[1;32min\u001b[0m \u001b[0mkwargs\u001b[0m\u001b[1;33m.\u001b[0m\u001b[0mitems\u001b[0m\u001b[1;33m(\u001b[0m\u001b[1;33m)\u001b[0m \u001b[1;32mif\u001b[0m \u001b[0mk\u001b[0m \u001b[1;32min\u001b[0m \u001b[0minit_argspec\u001b[0m\u001b[1;33m.\u001b[0m\u001b[0margs\u001b[0m \u001b[1;33m+\u001b[0m \u001b[0minit_argspec\u001b[0m\u001b[1;33m.\u001b[0m\u001b[0mkwonlyargs\u001b[0m\u001b[1;33m}\u001b[0m\u001b[1;33m\u001b[0m\u001b[1;33m\u001b[0m\u001b[0m\n\u001b[0;32m    626\u001b[0m         \u001b[1;32mif\u001b[0m \u001b[1;34m\"name\"\u001b[0m \u001b[1;32min\u001b[0m \u001b[0minit_argspec\u001b[0m\u001b[1;33m.\u001b[0m\u001b[0margs\u001b[0m\u001b[1;33m+\u001b[0m\u001b[0minit_argspec\u001b[0m\u001b[1;33m.\u001b[0m\u001b[0mkwonlyargs\u001b[0m\u001b[1;33m:\u001b[0m\u001b[1;33m\u001b[0m\u001b[1;33m\u001b[0m\u001b[0m\n\u001b[1;32m--> 627\u001b[1;33m             \u001b[0mcomponent\u001b[0m \u001b[1;33m=\u001b[0m \u001b[0mcomponent\u001b[0m\u001b[1;33m(\u001b[0m\u001b[0mexplainer\u001b[0m\u001b[1;33m,\u001b[0m \u001b[0mname\u001b[0m\u001b[1;33m=\u001b[0m\u001b[0mname\u001b[0m\u001b[1;33m,\u001b[0m \u001b[1;33m**\u001b[0m\u001b[0mkwargs\u001b[0m\u001b[1;33m)\u001b[0m\u001b[1;33m\u001b[0m\u001b[1;33m\u001b[0m\u001b[0m\n\u001b[0m\u001b[0;32m    628\u001b[0m         \u001b[1;32melse\u001b[0m\u001b[1;33m:\u001b[0m\u001b[1;33m\u001b[0m\u001b[1;33m\u001b[0m\u001b[0m\n\u001b[0;32m    629\u001b[0m             print(f\"ExplainerComponent {component} does not accept a name parameter, \"\n",
      "\u001b[1;32m~\\anaconda3\\lib\\site-packages\\explainerdashboard\\dashboard_components\\composites.py\u001b[0m in \u001b[0;36m__init__\u001b[1;34m(self, explainer, title, name, hide_predindexselector, hide_predictionsummary, hide_contributiongraph, hide_pdp, hide_contributiontable, hide_title, hide_selector, index_check, **kwargs)\u001b[0m\n\u001b[0;32m    279\u001b[0m                     hide_selector=hide_selector, **kwargs)\n\u001b[0;32m    280\u001b[0m         \u001b[1;32melif\u001b[0m \u001b[0mself\u001b[0m\u001b[1;33m.\u001b[0m\u001b[0mexplainer\u001b[0m\u001b[1;33m.\u001b[0m\u001b[0mis_regression\u001b[0m\u001b[1;33m:\u001b[0m\u001b[1;33m\u001b[0m\u001b[1;33m\u001b[0m\u001b[0m\n\u001b[1;32m--> 281\u001b[1;33m             self.index = RegressionRandomIndexComponent(explainer, name=self.name+\"0\",\n\u001b[0m\u001b[0;32m    282\u001b[0m                     hide_selector=hide_selector, **kwargs)\n\u001b[0;32m    283\u001b[0m             self.summary = RegressionPredictionSummaryComponent(explainer, name=self.name+\"1\",\n",
      "\u001b[1;32m~\\anaconda3\\lib\\site-packages\\explainerdashboard\\dashboard_components\\regression_components.py\u001b[0m in \u001b[0;36m__init__\u001b[1;34m(self, explainer, title, name, subtitle, hide_title, hide_subtitle, hide_index, hide_pred_slider, hide_residual_slider, hide_pred_or_y, hide_abs_residuals, hide_button, index_dropdown, index, pred_slider, y_slider, residual_slider, abs_residual_slider, pred_or_y, abs_residuals, round, description, **kwargs)\u001b[0m\n\u001b[0;32m    109\u001b[0m \u001b[1;33m\u001b[0m\u001b[0m\n\u001b[0;32m    110\u001b[0m             \u001b[1;32mif\u001b[0m \u001b[0mself\u001b[0m\u001b[1;33m.\u001b[0m\u001b[0mresidual_slider\u001b[0m \u001b[1;32mis\u001b[0m \u001b[1;32mNone\u001b[0m\u001b[1;33m:\u001b[0m\u001b[1;33m\u001b[0m\u001b[1;33m\u001b[0m\u001b[0m\n\u001b[1;32m--> 111\u001b[1;33m                 self.residual_slider = [float(self.explainer.residuals.min()), \n\u001b[0m\u001b[0;32m    112\u001b[0m                                         float(self.explainer.residuals.max())]\n\u001b[0;32m    113\u001b[0m \u001b[1;33m\u001b[0m\u001b[0m\n",
      "\u001b[1;32m~\\anaconda3\\lib\\site-packages\\explainerdashboard\\explainers.py\u001b[0m in \u001b[0;36mresiduals\u001b[1;34m(self)\u001b[0m\n\u001b[0;32m   3135\u001b[0m         \u001b[1;32mif\u001b[0m \u001b[1;32mnot\u001b[0m \u001b[0mhasattr\u001b[0m\u001b[1;33m(\u001b[0m\u001b[0mself\u001b[0m\u001b[1;33m,\u001b[0m \u001b[1;34m'_residuals'\u001b[0m\u001b[1;33m)\u001b[0m\u001b[1;33m:\u001b[0m\u001b[1;33m\u001b[0m\u001b[1;33m\u001b[0m\u001b[0m\n\u001b[0;32m   3136\u001b[0m             \u001b[0mprint\u001b[0m\u001b[1;33m(\u001b[0m\u001b[1;34m\"Calculating residuals...\"\u001b[0m\u001b[1;33m)\u001b[0m\u001b[1;33m\u001b[0m\u001b[1;33m\u001b[0m\u001b[0m\n\u001b[1;32m-> 3137\u001b[1;33m             \u001b[0mself\u001b[0m\u001b[1;33m.\u001b[0m\u001b[0m_residuals\u001b[0m \u001b[1;33m=\u001b[0m  \u001b[1;33m(\u001b[0m\u001b[0mself\u001b[0m\u001b[1;33m.\u001b[0m\u001b[0my\u001b[0m\u001b[1;33m-\u001b[0m\u001b[0mself\u001b[0m\u001b[1;33m.\u001b[0m\u001b[0mpreds\u001b[0m\u001b[1;33m)\u001b[0m\u001b[1;33m.\u001b[0m\u001b[0mastype\u001b[0m\u001b[1;33m(\u001b[0m\u001b[0mself\u001b[0m\u001b[1;33m.\u001b[0m\u001b[0mprecision\u001b[0m\u001b[1;33m)\u001b[0m\u001b[1;33m\u001b[0m\u001b[1;33m\u001b[0m\u001b[0m\n\u001b[0m\u001b[0;32m   3138\u001b[0m         \u001b[1;32mreturn\u001b[0m \u001b[0mself\u001b[0m\u001b[1;33m.\u001b[0m\u001b[0m_residuals\u001b[0m\u001b[1;33m\u001b[0m\u001b[1;33m\u001b[0m\u001b[0m\n\u001b[0;32m   3139\u001b[0m \u001b[1;33m\u001b[0m\u001b[0m\n",
      "\u001b[1;32m~\\anaconda3\\lib\\site-packages\\pandas\\core\\ops\\common.py\u001b[0m in \u001b[0;36mnew_method\u001b[1;34m(self, other)\u001b[0m\n\u001b[0;32m     63\u001b[0m         \u001b[0mother\u001b[0m \u001b[1;33m=\u001b[0m \u001b[0mitem_from_zerodim\u001b[0m\u001b[1;33m(\u001b[0m\u001b[0mother\u001b[0m\u001b[1;33m)\u001b[0m\u001b[1;33m\u001b[0m\u001b[1;33m\u001b[0m\u001b[0m\n\u001b[0;32m     64\u001b[0m \u001b[1;33m\u001b[0m\u001b[0m\n\u001b[1;32m---> 65\u001b[1;33m         \u001b[1;32mreturn\u001b[0m \u001b[0mmethod\u001b[0m\u001b[1;33m(\u001b[0m\u001b[0mself\u001b[0m\u001b[1;33m,\u001b[0m \u001b[0mother\u001b[0m\u001b[1;33m)\u001b[0m\u001b[1;33m\u001b[0m\u001b[1;33m\u001b[0m\u001b[0m\n\u001b[0m\u001b[0;32m     66\u001b[0m \u001b[1;33m\u001b[0m\u001b[0m\n\u001b[0;32m     67\u001b[0m     \u001b[1;32mreturn\u001b[0m \u001b[0mnew_method\u001b[0m\u001b[1;33m\u001b[0m\u001b[1;33m\u001b[0m\u001b[0m\n",
      "\u001b[1;32m~\\anaconda3\\lib\\site-packages\\pandas\\core\\arraylike.py\u001b[0m in \u001b[0;36m__sub__\u001b[1;34m(self, other)\u001b[0m\n\u001b[0;32m     95\u001b[0m     \u001b[1;33m@\u001b[0m\u001b[0munpack_zerodim_and_defer\u001b[0m\u001b[1;33m(\u001b[0m\u001b[1;34m\"__sub__\"\u001b[0m\u001b[1;33m)\u001b[0m\u001b[1;33m\u001b[0m\u001b[1;33m\u001b[0m\u001b[0m\n\u001b[0;32m     96\u001b[0m     \u001b[1;32mdef\u001b[0m \u001b[0m__sub__\u001b[0m\u001b[1;33m(\u001b[0m\u001b[0mself\u001b[0m\u001b[1;33m,\u001b[0m \u001b[0mother\u001b[0m\u001b[1;33m)\u001b[0m\u001b[1;33m:\u001b[0m\u001b[1;33m\u001b[0m\u001b[1;33m\u001b[0m\u001b[0m\n\u001b[1;32m---> 97\u001b[1;33m         \u001b[1;32mreturn\u001b[0m \u001b[0mself\u001b[0m\u001b[1;33m.\u001b[0m\u001b[0m_arith_method\u001b[0m\u001b[1;33m(\u001b[0m\u001b[0mother\u001b[0m\u001b[1;33m,\u001b[0m \u001b[0moperator\u001b[0m\u001b[1;33m.\u001b[0m\u001b[0msub\u001b[0m\u001b[1;33m)\u001b[0m\u001b[1;33m\u001b[0m\u001b[1;33m\u001b[0m\u001b[0m\n\u001b[0m\u001b[0;32m     98\u001b[0m \u001b[1;33m\u001b[0m\u001b[0m\n\u001b[0;32m     99\u001b[0m     \u001b[1;33m@\u001b[0m\u001b[0munpack_zerodim_and_defer\u001b[0m\u001b[1;33m(\u001b[0m\u001b[1;34m\"__rsub__\"\u001b[0m\u001b[1;33m)\u001b[0m\u001b[1;33m\u001b[0m\u001b[1;33m\u001b[0m\u001b[0m\n",
      "\u001b[1;32m~\\anaconda3\\lib\\site-packages\\pandas\\core\\series.py\u001b[0m in \u001b[0;36m_arith_method\u001b[1;34m(self, other, op)\u001b[0m\n\u001b[0;32m   4996\u001b[0m         \u001b[0mlvalues\u001b[0m \u001b[1;33m=\u001b[0m \u001b[0mextract_array\u001b[0m\u001b[1;33m(\u001b[0m\u001b[0mself\u001b[0m\u001b[1;33m,\u001b[0m \u001b[0mextract_numpy\u001b[0m\u001b[1;33m=\u001b[0m\u001b[1;32mTrue\u001b[0m\u001b[1;33m)\u001b[0m\u001b[1;33m\u001b[0m\u001b[1;33m\u001b[0m\u001b[0m\n\u001b[0;32m   4997\u001b[0m         \u001b[0mrvalues\u001b[0m \u001b[1;33m=\u001b[0m \u001b[0mextract_array\u001b[0m\u001b[1;33m(\u001b[0m\u001b[0mother\u001b[0m\u001b[1;33m,\u001b[0m \u001b[0mextract_numpy\u001b[0m\u001b[1;33m=\u001b[0m\u001b[1;32mTrue\u001b[0m\u001b[1;33m)\u001b[0m\u001b[1;33m\u001b[0m\u001b[1;33m\u001b[0m\u001b[0m\n\u001b[1;32m-> 4998\u001b[1;33m         \u001b[0mresult\u001b[0m \u001b[1;33m=\u001b[0m \u001b[0mops\u001b[0m\u001b[1;33m.\u001b[0m\u001b[0marithmetic_op\u001b[0m\u001b[1;33m(\u001b[0m\u001b[0mlvalues\u001b[0m\u001b[1;33m,\u001b[0m \u001b[0mrvalues\u001b[0m\u001b[1;33m,\u001b[0m \u001b[0mop\u001b[0m\u001b[1;33m)\u001b[0m\u001b[1;33m\u001b[0m\u001b[1;33m\u001b[0m\u001b[0m\n\u001b[0m\u001b[0;32m   4999\u001b[0m \u001b[1;33m\u001b[0m\u001b[0m\n\u001b[0;32m   5000\u001b[0m         \u001b[1;32mreturn\u001b[0m \u001b[0mself\u001b[0m\u001b[1;33m.\u001b[0m\u001b[0m_construct_result\u001b[0m\u001b[1;33m(\u001b[0m\u001b[0mresult\u001b[0m\u001b[1;33m,\u001b[0m \u001b[0mname\u001b[0m\u001b[1;33m=\u001b[0m\u001b[0mres_name\u001b[0m\u001b[1;33m)\u001b[0m\u001b[1;33m\u001b[0m\u001b[1;33m\u001b[0m\u001b[0m\n",
      "\u001b[1;32m~\\anaconda3\\lib\\site-packages\\pandas\\core\\ops\\array_ops.py\u001b[0m in \u001b[0;36marithmetic_op\u001b[1;34m(left, right, op)\u001b[0m\n\u001b[0;32m    187\u001b[0m     \u001b[1;32melse\u001b[0m\u001b[1;33m:\u001b[0m\u001b[1;33m\u001b[0m\u001b[1;33m\u001b[0m\u001b[0m\n\u001b[0;32m    188\u001b[0m         \u001b[1;32mwith\u001b[0m \u001b[0mnp\u001b[0m\u001b[1;33m.\u001b[0m\u001b[0merrstate\u001b[0m\u001b[1;33m(\u001b[0m\u001b[0mall\u001b[0m\u001b[1;33m=\u001b[0m\u001b[1;34m\"ignore\"\u001b[0m\u001b[1;33m)\u001b[0m\u001b[1;33m:\u001b[0m\u001b[1;33m\u001b[0m\u001b[1;33m\u001b[0m\u001b[0m\n\u001b[1;32m--> 189\u001b[1;33m             \u001b[0mres_values\u001b[0m \u001b[1;33m=\u001b[0m \u001b[0m_na_arithmetic_op\u001b[0m\u001b[1;33m(\u001b[0m\u001b[0mlvalues\u001b[0m\u001b[1;33m,\u001b[0m \u001b[0mrvalues\u001b[0m\u001b[1;33m,\u001b[0m \u001b[0mop\u001b[0m\u001b[1;33m)\u001b[0m\u001b[1;33m\u001b[0m\u001b[1;33m\u001b[0m\u001b[0m\n\u001b[0m\u001b[0;32m    190\u001b[0m \u001b[1;33m\u001b[0m\u001b[0m\n\u001b[0;32m    191\u001b[0m     \u001b[1;32mreturn\u001b[0m \u001b[0mres_values\u001b[0m\u001b[1;33m\u001b[0m\u001b[1;33m\u001b[0m\u001b[0m\n",
      "\u001b[1;32m~\\anaconda3\\lib\\site-packages\\pandas\\core\\ops\\array_ops.py\u001b[0m in \u001b[0;36m_na_arithmetic_op\u001b[1;34m(left, right, op, is_cmp)\u001b[0m\n\u001b[0;32m    140\u001b[0m \u001b[1;33m\u001b[0m\u001b[0m\n\u001b[0;32m    141\u001b[0m     \u001b[1;32mtry\u001b[0m\u001b[1;33m:\u001b[0m\u001b[1;33m\u001b[0m\u001b[1;33m\u001b[0m\u001b[0m\n\u001b[1;32m--> 142\u001b[1;33m         \u001b[0mresult\u001b[0m \u001b[1;33m=\u001b[0m \u001b[0mexpressions\u001b[0m\u001b[1;33m.\u001b[0m\u001b[0mevaluate\u001b[0m\u001b[1;33m(\u001b[0m\u001b[0mop\u001b[0m\u001b[1;33m,\u001b[0m \u001b[0mleft\u001b[0m\u001b[1;33m,\u001b[0m \u001b[0mright\u001b[0m\u001b[1;33m)\u001b[0m\u001b[1;33m\u001b[0m\u001b[1;33m\u001b[0m\u001b[0m\n\u001b[0m\u001b[0;32m    143\u001b[0m     \u001b[1;32mexcept\u001b[0m \u001b[0mTypeError\u001b[0m\u001b[1;33m:\u001b[0m\u001b[1;33m\u001b[0m\u001b[1;33m\u001b[0m\u001b[0m\n\u001b[0;32m    144\u001b[0m         \u001b[1;32mif\u001b[0m \u001b[0mis_cmp\u001b[0m\u001b[1;33m:\u001b[0m\u001b[1;33m\u001b[0m\u001b[1;33m\u001b[0m\u001b[0m\n",
      "\u001b[1;32m~\\anaconda3\\lib\\site-packages\\pandas\\core\\computation\\expressions.py\u001b[0m in \u001b[0;36mevaluate\u001b[1;34m(op, a, b, use_numexpr)\u001b[0m\n\u001b[0;32m    233\u001b[0m         \u001b[1;32mif\u001b[0m \u001b[0muse_numexpr\u001b[0m\u001b[1;33m:\u001b[0m\u001b[1;33m\u001b[0m\u001b[1;33m\u001b[0m\u001b[0m\n\u001b[0;32m    234\u001b[0m             \u001b[1;31m# error: \"None\" not callable\u001b[0m\u001b[1;33m\u001b[0m\u001b[1;33m\u001b[0m\u001b[1;33m\u001b[0m\u001b[0m\n\u001b[1;32m--> 235\u001b[1;33m             \u001b[1;32mreturn\u001b[0m \u001b[0m_evaluate\u001b[0m\u001b[1;33m(\u001b[0m\u001b[0mop\u001b[0m\u001b[1;33m,\u001b[0m \u001b[0mop_str\u001b[0m\u001b[1;33m,\u001b[0m \u001b[0ma\u001b[0m\u001b[1;33m,\u001b[0m \u001b[0mb\u001b[0m\u001b[1;33m)\u001b[0m  \u001b[1;31m# type: ignore[misc]\u001b[0m\u001b[1;33m\u001b[0m\u001b[1;33m\u001b[0m\u001b[0m\n\u001b[0m\u001b[0;32m    236\u001b[0m     \u001b[1;32mreturn\u001b[0m \u001b[0m_evaluate_standard\u001b[0m\u001b[1;33m(\u001b[0m\u001b[0mop\u001b[0m\u001b[1;33m,\u001b[0m \u001b[0mop_str\u001b[0m\u001b[1;33m,\u001b[0m \u001b[0ma\u001b[0m\u001b[1;33m,\u001b[0m \u001b[0mb\u001b[0m\u001b[1;33m)\u001b[0m\u001b[1;33m\u001b[0m\u001b[1;33m\u001b[0m\u001b[0m\n\u001b[0;32m    237\u001b[0m \u001b[1;33m\u001b[0m\u001b[0m\n",
      "\u001b[1;32m~\\anaconda3\\lib\\site-packages\\pandas\\core\\computation\\expressions.py\u001b[0m in \u001b[0;36m_evaluate_numexpr\u001b[1;34m(op, op_str, a, b)\u001b[0m\n\u001b[0;32m    118\u001b[0m \u001b[1;33m\u001b[0m\u001b[0m\n\u001b[0;32m    119\u001b[0m     \u001b[1;32mif\u001b[0m \u001b[0mresult\u001b[0m \u001b[1;32mis\u001b[0m \u001b[1;32mNone\u001b[0m\u001b[1;33m:\u001b[0m\u001b[1;33m\u001b[0m\u001b[1;33m\u001b[0m\u001b[0m\n\u001b[1;32m--> 120\u001b[1;33m         \u001b[0mresult\u001b[0m \u001b[1;33m=\u001b[0m \u001b[0m_evaluate_standard\u001b[0m\u001b[1;33m(\u001b[0m\u001b[0mop\u001b[0m\u001b[1;33m,\u001b[0m \u001b[0mop_str\u001b[0m\u001b[1;33m,\u001b[0m \u001b[0ma\u001b[0m\u001b[1;33m,\u001b[0m \u001b[0mb\u001b[0m\u001b[1;33m)\u001b[0m\u001b[1;33m\u001b[0m\u001b[1;33m\u001b[0m\u001b[0m\n\u001b[0m\u001b[0;32m    121\u001b[0m \u001b[1;33m\u001b[0m\u001b[0m\n\u001b[0;32m    122\u001b[0m     \u001b[1;32mreturn\u001b[0m \u001b[0mresult\u001b[0m\u001b[1;33m\u001b[0m\u001b[1;33m\u001b[0m\u001b[0m\n",
      "\u001b[1;32m~\\anaconda3\\lib\\site-packages\\pandas\\core\\computation\\expressions.py\u001b[0m in \u001b[0;36m_evaluate_standard\u001b[1;34m(op, op_str, a, b)\u001b[0m\n\u001b[0;32m     67\u001b[0m         \u001b[0m_store_test_result\u001b[0m\u001b[1;33m(\u001b[0m\u001b[1;32mFalse\u001b[0m\u001b[1;33m)\u001b[0m\u001b[1;33m\u001b[0m\u001b[1;33m\u001b[0m\u001b[0m\n\u001b[0;32m     68\u001b[0m     \u001b[1;32mwith\u001b[0m \u001b[0mnp\u001b[0m\u001b[1;33m.\u001b[0m\u001b[0merrstate\u001b[0m\u001b[1;33m(\u001b[0m\u001b[0mall\u001b[0m\u001b[1;33m=\u001b[0m\u001b[1;34m\"ignore\"\u001b[0m\u001b[1;33m)\u001b[0m\u001b[1;33m:\u001b[0m\u001b[1;33m\u001b[0m\u001b[1;33m\u001b[0m\u001b[0m\n\u001b[1;32m---> 69\u001b[1;33m         \u001b[1;32mreturn\u001b[0m \u001b[0mop\u001b[0m\u001b[1;33m(\u001b[0m\u001b[0ma\u001b[0m\u001b[1;33m,\u001b[0m \u001b[0mb\u001b[0m\u001b[1;33m)\u001b[0m\u001b[1;33m\u001b[0m\u001b[1;33m\u001b[0m\u001b[0m\n\u001b[0m\u001b[0;32m     70\u001b[0m \u001b[1;33m\u001b[0m\u001b[0m\n\u001b[0;32m     71\u001b[0m \u001b[1;33m\u001b[0m\u001b[0m\n",
      "\u001b[1;31mValueError\u001b[0m: operands could not be broadcast together with shapes (187,) (188,) "
     ]
    }
   ],
   "source": [
    "from explainerdashboard import ExplainerDashboard\n",
    "ExplainerDashboard(explainer).run()"
   ]
  },
  {
   "cell_type": "code",
   "execution_count": null,
   "metadata": {},
   "outputs": [],
   "source": [
    "df1"
   ]
  },
  {
   "cell_type": "markdown",
   "metadata": {},
   "source": [
    "### Define evaluation metric"
   ]
  },
  {
   "cell_type": "code",
   "execution_count": 74,
   "metadata": {},
   "outputs": [],
   "source": [
    "import pickle\n",
    "filename = \"xgb_model.sav\"\n",
    "pickle.dump(regressor_xgb, open(filename, 'wb'))"
   ]
  },
  {
   "cell_type": "raw",
   "metadata": {},
   "source": [
    "test.head()"
   ]
  },
  {
   "cell_type": "code",
   "execution_count": 77,
   "metadata": {},
   "outputs": [
    {
     "name": "stdout",
     "output_type": "stream",
     "text": [
      "[15:51:35] WARNING: C:/Users/Administrator/workspace/xgboost-win64_release_1.4.0/src/objective/regression_obj.cu:171: reg:linear is now deprecated in favor of reg:squarederror.\n"
     ]
    }
   ],
   "source": [
    "import xgboost as xgb\n",
    "from sklearn.metrics import mean_squared_error\n",
    "data_dmatrix = xgb.DMatrix(data=X,label=y)\n",
    "X_train, X_test, y_train, y_test = train_test_split(X, y, test_size=0.2, random_state=123)\n",
    "xg_reg = xgb.XGBRegressor(objective ='reg:linear', colsample_bytree = 0.3, learning_rate = 0.1,\n",
    "                max_depth = 5, alpha = 10, n_estimators = 10)\n",
    "xg_reg.fit(X_train,y_train)\n",
    "\n",
    "preds = xg_reg.predict(X_test)"
   ]
  },
  {
   "cell_type": "code",
   "execution_count": 78,
   "metadata": {},
   "outputs": [
    {
     "name": "stdout",
     "output_type": "stream",
     "text": [
      "RMSE: 2325.579628\n"
     ]
    }
   ],
   "source": [
    "rmse = np.sqrt(mean_squared_error(y_test, preds))\n",
    "print(\"RMSE: %f\" % (rmse))"
   ]
  },
  {
   "cell_type": "code",
   "execution_count": 79,
   "metadata": {},
   "outputs": [
    {
     "name": "stdout",
     "output_type": "stream",
     "text": [
      "[15:51:39] WARNING: C:/Users/Administrator/workspace/xgboost-win64_release_1.4.0/src/objective/regression_obj.cu:171: reg:linear is now deprecated in favor of reg:squarederror.\n",
      "[15:51:39] WARNING: C:/Users/Administrator/workspace/xgboost-win64_release_1.4.0/src/objective/regression_obj.cu:171: reg:linear is now deprecated in favor of reg:squarederror.\n",
      "[15:51:39] WARNING: C:/Users/Administrator/workspace/xgboost-win64_release_1.4.0/src/objective/regression_obj.cu:171: reg:linear is now deprecated in favor of reg:squarederror.\n",
      "[15:51:39] WARNING: C:/Users/Administrator/workspace/xgboost-win64_release_1.4.0/src/objective/regression_obj.cu:171: reg:linear is now deprecated in favor of reg:squarederror.\n"
     ]
    }
   ],
   "source": [
    "params = {\"objective\":\"reg:linear\",'colsample_bytree': 0.3,'learning_rate': 0.1,\n",
    "                'max_depth': 5, 'alpha': 10}\n",
    "\n",
    "cv_results = xgb.cv(dtrain=data_dmatrix, params=params, nfold=3,\n",
    "                    num_boost_round=50,early_stopping_rounds=10,metrics=\"rmse\", as_pandas=True, seed=123)\n",
    "xg_reg = xgb.train(params=params, dtrain=data_dmatrix, num_boost_round=10)"
   ]
  },
  {
   "cell_type": "code",
   "execution_count": 81,
   "metadata": {},
   "outputs": [
    {
     "data": {
      "image/png": "[encoded data removed]",
      "text/plain": [
       "<Figure size 432x288 with 1 Axes>"
      ]
     },
     "metadata": {
      "needs_background": "light"
     },
     "output_type": "display_data"
    }
   ],
   "source": [
    "xgb.plot_importance(xg_reg)\n",
    "plt.rcParams['figure.figsize'] = [5, 5]\n",
    "plt.show()"
   ]
  },
  {
   "cell_type": "code",
   "execution_count": 863,
   "metadata": {},
   "outputs": [],
   "source": [
    "from explainerdashboard import ClassifierExplainer, RegressionExplainer"
   ]
  },
  {
   "cell_type": "code",
   "execution_count": 907,
   "metadata": {},
   "outputs": [
    {
     "name": "stdout",
     "output_type": "stream",
     "text": [
      "Changing class type to XGBRegressionExplainer...\n",
      "Generating self.shap_explainer = shap.TreeExplainer(model)\n"
     ]
    }
   ],
   "source": [
    "explainer = RegressionExplainer(regressor_xgbraw, X_test, y_test)"
   ]
  },
  {
   "cell_type": "code",
   "execution_count": 1154,
   "metadata": {},
   "outputs": [],
   "source": [
    "from explainerdashboard import ExplainerDashboard"
   ]
  },
  {
   "cell_type": "code",
   "execution_count": 1155,
   "metadata": {},
   "outputs": [
    {
     "name": "stdout",
     "output_type": "stream",
     "text": [
      "Building ExplainerDashboard..\n",
      "Detected notebook environment, consider setting mode='external', mode='inline' or mode='jupyterlab' to keep the notebook interactive while the dashboard is running...\n",
      "Warning: calculating shap interaction values can be slow! Pass shap_interaction=False to remove interactions tab.\n",
      "Generating layout...\n",
      "Calculating shap values...\n"
     ]
    },
    {
     "ename": "ValueError",
     "evalue": "This reshape error is often caused by passing a bad data matrix to SHAP. See https://github.com/slundberg/shap/issues/580",
     "output_type": "error",
     "traceback": [
      "\u001b[1;31m---------------------------------------------------------------------------\u001b[0m",
      "\u001b[1;31mValueError\u001b[0m                                Traceback (most recent call last)",
      "\u001b[1;32m~\\Anaconda3\\lib\\site-packages\\shap\\explainers\\_tree.py\u001b[0m in \u001b[0;36mshap_values\u001b[1;34m(self, X, y, tree_limit, approximate, check_additivity, from_call)\u001b[0m\n\u001b[0;32m    328\u001b[0m                 \u001b[1;32mtry\u001b[0m\u001b[1;33m:\u001b[0m\u001b[1;33m\u001b[0m\u001b[1;33m\u001b[0m\u001b[0m\n\u001b[1;32m--> 329\u001b[1;33m                     phi = self.model.original_model.predict(\n\u001b[0m\u001b[0;32m    330\u001b[0m                         \u001b[0mX\u001b[0m\u001b[1;33m,\u001b[0m \u001b[0mntree_limit\u001b[0m\u001b[1;33m=\u001b[0m\u001b[0mtree_limit\u001b[0m\u001b[1;33m,\u001b[0m \u001b[0mpred_contribs\u001b[0m\u001b[1;33m=\u001b[0m\u001b[1;32mTrue\u001b[0m\u001b[1;33m,\u001b[0m\u001b[1;33m\u001b[0m\u001b[1;33m\u001b[0m\u001b[0m\n",
      "\u001b[1;32m~\\Anaconda3\\lib\\site-packages\\xgboost\\core.py\u001b[0m in \u001b[0;36mpredict\u001b[1;34m(self, data, output_margin, ntree_limit, pred_leaf, pred_contribs, approx_contribs, pred_interactions, validate_features, training)\u001b[0m\n\u001b[0;32m   1603\u001b[0m                 \u001b[1;32melse\u001b[0m\u001b[1;33m:\u001b[0m\u001b[1;33m\u001b[0m\u001b[1;33m\u001b[0m\u001b[0m\n\u001b[1;32m-> 1604\u001b[1;33m                     \u001b[0mpreds\u001b[0m \u001b[1;33m=\u001b[0m \u001b[0mpreds\u001b[0m\u001b[1;33m.\u001b[0m\u001b[0mreshape\u001b[0m\u001b[1;33m(\u001b[0m\u001b[0mnrow\u001b[0m\u001b[1;33m,\u001b[0m \u001b[0mngroup\u001b[0m\u001b[1;33m,\u001b[0m \u001b[0mdata\u001b[0m\u001b[1;33m.\u001b[0m\u001b[0mnum_col\u001b[0m\u001b[1;33m(\u001b[0m\u001b[1;33m)\u001b[0m \u001b[1;33m+\u001b[0m \u001b[1;36m1\u001b[0m\u001b[1;33m)\u001b[0m\u001b[1;33m\u001b[0m\u001b[1;33m\u001b[0m\u001b[0m\n\u001b[0m\u001b[0;32m   1605\u001b[0m             \u001b[1;32melse\u001b[0m\u001b[1;33m:\u001b[0m\u001b[1;33m\u001b[0m\u001b[1;33m\u001b[0m\u001b[0m\n",
      "\u001b[1;31mValueError\u001b[0m: cannot reshape array of size 2700 into shape (180,0,52)",
      "\nThe above exception was the direct cause of the following exception:\n",
      "\u001b[1;31mValueError\u001b[0m                                Traceback (most recent call last)",
      "\u001b[1;32m<ipython-input-1155-0955a521d8e7>\u001b[0m in \u001b[0;36m<module>\u001b[1;34m\u001b[0m\n\u001b[1;32m----> 1\u001b[1;33m \u001b[0mdb\u001b[0m\u001b[1;33m=\u001b[0m\u001b[0mExplainerDashboard\u001b[0m\u001b[1;33m(\u001b[0m\u001b[0mexplainer\u001b[0m\u001b[1;33m)\u001b[0m\u001b[1;33m.\u001b[0m\u001b[0mrun\u001b[0m\u001b[1;33m(\u001b[0m\u001b[1;33m)\u001b[0m\u001b[1;33m\u001b[0m\u001b[1;33m\u001b[0m\u001b[0m\n\u001b[0m",
      "\u001b[1;32m~\\Anaconda3\\lib\\site-packages\\explainerdashboard\\dashboards.py\u001b[0m in \u001b[0;36m__init__\u001b[1;34m(self, explainer, tabs, title, name, description, simple, hide_header, header_hide_title, header_hide_selector, hide_poweredby, block_selector_callbacks, pos_label, fluid, mode, width, height, bootstrap, external_stylesheets, server, url_base_pathname, responsive, logins, port, importances, model_summary, contributions, whatif, shap_dependence, shap_interaction, decision_trees, **kwargs)\u001b[0m\n\u001b[0;32m    483\u001b[0m         \u001b[1;32mif\u001b[0m \u001b[0misinstance\u001b[0m\u001b[1;33m(\u001b[0m\u001b[0mtabs\u001b[0m\u001b[1;33m,\u001b[0m \u001b[0mlist\u001b[0m\u001b[1;33m)\u001b[0m\u001b[1;33m:\u001b[0m\u001b[1;33m\u001b[0m\u001b[1;33m\u001b[0m\u001b[0m\n\u001b[0;32m    484\u001b[0m             \u001b[0mtabs\u001b[0m \u001b[1;33m=\u001b[0m \u001b[1;33m[\u001b[0m\u001b[0mself\u001b[0m\u001b[1;33m.\u001b[0m\u001b[0m_convert_str_tabs\u001b[0m\u001b[1;33m(\u001b[0m\u001b[0mtab\u001b[0m\u001b[1;33m)\u001b[0m \u001b[1;32mfor\u001b[0m \u001b[0mtab\u001b[0m \u001b[1;32min\u001b[0m \u001b[0mtabs\u001b[0m\u001b[1;33m]\u001b[0m\u001b[1;33m\u001b[0m\u001b[1;33m\u001b[0m\u001b[0m\n\u001b[1;32m--> 485\u001b[1;33m             self.explainer_layout = ExplainerTabsLayout(explainer, tabs, title, \n\u001b[0m\u001b[0;32m    486\u001b[0m                             \u001b[0mdescription\u001b[0m\u001b[1;33m=\u001b[0m\u001b[0mself\u001b[0m\u001b[1;33m.\u001b[0m\u001b[0mdescription\u001b[0m\u001b[1;33m,\u001b[0m\u001b[1;33m\u001b[0m\u001b[1;33m\u001b[0m\u001b[0m\n\u001b[0;32m    487\u001b[0m                             **update_kwargs(kwargs, \n",
      "\u001b[1;32m~\\Anaconda3\\lib\\site-packages\\explainerdashboard\\dashboards.py\u001b[0m in \u001b[0;36m__init__\u001b[1;34m(self, explainer, tabs, title, description, header_hide_title, header_hide_selector, hide_poweredby, block_selector_callbacks, pos_label, fluid, **kwargs)\u001b[0m\n\u001b[0;32m     85\u001b[0m \u001b[1;33m\u001b[0m\u001b[0m\n\u001b[0;32m     86\u001b[0m         \u001b[0mself\u001b[0m\u001b[1;33m.\u001b[0m\u001b[0mselector\u001b[0m \u001b[1;33m=\u001b[0m \u001b[0mPosLabelSelector\u001b[0m\u001b[1;33m(\u001b[0m\u001b[0mexplainer\u001b[0m\u001b[1;33m,\u001b[0m \u001b[0mname\u001b[0m\u001b[1;33m=\u001b[0m\u001b[1;34m\"0\"\u001b[0m\u001b[1;33m,\u001b[0m \u001b[0mpos_label\u001b[0m\u001b[1;33m=\u001b[0m\u001b[0mpos_label\u001b[0m\u001b[1;33m)\u001b[0m\u001b[1;33m\u001b[0m\u001b[1;33m\u001b[0m\u001b[0m\n\u001b[1;32m---> 87\u001b[1;33m         \u001b[0mself\u001b[0m\u001b[1;33m.\u001b[0m\u001b[0mtabs\u001b[0m  \u001b[1;33m=\u001b[0m \u001b[1;33m[\u001b[0m\u001b[0minstantiate_component\u001b[0m\u001b[1;33m(\u001b[0m\u001b[0mtab\u001b[0m\u001b[1;33m,\u001b[0m \u001b[0mexplainer\u001b[0m\u001b[1;33m,\u001b[0m \u001b[0mname\u001b[0m\u001b[1;33m=\u001b[0m\u001b[0mstr\u001b[0m\u001b[1;33m(\u001b[0m\u001b[0mi\u001b[0m\u001b[1;33m+\u001b[0m\u001b[1;36m1\u001b[0m\u001b[1;33m)\u001b[0m\u001b[1;33m,\u001b[0m \u001b[1;33m**\u001b[0m\u001b[0mkwargs\u001b[0m\u001b[1;33m)\u001b[0m \u001b[1;32mfor\u001b[0m \u001b[0mi\u001b[0m\u001b[1;33m,\u001b[0m \u001b[0mtab\u001b[0m \u001b[1;32min\u001b[0m \u001b[0menumerate\u001b[0m\u001b[1;33m(\u001b[0m\u001b[0mtabs\u001b[0m\u001b[1;33m)\u001b[0m\u001b[1;33m]\u001b[0m\u001b[1;33m\u001b[0m\u001b[1;33m\u001b[0m\u001b[0m\n\u001b[0m\u001b[0;32m     88\u001b[0m         \u001b[1;32massert\u001b[0m \u001b[0mlen\u001b[0m\u001b[1;33m(\u001b[0m\u001b[0mself\u001b[0m\u001b[1;33m.\u001b[0m\u001b[0mtabs\u001b[0m\u001b[1;33m)\u001b[0m \u001b[1;33m>\u001b[0m \u001b[1;36m0\u001b[0m\u001b[1;33m,\u001b[0m \u001b[1;34m'When passing a list to tabs, need to pass at least one valid tab!'\u001b[0m\u001b[1;33m\u001b[0m\u001b[1;33m\u001b[0m\u001b[0m\n\u001b[0;32m     89\u001b[0m \u001b[1;33m\u001b[0m\u001b[0m\n",
      "\u001b[1;32m~\\Anaconda3\\lib\\site-packages\\explainerdashboard\\dashboards.py\u001b[0m in \u001b[0;36m<listcomp>\u001b[1;34m(.0)\u001b[0m\n\u001b[0;32m     85\u001b[0m \u001b[1;33m\u001b[0m\u001b[0m\n\u001b[0;32m     86\u001b[0m         \u001b[0mself\u001b[0m\u001b[1;33m.\u001b[0m\u001b[0mselector\u001b[0m \u001b[1;33m=\u001b[0m \u001b[0mPosLabelSelector\u001b[0m\u001b[1;33m(\u001b[0m\u001b[0mexplainer\u001b[0m\u001b[1;33m,\u001b[0m \u001b[0mname\u001b[0m\u001b[1;33m=\u001b[0m\u001b[1;34m\"0\"\u001b[0m\u001b[1;33m,\u001b[0m \u001b[0mpos_label\u001b[0m\u001b[1;33m=\u001b[0m\u001b[0mpos_label\u001b[0m\u001b[1;33m)\u001b[0m\u001b[1;33m\u001b[0m\u001b[1;33m\u001b[0m\u001b[0m\n\u001b[1;32m---> 87\u001b[1;33m         \u001b[0mself\u001b[0m\u001b[1;33m.\u001b[0m\u001b[0mtabs\u001b[0m  \u001b[1;33m=\u001b[0m \u001b[1;33m[\u001b[0m\u001b[0minstantiate_component\u001b[0m\u001b[1;33m(\u001b[0m\u001b[0mtab\u001b[0m\u001b[1;33m,\u001b[0m \u001b[0mexplainer\u001b[0m\u001b[1;33m,\u001b[0m \u001b[0mname\u001b[0m\u001b[1;33m=\u001b[0m\u001b[0mstr\u001b[0m\u001b[1;33m(\u001b[0m\u001b[0mi\u001b[0m\u001b[1;33m+\u001b[0m\u001b[1;36m1\u001b[0m\u001b[1;33m)\u001b[0m\u001b[1;33m,\u001b[0m \u001b[1;33m**\u001b[0m\u001b[0mkwargs\u001b[0m\u001b[1;33m)\u001b[0m \u001b[1;32mfor\u001b[0m \u001b[0mi\u001b[0m\u001b[1;33m,\u001b[0m \u001b[0mtab\u001b[0m \u001b[1;32min\u001b[0m \u001b[0menumerate\u001b[0m\u001b[1;33m(\u001b[0m\u001b[0mtabs\u001b[0m\u001b[1;33m)\u001b[0m\u001b[1;33m]\u001b[0m\u001b[1;33m\u001b[0m\u001b[1;33m\u001b[0m\u001b[0m\n\u001b[0m\u001b[0;32m     88\u001b[0m         \u001b[1;32massert\u001b[0m \u001b[0mlen\u001b[0m\u001b[1;33m(\u001b[0m\u001b[0mself\u001b[0m\u001b[1;33m.\u001b[0m\u001b[0mtabs\u001b[0m\u001b[1;33m)\u001b[0m \u001b[1;33m>\u001b[0m \u001b[1;36m0\u001b[0m\u001b[1;33m,\u001b[0m \u001b[1;34m'When passing a list to tabs, need to pass at least one valid tab!'\u001b[0m\u001b[1;33m\u001b[0m\u001b[1;33m\u001b[0m\u001b[0m\n\u001b[0;32m     89\u001b[0m \u001b[1;33m\u001b[0m\u001b[0m\n",
      "\u001b[1;32m~\\Anaconda3\\lib\\site-packages\\explainerdashboard\\dashboard_methods.py\u001b[0m in \u001b[0;36minstantiate_component\u001b[1;34m(component, explainer, name, **kwargs)\u001b[0m\n\u001b[0;32m    625\u001b[0m             \u001b[0mkwargs\u001b[0m \u001b[1;33m=\u001b[0m \u001b[1;33m{\u001b[0m\u001b[0mk\u001b[0m\u001b[1;33m:\u001b[0m\u001b[0mv\u001b[0m \u001b[1;32mfor\u001b[0m \u001b[0mk\u001b[0m\u001b[1;33m,\u001b[0m\u001b[0mv\u001b[0m \u001b[1;32min\u001b[0m \u001b[0mkwargs\u001b[0m\u001b[1;33m.\u001b[0m\u001b[0mitems\u001b[0m\u001b[1;33m(\u001b[0m\u001b[1;33m)\u001b[0m \u001b[1;32mif\u001b[0m \u001b[0mk\u001b[0m \u001b[1;32min\u001b[0m \u001b[0minit_argspec\u001b[0m\u001b[1;33m.\u001b[0m\u001b[0margs\u001b[0m \u001b[1;33m+\u001b[0m \u001b[0minit_argspec\u001b[0m\u001b[1;33m.\u001b[0m\u001b[0mkwonlyargs\u001b[0m\u001b[1;33m}\u001b[0m\u001b[1;33m\u001b[0m\u001b[1;33m\u001b[0m\u001b[0m\n\u001b[0;32m    626\u001b[0m         \u001b[1;32mif\u001b[0m \u001b[1;34m\"name\"\u001b[0m \u001b[1;32min\u001b[0m \u001b[0minit_argspec\u001b[0m\u001b[1;33m.\u001b[0m\u001b[0margs\u001b[0m\u001b[1;33m+\u001b[0m\u001b[0minit_argspec\u001b[0m\u001b[1;33m.\u001b[0m\u001b[0mkwonlyargs\u001b[0m\u001b[1;33m:\u001b[0m\u001b[1;33m\u001b[0m\u001b[1;33m\u001b[0m\u001b[0m\n\u001b[1;32m--> 627\u001b[1;33m             \u001b[0mcomponent\u001b[0m \u001b[1;33m=\u001b[0m \u001b[0mcomponent\u001b[0m\u001b[1;33m(\u001b[0m\u001b[0mexplainer\u001b[0m\u001b[1;33m,\u001b[0m \u001b[0mname\u001b[0m\u001b[1;33m=\u001b[0m\u001b[0mname\u001b[0m\u001b[1;33m,\u001b[0m \u001b[1;33m**\u001b[0m\u001b[0mkwargs\u001b[0m\u001b[1;33m)\u001b[0m\u001b[1;33m\u001b[0m\u001b[1;33m\u001b[0m\u001b[0m\n\u001b[0m\u001b[0;32m    628\u001b[0m         \u001b[1;32melse\u001b[0m\u001b[1;33m:\u001b[0m\u001b[1;33m\u001b[0m\u001b[1;33m\u001b[0m\u001b[0m\n\u001b[0;32m    629\u001b[0m             print(f\"ExplainerComponent {component} does not accept a name parameter, \"\n",
      "\u001b[1;32m~\\Anaconda3\\lib\\site-packages\\explainerdashboard\\dashboard_components\\composites.py\u001b[0m in \u001b[0;36m__init__\u001b[1;34m(self, explainer, title, name, hide_title, hide_modelsummary, hide_predsvsactual, hide_residuals, hide_regvscol, logs, pred_or_actual, residuals, col, **kwargs)\u001b[0m\n\u001b[0;32m    215\u001b[0m         self.residuals = ResidualsComponent(explainer, name=self.name+\"1\",\n\u001b[0;32m    216\u001b[0m                     pred_or_actual=pred_or_actual, residuals=residuals, **kwargs)\n\u001b[1;32m--> 217\u001b[1;33m         self.reg_vs_col = RegressionVsColComponent(explainer, name=self.name+\"2\",\n\u001b[0m\u001b[0;32m    218\u001b[0m                     logs=logs, **kwargs)\n\u001b[0;32m    219\u001b[0m \u001b[1;33m\u001b[0m\u001b[0m\n",
      "\u001b[1;32m~\\Anaconda3\\lib\\site-packages\\explainerdashboard\\dashboard_components\\regression_components.py\u001b[0m in \u001b[0;36m__init__\u001b[1;34m(self, explainer, title, name, subtitle, hide_title, hide_subtitle, hide_footer, hide_col, hide_ratio, hide_points, hide_winsor, hide_cats_topx, hide_cats_sort, hide_popout, col, display, round, points, winsor, cats_topx, cats_sort, plot_sample, description, **kwargs)\u001b[0m\n\u001b[0;32m    844\u001b[0m \u001b[1;33m\u001b[0m\u001b[0m\n\u001b[0;32m    845\u001b[0m         \u001b[1;32mif\u001b[0m \u001b[0mself\u001b[0m\u001b[1;33m.\u001b[0m\u001b[0mcol\u001b[0m \u001b[1;32mis\u001b[0m \u001b[1;32mNone\u001b[0m\u001b[1;33m:\u001b[0m\u001b[1;33m\u001b[0m\u001b[1;33m\u001b[0m\u001b[0m\n\u001b[1;32m--> 846\u001b[1;33m             \u001b[0mself\u001b[0m\u001b[1;33m.\u001b[0m\u001b[0mcol\u001b[0m \u001b[1;33m=\u001b[0m \u001b[0mself\u001b[0m\u001b[1;33m.\u001b[0m\u001b[0mexplainer\u001b[0m\u001b[1;33m.\u001b[0m\u001b[0mcolumns_ranked_by_shap\u001b[0m\u001b[1;33m(\u001b[0m\u001b[1;33m)\u001b[0m\u001b[1;33m[\u001b[0m\u001b[1;36m0\u001b[0m\u001b[1;33m]\u001b[0m\u001b[1;33m\u001b[0m\u001b[1;33m\u001b[0m\u001b[0m\n\u001b[0m\u001b[0;32m    847\u001b[0m \u001b[1;33m\u001b[0m\u001b[0m\n\u001b[0;32m    848\u001b[0m         \u001b[1;32massert\u001b[0m \u001b[0mself\u001b[0m\u001b[1;33m.\u001b[0m\u001b[0mdisplay\u001b[0m \u001b[1;32min\u001b[0m \u001b[1;33m{\u001b[0m\u001b[1;34m'observed'\u001b[0m\u001b[1;33m,\u001b[0m \u001b[1;34m'predicted'\u001b[0m\u001b[1;33m,\u001b[0m \u001b[1;34m'difference'\u001b[0m\u001b[1;33m,\u001b[0m \u001b[1;34m'ratio'\u001b[0m\u001b[1;33m,\u001b[0m \u001b[1;34m'log-ratio'\u001b[0m\u001b[1;33m}\u001b[0m\u001b[1;33m,\u001b[0m\u001b[0;31m \u001b[0m\u001b[0;31m\\\u001b[0m\u001b[1;33m\u001b[0m\u001b[1;33m\u001b[0m\u001b[0m\n",
      "\u001b[1;32m~\\Anaconda3\\lib\\site-packages\\explainerdashboard\\explainers.py\u001b[0m in \u001b[0;36minner\u001b[1;34m(self, *args, **kwargs)\u001b[0m\n\u001b[0;32m     46\u001b[0m     \u001b[1;32mdef\u001b[0m \u001b[0minner\u001b[0m\u001b[1;33m(\u001b[0m\u001b[0mself\u001b[0m\u001b[1;33m,\u001b[0m \u001b[1;33m*\u001b[0m\u001b[0margs\u001b[0m\u001b[1;33m,\u001b[0m \u001b[1;33m**\u001b[0m\u001b[0mkwargs\u001b[0m\u001b[1;33m)\u001b[0m\u001b[1;33m:\u001b[0m\u001b[1;33m\u001b[0m\u001b[1;33m\u001b[0m\u001b[0m\n\u001b[0;32m     47\u001b[0m         \u001b[1;32mif\u001b[0m \u001b[1;32mnot\u001b[0m \u001b[0mself\u001b[0m\u001b[1;33m.\u001b[0m\u001b[0mis_classifier\u001b[0m\u001b[1;33m:\u001b[0m\u001b[1;33m\u001b[0m\u001b[1;33m\u001b[0m\u001b[0m\n\u001b[1;32m---> 48\u001b[1;33m             \u001b[1;32mreturn\u001b[0m \u001b[0mfunc\u001b[0m\u001b[1;33m(\u001b[0m\u001b[0mself\u001b[0m\u001b[1;33m,\u001b[0m \u001b[1;33m*\u001b[0m\u001b[0margs\u001b[0m\u001b[1;33m,\u001b[0m \u001b[1;33m**\u001b[0m\u001b[0mkwargs\u001b[0m\u001b[1;33m)\u001b[0m\u001b[1;33m\u001b[0m\u001b[1;33m\u001b[0m\u001b[0m\n\u001b[0m\u001b[0;32m     49\u001b[0m         \u001b[1;32mif\u001b[0m \u001b[1;34m'pos_label'\u001b[0m \u001b[1;32min\u001b[0m \u001b[0mkwargs\u001b[0m\u001b[1;33m:\u001b[0m\u001b[1;33m\u001b[0m\u001b[1;33m\u001b[0m\u001b[0m\n\u001b[0;32m     50\u001b[0m             \u001b[1;32mif\u001b[0m \u001b[0mkwargs\u001b[0m\u001b[1;33m[\u001b[0m\u001b[1;34m'pos_label'\u001b[0m\u001b[1;33m]\u001b[0m \u001b[1;32mis\u001b[0m \u001b[1;32mnot\u001b[0m \u001b[1;32mNone\u001b[0m\u001b[1;33m:\u001b[0m\u001b[1;33m\u001b[0m\u001b[1;33m\u001b[0m\u001b[0m\n",
      "\u001b[1;32m~\\Anaconda3\\lib\\site-packages\\explainerdashboard\\explainers.py\u001b[0m in \u001b[0;36mcolumns_ranked_by_shap\u001b[1;34m(self, pos_label)\u001b[0m\n\u001b[0;32m   1037\u001b[0m \u001b[1;33m\u001b[0m\u001b[0m\n\u001b[0;32m   1038\u001b[0m         \"\"\"\n\u001b[1;32m-> 1039\u001b[1;33m         \u001b[1;32mreturn\u001b[0m \u001b[0mself\u001b[0m\u001b[1;33m.\u001b[0m\u001b[0mmean_abs_shap_df\u001b[0m\u001b[1;33m(\u001b[0m\u001b[0mpos_label\u001b[0m\u001b[1;33m)\u001b[0m\u001b[1;33m.\u001b[0m\u001b[0mFeature\u001b[0m\u001b[1;33m.\u001b[0m\u001b[0mtolist\u001b[0m\u001b[1;33m(\u001b[0m\u001b[1;33m)\u001b[0m\u001b[1;33m\u001b[0m\u001b[1;33m\u001b[0m\u001b[0m\n\u001b[0m\u001b[0;32m   1040\u001b[0m \u001b[1;33m\u001b[0m\u001b[0m\n\u001b[0;32m   1041\u001b[0m     \u001b[1;33m@\u001b[0m\u001b[0minsert_pos_label\u001b[0m\u001b[1;33m\u001b[0m\u001b[1;33m\u001b[0m\u001b[0m\n",
      "\u001b[1;32m~\\Anaconda3\\lib\\site-packages\\explainerdashboard\\explainers.py\u001b[0m in \u001b[0;36minner\u001b[1;34m(self, *args, **kwargs)\u001b[0m\n\u001b[0;32m     46\u001b[0m     \u001b[1;32mdef\u001b[0m \u001b[0minner\u001b[0m\u001b[1;33m(\u001b[0m\u001b[0mself\u001b[0m\u001b[1;33m,\u001b[0m \u001b[1;33m*\u001b[0m\u001b[0margs\u001b[0m\u001b[1;33m,\u001b[0m \u001b[1;33m**\u001b[0m\u001b[0mkwargs\u001b[0m\u001b[1;33m)\u001b[0m\u001b[1;33m:\u001b[0m\u001b[1;33m\u001b[0m\u001b[1;33m\u001b[0m\u001b[0m\n\u001b[0;32m     47\u001b[0m         \u001b[1;32mif\u001b[0m \u001b[1;32mnot\u001b[0m \u001b[0mself\u001b[0m\u001b[1;33m.\u001b[0m\u001b[0mis_classifier\u001b[0m\u001b[1;33m:\u001b[0m\u001b[1;33m\u001b[0m\u001b[1;33m\u001b[0m\u001b[0m\n\u001b[1;32m---> 48\u001b[1;33m             \u001b[1;32mreturn\u001b[0m \u001b[0mfunc\u001b[0m\u001b[1;33m(\u001b[0m\u001b[0mself\u001b[0m\u001b[1;33m,\u001b[0m \u001b[1;33m*\u001b[0m\u001b[0margs\u001b[0m\u001b[1;33m,\u001b[0m \u001b[1;33m**\u001b[0m\u001b[0mkwargs\u001b[0m\u001b[1;33m)\u001b[0m\u001b[1;33m\u001b[0m\u001b[1;33m\u001b[0m\u001b[0m\n\u001b[0m\u001b[0;32m     49\u001b[0m         \u001b[1;32mif\u001b[0m \u001b[1;34m'pos_label'\u001b[0m \u001b[1;32min\u001b[0m \u001b[0mkwargs\u001b[0m\u001b[1;33m:\u001b[0m\u001b[1;33m\u001b[0m\u001b[1;33m\u001b[0m\u001b[0m\n\u001b[0;32m     50\u001b[0m             \u001b[1;32mif\u001b[0m \u001b[0mkwargs\u001b[0m\u001b[1;33m[\u001b[0m\u001b[1;34m'pos_label'\u001b[0m\u001b[1;33m]\u001b[0m \u001b[1;32mis\u001b[0m \u001b[1;32mnot\u001b[0m \u001b[1;32mNone\u001b[0m\u001b[1;33m:\u001b[0m\u001b[1;33m\u001b[0m\u001b[1;33m\u001b[0m\u001b[0m\n",
      "\u001b[1;32m~\\Anaconda3\\lib\\site-packages\\explainerdashboard\\explainers.py\u001b[0m in \u001b[0;36mmean_abs_shap_df\u001b[1;34m(self, pos_label)\u001b[0m\n\u001b[0;32m   1019\u001b[0m         \u001b[1;34m\"\"\"Mean absolute SHAP values per feature.\"\"\"\u001b[0m\u001b[1;33m\u001b[0m\u001b[1;33m\u001b[0m\u001b[0m\n\u001b[0;32m   1020\u001b[0m         \u001b[1;32mif\u001b[0m \u001b[1;32mnot\u001b[0m \u001b[0mhasattr\u001b[0m\u001b[1;33m(\u001b[0m\u001b[0mself\u001b[0m\u001b[1;33m,\u001b[0m \u001b[1;34m'_mean_abs_shap_df'\u001b[0m\u001b[1;33m)\u001b[0m\u001b[1;33m:\u001b[0m\u001b[1;33m\u001b[0m\u001b[1;33m\u001b[0m\u001b[0m\n\u001b[1;32m-> 1021\u001b[1;33m             self._mean_abs_shap_df = (self.get_shap_values_df(pos_label)[self.merged_cols].abs().mean()\n\u001b[0m\u001b[0;32m   1022\u001b[0m                     \u001b[1;33m.\u001b[0m\u001b[0msort_values\u001b[0m\u001b[1;33m(\u001b[0m\u001b[0mascending\u001b[0m\u001b[1;33m=\u001b[0m\u001b[1;32mFalse\u001b[0m\u001b[1;33m)\u001b[0m\u001b[1;33m\u001b[0m\u001b[1;33m\u001b[0m\u001b[0m\n\u001b[0;32m   1023\u001b[0m                     \u001b[1;33m.\u001b[0m\u001b[0mto_frame\u001b[0m\u001b[1;33m(\u001b[0m\u001b[1;33m)\u001b[0m\u001b[1;33m.\u001b[0m\u001b[0mrename_axis\u001b[0m\u001b[1;33m(\u001b[0m\u001b[0mindex\u001b[0m\u001b[1;33m=\u001b[0m\u001b[1;34m\"Feature\"\u001b[0m\u001b[1;33m)\u001b[0m\u001b[1;33m.\u001b[0m\u001b[0mreset_index\u001b[0m\u001b[1;33m(\u001b[0m\u001b[1;33m)\u001b[0m\u001b[1;33m\u001b[0m\u001b[1;33m\u001b[0m\u001b[0m\n",
      "\u001b[1;32m~\\Anaconda3\\lib\\site-packages\\explainerdashboard\\explainers.py\u001b[0m in \u001b[0;36minner\u001b[1;34m(self, *args, **kwargs)\u001b[0m\n\u001b[0;32m     46\u001b[0m     \u001b[1;32mdef\u001b[0m \u001b[0minner\u001b[0m\u001b[1;33m(\u001b[0m\u001b[0mself\u001b[0m\u001b[1;33m,\u001b[0m \u001b[1;33m*\u001b[0m\u001b[0margs\u001b[0m\u001b[1;33m,\u001b[0m \u001b[1;33m**\u001b[0m\u001b[0mkwargs\u001b[0m\u001b[1;33m)\u001b[0m\u001b[1;33m:\u001b[0m\u001b[1;33m\u001b[0m\u001b[1;33m\u001b[0m\u001b[0m\n\u001b[0;32m     47\u001b[0m         \u001b[1;32mif\u001b[0m \u001b[1;32mnot\u001b[0m \u001b[0mself\u001b[0m\u001b[1;33m.\u001b[0m\u001b[0mis_classifier\u001b[0m\u001b[1;33m:\u001b[0m\u001b[1;33m\u001b[0m\u001b[1;33m\u001b[0m\u001b[0m\n\u001b[1;32m---> 48\u001b[1;33m             \u001b[1;32mreturn\u001b[0m \u001b[0mfunc\u001b[0m\u001b[1;33m(\u001b[0m\u001b[0mself\u001b[0m\u001b[1;33m,\u001b[0m \u001b[1;33m*\u001b[0m\u001b[0margs\u001b[0m\u001b[1;33m,\u001b[0m \u001b[1;33m**\u001b[0m\u001b[0mkwargs\u001b[0m\u001b[1;33m)\u001b[0m\u001b[1;33m\u001b[0m\u001b[1;33m\u001b[0m\u001b[0m\n\u001b[0m\u001b[0;32m     49\u001b[0m         \u001b[1;32mif\u001b[0m \u001b[1;34m'pos_label'\u001b[0m \u001b[1;32min\u001b[0m \u001b[0mkwargs\u001b[0m\u001b[1;33m:\u001b[0m\u001b[1;33m\u001b[0m\u001b[1;33m\u001b[0m\u001b[0m\n\u001b[0;32m     50\u001b[0m             \u001b[1;32mif\u001b[0m \u001b[0mkwargs\u001b[0m\u001b[1;33m[\u001b[0m\u001b[1;34m'pos_label'\u001b[0m\u001b[1;33m]\u001b[0m \u001b[1;32mis\u001b[0m \u001b[1;32mnot\u001b[0m \u001b[1;32mNone\u001b[0m\u001b[1;33m:\u001b[0m\u001b[1;33m\u001b[0m\u001b[1;33m\u001b[0m\u001b[0m\n",
      "\u001b[1;32m~\\Anaconda3\\lib\\site-packages\\explainerdashboard\\explainers.py\u001b[0m in \u001b[0;36mget_shap_values_df\u001b[1;34m(self, pos_label)\u001b[0m\n\u001b[0;32m    953\u001b[0m                                     columns=self.columns)\n\u001b[0;32m    954\u001b[0m             \u001b[1;32melse\u001b[0m\u001b[1;33m:\u001b[0m\u001b[1;33m\u001b[0m\u001b[1;33m\u001b[0m\u001b[0m\n\u001b[1;32m--> 955\u001b[1;33m                 self._shap_values_df = pd.DataFrame(self.shap_explainer.shap_values(self.X), \n\u001b[0m\u001b[0;32m    956\u001b[0m                                     columns=self.columns)\n\u001b[0;32m    957\u001b[0m             self._shap_values_df = merge_categorical_shap_values(\n",
      "\u001b[1;32m~\\Anaconda3\\lib\\site-packages\\shap\\explainers\\_tree.py\u001b[0m in \u001b[0;36mshap_values\u001b[1;34m(self, X, y, tree_limit, approximate, check_additivity, from_call)\u001b[0m\n\u001b[0;32m    332\u001b[0m                     )\n\u001b[0;32m    333\u001b[0m                 \u001b[1;32mexcept\u001b[0m \u001b[0mValueError\u001b[0m \u001b[1;32mas\u001b[0m \u001b[0me\u001b[0m\u001b[1;33m:\u001b[0m\u001b[1;33m\u001b[0m\u001b[1;33m\u001b[0m\u001b[0m\n\u001b[1;32m--> 334\u001b[1;33m                         raise ValueError(\"This reshape error is often caused by passing a bad data matrix to SHAP. \" \\\n\u001b[0m\u001b[0;32m    335\u001b[0m                                          \"See https://github.com/slundberg/shap/issues/580\") from e\n\u001b[0;32m    336\u001b[0m \u001b[1;33m\u001b[0m\u001b[0m\n",
      "\u001b[1;31mValueError\u001b[0m: This reshape error is often caused by passing a bad data matrix to SHAP. See https://github.com/slundberg/shap/issues/580"
     ]
    }
   ],
   "source": [
    "db=ExplainerDashboard(explainer).run()"
   ]
  },
  {
   "cell_type": "code",
   "execution_count": 206,
   "metadata": {},
   "outputs": [
    {
     "data": {
      "text/plain": [
       "array([[ 1.        ,  5.72103315, 26.23658514, ...,  0.        ,\n",
       "         0.        ,  0.        ],\n",
       "       [ 1.        ,  2.97803371,  9.74629215, ...,  0.        ,\n",
       "         0.        ,  0.        ],\n",
       "       [ 1.        ,  3.33059213,  5.86601353, ...,  0.        ,\n",
       "         0.        ,  0.        ],\n",
       "       ...,\n",
       "       [ 1.        ,  7.03151554, 20.86847152, ...,  0.        ,\n",
       "         0.        ,  0.        ],\n",
       "       [ 1.        ,  2.35060366,  3.87284814, ...,  0.        ,\n",
       "         0.        ,  0.        ],\n",
       "       [ 1.        ,  0.83888316,  1.72866592, ...,  0.        ,\n",
       "         1.        ,  0.        ]])"
      ]
     },
     "execution_count": 206,
     "metadata": {},
     "output_type": "execute_result"
    }
   ],
   "source": [
    "X_test_fs"
   ]
  },
  {
   "cell_type": "code",
   "execution_count": 207,
   "metadata": {},
   "outputs": [],
   "source": [
    "import pickle\n",
    "filename = \"xgb_model1.sav\"\n",
    "pickle.dump(regressor_xgb1, open(filename, 'wb'))"
   ]
  },
  {
   "cell_type": "code",
   "execution_count": 225,
   "metadata": {},
   "outputs": [],
   "source": [
    "X.to_csv( 'X.csv' , index = False )"
   ]
  },
  {
   "cell_type": "code",
   "execution_count": 175,
   "metadata": {},
   "outputs": [],
   "source": [
    "data.to_csv( 'data1.csv' , index = False )"
   ]
  },
  {
   "cell_type": "code",
   "execution_count": 226,
   "metadata": {},
   "outputs": [],
   "source": [
    "X.to_csv( 'y.csv' , index = False )"
   ]
  },
  {
   "cell_type": "code",
   "execution_count": 227,
   "metadata": {
    "scrolled": true
   },
   "outputs": [
    {
     "data": {
      "text/html": [
       "<div>\n",
       "<style scoped>\n",
       "    .dataframe tbody tr th:only-of-type {\n",
       "        vertical-align: middle;\n",
       "    }\n",
       "\n",
       "    .dataframe tbody tr th {\n",
       "        vertical-align: top;\n",
       "    }\n",
       "\n",
       "    .dataframe thead th {\n",
       "        text-align: right;\n",
       "    }\n",
       "</style>\n",
       "<table border=\"1\" class=\"dataframe\">\n",
       "  <thead>\n",
       "    <tr style=\"text-align: right;\">\n",
       "      <th></th>\n",
       "      <th>distance</th>\n",
       "      <th>speed</th>\n",
       "      <th>Expediteur_0</th>\n",
       "      <th>Expediteur_1</th>\n",
       "      <th>Expediteur_2</th>\n",
       "      <th>Expediteur_3</th>\n",
       "      <th>Expediteur_4</th>\n",
       "      <th>Expediteur_5</th>\n",
       "      <th>Expediteur_6</th>\n",
       "      <th>Expediteur_7</th>\n",
       "      <th>...</th>\n",
       "      <th>Item___Nom_sous_categorie_0</th>\n",
       "      <th>Item___Nom_sous_categorie_1</th>\n",
       "      <th>Item___Nom_sous_categorie_2</th>\n",
       "      <th>Item___Nom_sous_categorie_3</th>\n",
       "      <th>Item___Type_unite_manutention_0</th>\n",
       "      <th>Item___Type_unite_manutention_1</th>\n",
       "      <th>Item___Type_unite_manutention_2</th>\n",
       "      <th>Item___Type_unite_manutention_3</th>\n",
       "      <th>Item___Type_unite_manutention_4</th>\n",
       "      <th>Item___Type_unite_manutention_5</th>\n",
       "    </tr>\n",
       "  </thead>\n",
       "  <tbody>\n",
       "    <tr>\n",
       "      <th>0</th>\n",
       "      <td>8.066809</td>\n",
       "      <td>15.365350</td>\n",
       "      <td>0</td>\n",
       "      <td>0</td>\n",
       "      <td>0</td>\n",
       "      <td>0</td>\n",
       "      <td>0</td>\n",
       "      <td>0</td>\n",
       "      <td>0</td>\n",
       "      <td>0</td>\n",
       "      <td>...</td>\n",
       "      <td>0</td>\n",
       "      <td>0</td>\n",
       "      <td>1</td>\n",
       "      <td>0</td>\n",
       "      <td>0</td>\n",
       "      <td>0</td>\n",
       "      <td>0</td>\n",
       "      <td>0</td>\n",
       "      <td>0</td>\n",
       "      <td>1</td>\n",
       "    </tr>\n",
       "    <tr>\n",
       "      <th>1</th>\n",
       "      <td>5.580558</td>\n",
       "      <td>21.908405</td>\n",
       "      <td>0</td>\n",
       "      <td>0</td>\n",
       "      <td>0</td>\n",
       "      <td>0</td>\n",
       "      <td>0</td>\n",
       "      <td>0</td>\n",
       "      <td>0</td>\n",
       "      <td>0</td>\n",
       "      <td>...</td>\n",
       "      <td>0</td>\n",
       "      <td>0</td>\n",
       "      <td>1</td>\n",
       "      <td>0</td>\n",
       "      <td>0</td>\n",
       "      <td>0</td>\n",
       "      <td>0</td>\n",
       "      <td>0</td>\n",
       "      <td>0</td>\n",
       "      <td>1</td>\n",
       "    </tr>\n",
       "    <tr>\n",
       "      <th>2</th>\n",
       "      <td>2.828267</td>\n",
       "      <td>8.449593</td>\n",
       "      <td>0</td>\n",
       "      <td>0</td>\n",
       "      <td>0</td>\n",
       "      <td>0</td>\n",
       "      <td>0</td>\n",
       "      <td>0</td>\n",
       "      <td>0</td>\n",
       "      <td>0</td>\n",
       "      <td>...</td>\n",
       "      <td>0</td>\n",
       "      <td>0</td>\n",
       "      <td>1</td>\n",
       "      <td>0</td>\n",
       "      <td>0</td>\n",
       "      <td>0</td>\n",
       "      <td>0</td>\n",
       "      <td>0</td>\n",
       "      <td>0</td>\n",
       "      <td>1</td>\n",
       "    </tr>\n",
       "    <tr>\n",
       "      <th>3</th>\n",
       "      <td>9.121295</td>\n",
       "      <td>18.111783</td>\n",
       "      <td>0</td>\n",
       "      <td>0</td>\n",
       "      <td>0</td>\n",
       "      <td>0</td>\n",
       "      <td>0</td>\n",
       "      <td>0</td>\n",
       "      <td>0</td>\n",
       "      <td>1</td>\n",
       "      <td>...</td>\n",
       "      <td>0</td>\n",
       "      <td>1</td>\n",
       "      <td>0</td>\n",
       "      <td>0</td>\n",
       "      <td>0</td>\n",
       "      <td>1</td>\n",
       "      <td>0</td>\n",
       "      <td>0</td>\n",
       "      <td>0</td>\n",
       "      <td>0</td>\n",
       "    </tr>\n",
       "    <tr>\n",
       "      <th>4</th>\n",
       "      <td>1.048186</td>\n",
       "      <td>3.621372</td>\n",
       "      <td>0</td>\n",
       "      <td>0</td>\n",
       "      <td>0</td>\n",
       "      <td>0</td>\n",
       "      <td>0</td>\n",
       "      <td>0</td>\n",
       "      <td>0</td>\n",
       "      <td>1</td>\n",
       "      <td>...</td>\n",
       "      <td>0</td>\n",
       "      <td>1</td>\n",
       "      <td>0</td>\n",
       "      <td>0</td>\n",
       "      <td>0</td>\n",
       "      <td>1</td>\n",
       "      <td>0</td>\n",
       "      <td>0</td>\n",
       "      <td>0</td>\n",
       "      <td>0</td>\n",
       "    </tr>\n",
       "    <tr>\n",
       "      <th>...</th>\n",
       "      <td>...</td>\n",
       "      <td>...</td>\n",
       "      <td>...</td>\n",
       "      <td>...</td>\n",
       "      <td>...</td>\n",
       "      <td>...</td>\n",
       "      <td>...</td>\n",
       "      <td>...</td>\n",
       "      <td>...</td>\n",
       "      <td>...</td>\n",
       "      <td>...</td>\n",
       "      <td>...</td>\n",
       "      <td>...</td>\n",
       "      <td>...</td>\n",
       "      <td>...</td>\n",
       "      <td>...</td>\n",
       "      <td>...</td>\n",
       "      <td>...</td>\n",
       "      <td>...</td>\n",
       "      <td>...</td>\n",
       "      <td>...</td>\n",
       "    </tr>\n",
       "    <tr>\n",
       "      <th>932</th>\n",
       "      <td>6.925606</td>\n",
       "      <td>2.221526</td>\n",
       "      <td>0</td>\n",
       "      <td>0</td>\n",
       "      <td>0</td>\n",
       "      <td>0</td>\n",
       "      <td>0</td>\n",
       "      <td>0</td>\n",
       "      <td>0</td>\n",
       "      <td>1</td>\n",
       "      <td>...</td>\n",
       "      <td>0</td>\n",
       "      <td>1</td>\n",
       "      <td>0</td>\n",
       "      <td>0</td>\n",
       "      <td>0</td>\n",
       "      <td>1</td>\n",
       "      <td>0</td>\n",
       "      <td>0</td>\n",
       "      <td>0</td>\n",
       "      <td>0</td>\n",
       "    </tr>\n",
       "    <tr>\n",
       "      <th>933</th>\n",
       "      <td>0.678589</td>\n",
       "      <td>1.166072</td>\n",
       "      <td>0</td>\n",
       "      <td>0</td>\n",
       "      <td>0</td>\n",
       "      <td>0</td>\n",
       "      <td>0</td>\n",
       "      <td>0</td>\n",
       "      <td>0</td>\n",
       "      <td>0</td>\n",
       "      <td>...</td>\n",
       "      <td>0</td>\n",
       "      <td>0</td>\n",
       "      <td>1</td>\n",
       "      <td>0</td>\n",
       "      <td>0</td>\n",
       "      <td>0</td>\n",
       "      <td>0</td>\n",
       "      <td>0</td>\n",
       "      <td>0</td>\n",
       "      <td>1</td>\n",
       "    </tr>\n",
       "    <tr>\n",
       "      <th>934</th>\n",
       "      <td>1.403256</td>\n",
       "      <td>8.161102</td>\n",
       "      <td>0</td>\n",
       "      <td>0</td>\n",
       "      <td>1</td>\n",
       "      <td>0</td>\n",
       "      <td>0</td>\n",
       "      <td>0</td>\n",
       "      <td>0</td>\n",
       "      <td>0</td>\n",
       "      <td>...</td>\n",
       "      <td>1</td>\n",
       "      <td>0</td>\n",
       "      <td>0</td>\n",
       "      <td>0</td>\n",
       "      <td>1</td>\n",
       "      <td>0</td>\n",
       "      <td>0</td>\n",
       "      <td>0</td>\n",
       "      <td>0</td>\n",
       "      <td>0</td>\n",
       "    </tr>\n",
       "    <tr>\n",
       "      <th>935</th>\n",
       "      <td>4.352031</td>\n",
       "      <td>9.199831</td>\n",
       "      <td>0</td>\n",
       "      <td>0</td>\n",
       "      <td>0</td>\n",
       "      <td>0</td>\n",
       "      <td>0</td>\n",
       "      <td>0</td>\n",
       "      <td>0</td>\n",
       "      <td>0</td>\n",
       "      <td>...</td>\n",
       "      <td>0</td>\n",
       "      <td>0</td>\n",
       "      <td>1</td>\n",
       "      <td>0</td>\n",
       "      <td>0</td>\n",
       "      <td>0</td>\n",
       "      <td>0</td>\n",
       "      <td>0</td>\n",
       "      <td>0</td>\n",
       "      <td>1</td>\n",
       "    </tr>\n",
       "    <tr>\n",
       "      <th>936</th>\n",
       "      <td>2.394255</td>\n",
       "      <td>12.941919</td>\n",
       "      <td>0</td>\n",
       "      <td>0</td>\n",
       "      <td>0</td>\n",
       "      <td>0</td>\n",
       "      <td>0</td>\n",
       "      <td>0</td>\n",
       "      <td>0</td>\n",
       "      <td>0</td>\n",
       "      <td>...</td>\n",
       "      <td>0</td>\n",
       "      <td>0</td>\n",
       "      <td>1</td>\n",
       "      <td>0</td>\n",
       "      <td>0</td>\n",
       "      <td>0</td>\n",
       "      <td>0</td>\n",
       "      <td>0</td>\n",
       "      <td>0</td>\n",
       "      <td>1</td>\n",
       "    </tr>\n",
       "  </tbody>\n",
       "</table>\n",
       "<p>937 rows × 74 columns</p>\n",
       "</div>"
      ],
      "text/plain": [
       "     distance      speed  Expediteur_0  Expediteur_1  Expediteur_2  \\\n",
       "0    8.066809  15.365350             0             0             0   \n",
       "1    5.580558  21.908405             0             0             0   \n",
       "2    2.828267   8.449593             0             0             0   \n",
       "3    9.121295  18.111783             0             0             0   \n",
       "4    1.048186   3.621372             0             0             0   \n",
       "..        ...        ...           ...           ...           ...   \n",
       "932  6.925606   2.221526             0             0             0   \n",
       "933  0.678589   1.166072             0             0             0   \n",
       "934  1.403256   8.161102             0             0             1   \n",
       "935  4.352031   9.199831             0             0             0   \n",
       "936  2.394255  12.941919             0             0             0   \n",
       "\n",
       "     Expediteur_3  Expediteur_4  Expediteur_5  Expediteur_6  Expediteur_7  \\\n",
       "0               0             0             0             0             0   \n",
       "1               0             0             0             0             0   \n",
       "2               0             0             0             0             0   \n",
       "3               0             0             0             0             1   \n",
       "4               0             0             0             0             1   \n",
       "..            ...           ...           ...           ...           ...   \n",
       "932             0             0             0             0             1   \n",
       "933             0             0             0             0             0   \n",
       "934             0             0             0             0             0   \n",
       "935             0             0             0             0             0   \n",
       "936             0             0             0             0             0   \n",
       "\n",
       "     ...  Item___Nom_sous_categorie_0  Item___Nom_sous_categorie_1  \\\n",
       "0    ...                            0                            0   \n",
       "1    ...                            0                            0   \n",
       "2    ...                            0                            0   \n",
       "3    ...                            0                            1   \n",
       "4    ...                            0                            1   \n",
       "..   ...                          ...                          ...   \n",
       "932  ...                            0                            1   \n",
       "933  ...                            0                            0   \n",
       "934  ...                            1                            0   \n",
       "935  ...                            0                            0   \n",
       "936  ...                            0                            0   \n",
       "\n",
       "     Item___Nom_sous_categorie_2  Item___Nom_sous_categorie_3  \\\n",
       "0                              1                            0   \n",
       "1                              1                            0   \n",
       "2                              1                            0   \n",
       "3                              0                            0   \n",
       "4                              0                            0   \n",
       "..                           ...                          ...   \n",
       "932                            0                            0   \n",
       "933                            1                            0   \n",
       "934                            0                            0   \n",
       "935                            1                            0   \n",
       "936                            1                            0   \n",
       "\n",
       "     Item___Type_unite_manutention_0  Item___Type_unite_manutention_1  \\\n",
       "0                                  0                                0   \n",
       "1                                  0                                0   \n",
       "2                                  0                                0   \n",
       "3                                  0                                1   \n",
       "4                                  0                                1   \n",
       "..                               ...                              ...   \n",
       "932                                0                                1   \n",
       "933                                0                                0   \n",
       "934                                1                                0   \n",
       "935                                0                                0   \n",
       "936                                0                                0   \n",
       "\n",
       "     Item___Type_unite_manutention_2  Item___Type_unite_manutention_3  \\\n",
       "0                                  0                                0   \n",
       "1                                  0                                0   \n",
       "2                                  0                                0   \n",
       "3                                  0                                0   \n",
       "4                                  0                                0   \n",
       "..                               ...                              ...   \n",
       "932                                0                                0   \n",
       "933                                0                                0   \n",
       "934                                0                                0   \n",
       "935                                0                                0   \n",
       "936                                0                                0   \n",
       "\n",
       "     Item___Type_unite_manutention_4  Item___Type_unite_manutention_5  \n",
       "0                                  0                                1  \n",
       "1                                  0                                1  \n",
       "2                                  0                                1  \n",
       "3                                  0                                0  \n",
       "4                                  0                                0  \n",
       "..                               ...                              ...  \n",
       "932                                0                                0  \n",
       "933                                0                                1  \n",
       "934                                0                                0  \n",
       "935                                0                                1  \n",
       "936                                0                                1  \n",
       "\n",
       "[937 rows x 74 columns]"
      ]
     },
     "execution_count": 227,
     "metadata": {},
     "output_type": "execute_result"
    }
   ],
   "source": [
    "Test = pd.read_csv( 'X.csv')\n",
    "Test"
   ]
  },
  {
   "cell_type": "code",
   "execution_count": 243,
   "metadata": {},
   "outputs": [],
   "source": [
    "from numpy import savetxt\n",
    "savetxt('X_train_fs.csv', X_train_fs, delimiter=',')"
   ]
  },
  {
   "cell_type": "code",
   "execution_count": 230,
   "metadata": {},
   "outputs": [
    {
     "name": "stdout",
     "output_type": "stream",
     "text": [
      "[[  1.           1.23475731   2.02327097 ...   0.           1.\n",
      "    0.        ]\n",
      " [  1.          12.497515    17.56091101 ...   0.           1.\n",
      "    0.        ]\n",
      " [  1.          21.41328341 134.29933848 ...   0.           1.\n",
      "    0.        ]\n",
      " ...\n",
      " [  1.          15.76529834  49.01129017 ...   0.           1.\n",
      "    0.        ]\n",
      " [  1.          26.7642637  102.7199886  ...   0.           0.\n",
      "    0.        ]\n",
      " [  1.           1.1159882    2.99147991 ...   0.           0.\n",
      "    0.        ]]\n"
     ]
    }
   ],
   "source": [
    "from numpy import loadtxt\n",
    "# load array\n",
    "d = loadtxt('X_train_fs.csv', delimiter=',')\n",
    "# print the array\n",
    "print(d)"
   ]
  },
  {
   "cell_type": "code",
   "execution_count": 257,
   "metadata": {},
   "outputs": [
    {
     "data": {
      "text/html": [
       "<div>\n",
       "<style scoped>\n",
       "    .dataframe tbody tr th:only-of-type {\n",
       "        vertical-align: middle;\n",
       "    }\n",
       "\n",
       "    .dataframe tbody tr th {\n",
       "        vertical-align: top;\n",
       "    }\n",
       "\n",
       "    .dataframe thead th {\n",
       "        text-align: right;\n",
       "    }\n",
       "</style>\n",
       "<table border=\"1\" class=\"dataframe\">\n",
       "  <thead>\n",
       "    <tr style=\"text-align: right;\">\n",
       "      <th></th>\n",
       "      <th>1.000000000000000000e+00</th>\n",
       "      <th>5.721033148822831649e+00</th>\n",
       "      <th>2.623658514109833462e+01</th>\n",
       "      <th>0.000000000000000000e+00</th>\n",
       "      <th>0.000000000000000000e+00.1</th>\n",
       "      <th>0.000000000000000000e+00.2</th>\n",
       "      <th>0.000000000000000000e+00.3</th>\n",
       "      <th>0.000000000000000000e+00.4</th>\n",
       "      <th>0.000000000000000000e+00.5</th>\n",
       "    </tr>\n",
       "  </thead>\n",
       "  <tbody>\n",
       "    <tr>\n",
       "      <th>0</th>\n",
       "      <td>1.0</td>\n",
       "      <td>2.978034</td>\n",
       "      <td>9.746292</td>\n",
       "      <td>0.0</td>\n",
       "      <td>0.0</td>\n",
       "      <td>0.0</td>\n",
       "      <td>0.0</td>\n",
       "      <td>0.0</td>\n",
       "      <td>0.0</td>\n",
       "    </tr>\n",
       "    <tr>\n",
       "      <th>1</th>\n",
       "      <td>1.0</td>\n",
       "      <td>3.330592</td>\n",
       "      <td>5.866014</td>\n",
       "      <td>0.0</td>\n",
       "      <td>0.0</td>\n",
       "      <td>1.0</td>\n",
       "      <td>0.0</td>\n",
       "      <td>0.0</td>\n",
       "      <td>0.0</td>\n",
       "    </tr>\n",
       "    <tr>\n",
       "      <th>2</th>\n",
       "      <td>1.0</td>\n",
       "      <td>7.092700</td>\n",
       "      <td>3.790635</td>\n",
       "      <td>0.0</td>\n",
       "      <td>1.0</td>\n",
       "      <td>0.0</td>\n",
       "      <td>0.0</td>\n",
       "      <td>0.0</td>\n",
       "      <td>0.0</td>\n",
       "    </tr>\n",
       "    <tr>\n",
       "      <th>3</th>\n",
       "      <td>1.0</td>\n",
       "      <td>0.176978</td>\n",
       "      <td>1.166890</td>\n",
       "      <td>0.0</td>\n",
       "      <td>0.0</td>\n",
       "      <td>0.0</td>\n",
       "      <td>0.0</td>\n",
       "      <td>0.0</td>\n",
       "      <td>0.0</td>\n",
       "    </tr>\n",
       "    <tr>\n",
       "      <th>4</th>\n",
       "      <td>1.0</td>\n",
       "      <td>6.229943</td>\n",
       "      <td>16.712217</td>\n",
       "      <td>0.0</td>\n",
       "      <td>0.0</td>\n",
       "      <td>0.0</td>\n",
       "      <td>1.0</td>\n",
       "      <td>0.0</td>\n",
       "      <td>0.0</td>\n",
       "    </tr>\n",
       "    <tr>\n",
       "      <th>...</th>\n",
       "      <td>...</td>\n",
       "      <td>...</td>\n",
       "      <td>...</td>\n",
       "      <td>...</td>\n",
       "      <td>...</td>\n",
       "      <td>...</td>\n",
       "      <td>...</td>\n",
       "      <td>...</td>\n",
       "      <td>...</td>\n",
       "    </tr>\n",
       "    <tr>\n",
       "      <th>182</th>\n",
       "      <td>1.0</td>\n",
       "      <td>0.925560</td>\n",
       "      <td>2.208095</td>\n",
       "      <td>0.0</td>\n",
       "      <td>0.0</td>\n",
       "      <td>0.0</td>\n",
       "      <td>0.0</td>\n",
       "      <td>0.0</td>\n",
       "      <td>0.0</td>\n",
       "    </tr>\n",
       "    <tr>\n",
       "      <th>183</th>\n",
       "      <td>1.0</td>\n",
       "      <td>0.200868</td>\n",
       "      <td>0.617527</td>\n",
       "      <td>0.0</td>\n",
       "      <td>0.0</td>\n",
       "      <td>0.0</td>\n",
       "      <td>0.0</td>\n",
       "      <td>1.0</td>\n",
       "      <td>0.0</td>\n",
       "    </tr>\n",
       "    <tr>\n",
       "      <th>184</th>\n",
       "      <td>1.0</td>\n",
       "      <td>7.031516</td>\n",
       "      <td>20.868472</td>\n",
       "      <td>0.0</td>\n",
       "      <td>0.0</td>\n",
       "      <td>0.0</td>\n",
       "      <td>0.0</td>\n",
       "      <td>0.0</td>\n",
       "      <td>0.0</td>\n",
       "    </tr>\n",
       "    <tr>\n",
       "      <th>185</th>\n",
       "      <td>1.0</td>\n",
       "      <td>2.350604</td>\n",
       "      <td>3.872848</td>\n",
       "      <td>0.0</td>\n",
       "      <td>0.0</td>\n",
       "      <td>0.0</td>\n",
       "      <td>0.0</td>\n",
       "      <td>0.0</td>\n",
       "      <td>0.0</td>\n",
       "    </tr>\n",
       "    <tr>\n",
       "      <th>186</th>\n",
       "      <td>1.0</td>\n",
       "      <td>0.838883</td>\n",
       "      <td>1.728666</td>\n",
       "      <td>0.0</td>\n",
       "      <td>0.0</td>\n",
       "      <td>0.0</td>\n",
       "      <td>0.0</td>\n",
       "      <td>1.0</td>\n",
       "      <td>0.0</td>\n",
       "    </tr>\n",
       "  </tbody>\n",
       "</table>\n",
       "<p>187 rows × 9 columns</p>\n",
       "</div>"
      ],
      "text/plain": [
       "     1.000000000000000000e+00  5.721033148822831649e+00  \\\n",
       "0                         1.0                  2.978034   \n",
       "1                         1.0                  3.330592   \n",
       "2                         1.0                  7.092700   \n",
       "3                         1.0                  0.176978   \n",
       "4                         1.0                  6.229943   \n",
       "..                        ...                       ...   \n",
       "182                       1.0                  0.925560   \n",
       "183                       1.0                  0.200868   \n",
       "184                       1.0                  7.031516   \n",
       "185                       1.0                  2.350604   \n",
       "186                       1.0                  0.838883   \n",
       "\n",
       "     2.623658514109833462e+01  0.000000000000000000e+00  \\\n",
       "0                    9.746292                       0.0   \n",
       "1                    5.866014                       0.0   \n",
       "2                    3.790635                       0.0   \n",
       "3                    1.166890                       0.0   \n",
       "4                   16.712217                       0.0   \n",
       "..                        ...                       ...   \n",
       "182                  2.208095                       0.0   \n",
       "183                  0.617527                       0.0   \n",
       "184                 20.868472                       0.0   \n",
       "185                  3.872848                       0.0   \n",
       "186                  1.728666                       0.0   \n",
       "\n",
       "     0.000000000000000000e+00.1  0.000000000000000000e+00.2  \\\n",
       "0                           0.0                         0.0   \n",
       "1                           0.0                         1.0   \n",
       "2                           1.0                         0.0   \n",
       "3                           0.0                         0.0   \n",
       "4                           0.0                         0.0   \n",
       "..                          ...                         ...   \n",
       "182                         0.0                         0.0   \n",
       "183                         0.0                         0.0   \n",
       "184                         0.0                         0.0   \n",
       "185                         0.0                         0.0   \n",
       "186                         0.0                         0.0   \n",
       "\n",
       "     0.000000000000000000e+00.3  0.000000000000000000e+00.4  \\\n",
       "0                           0.0                         0.0   \n",
       "1                           0.0                         0.0   \n",
       "2                           0.0                         0.0   \n",
       "3                           0.0                         0.0   \n",
       "4                           1.0                         0.0   \n",
       "..                          ...                         ...   \n",
       "182                         0.0                         0.0   \n",
       "183                         0.0                         1.0   \n",
       "184                         0.0                         0.0   \n",
       "185                         0.0                         0.0   \n",
       "186                         0.0                         1.0   \n",
       "\n",
       "     0.000000000000000000e+00.5  \n",
       "0                           0.0  \n",
       "1                           0.0  \n",
       "2                           0.0  \n",
       "3                           0.0  \n",
       "4                           0.0  \n",
       "..                          ...  \n",
       "182                         0.0  \n",
       "183                         0.0  \n",
       "184                         0.0  \n",
       "185                         0.0  \n",
       "186                         0.0  \n",
       "\n",
       "[187 rows x 9 columns]"
      ]
     },
     "execution_count": 257,
     "metadata": {},
     "output_type": "execute_result"
    }
   ],
   "source": [
    "Test = pd.read_csv( 'X_test_fs.csv')\n",
    "Test"
   ]
  },
  {
   "cell_type": "code",
   "execution_count": 254,
   "metadata": {},
   "outputs": [],
   "source": [
    "np.savetxt('X_test_fs.csv', X_test_fs, delimiter=',')"
   ]
  },
  {
   "cell_type": "code",
   "execution_count": 233,
   "metadata": {},
   "outputs": [],
   "source": [
    "savetxt('y_train_fs.csv', y_train_fs, delimiter=',')"
   ]
  },
  {
   "cell_type": "code",
   "execution_count": 234,
   "metadata": {},
   "outputs": [],
   "source": [
    "savetxt('y_test_fs.csv', y_test_fs, delimiter=',')"
   ]
  },
  {
   "cell_type": "code",
   "execution_count": 246,
   "metadata": {},
   "outputs": [
    {
     "data": {
      "text/plain": [
       "array([[  1.        ,   1.23475731,   2.02327097, ...,   0.        ,\n",
       "          1.        ,   0.        ],\n",
       "       [  1.        ,  12.497515  ,  17.56091101, ...,   0.        ,\n",
       "          1.        ,   0.        ],\n",
       "       [  1.        ,  21.41328341, 134.29933848, ...,   0.        ,\n",
       "          1.        ,   0.        ],\n",
       "       ...,\n",
       "       [  1.        ,  15.76529834,  49.01129017, ...,   0.        ,\n",
       "          1.        ,   0.        ],\n",
       "       [  1.        ,  26.7642637 , 102.7199886 , ...,   0.        ,\n",
       "          0.        ,   0.        ],\n",
       "       [  1.        ,   1.1159882 ,   2.99147991, ...,   0.        ,\n",
       "          0.        ,   0.        ]])"
      ]
     },
     "execution_count": 246,
     "metadata": {},
     "output_type": "execute_result"
    }
   ],
   "source": [
    "X_train_fs"
   ]
  },
  {
   "cell_type": "code",
   "execution_count": 251,
   "metadata": {},
   "outputs": [],
   "source": [
    "df = pd.DataFrame(X_train_fs, \n",
    "             columns=['0','1','2','3','4', '5',\n",
    "          '6','7','8'])"
   ]
  },
  {
   "cell_type": "code",
   "execution_count": 253,
   "metadata": {},
   "outputs": [
    {
     "data": {
      "text/plain": [
       "array([[  1.        ,   1.23475731,   2.02327097, ...,   0.        ,\n",
       "          1.        ,   0.        ],\n",
       "       [  1.        ,  12.497515  ,  17.56091101, ...,   0.        ,\n",
       "          1.        ,   0.        ],\n",
       "       [  1.        ,  21.41328341, 134.29933848, ...,   0.        ,\n",
       "          1.        ,   0.        ],\n",
       "       ...,\n",
       "       [  1.        ,  15.76529834,  49.01129017, ...,   0.        ,\n",
       "          1.        ,   0.        ],\n",
       "       [  1.        ,  26.7642637 , 102.7199886 , ...,   0.        ,\n",
       "          0.        ,   0.        ],\n",
       "       [  1.        ,   1.1159882 ,   2.99147991, ...,   0.        ,\n",
       "          0.        ,   0.        ]])"
      ]
     },
     "execution_count": 253,
     "metadata": {},
     "output_type": "execute_result"
    }
   ],
   "source": [
    "df.values"
   ]
  },
  {
   "cell_type": "code",
   "execution_count": 259,
   "metadata": {},
   "outputs": [],
   "source": [
    "import plotly.io as pio\n",
    "pio.renderers.default='notebook'"
   ]
  },
  {
   "cell_type": "code",
   "execution_count": 1,
   "metadata": {},
   "outputs": [],
   "source": [
    "import pickle"
   ]
  },
  {
   "cell_type": "code",
   "execution_count": 189,
   "metadata": {},
   "outputs": [],
   "source": [
    "data.to_csv( 'data1.csv' , index = False )"
   ]
  },
  {
   "cell_type": "code",
   "execution_count": 14,
   "metadata": {},
   "outputs": [
    {
     "data": {
      "text/plain": [
       "{'status': 'ok', 'restart': True}"
      ]
     },
     "execution_count": 14,
     "metadata": {},
     "output_type": "execute_result"
    }
   ],
   "source": [
    "import IPython\n",
    "app = IPython.Application.instance()\n",
    "app.kernel.do_shutdown(True) "
   ]
  },
  {
   "cell_type": "code",
   "execution_count": 1,
   "metadata": {},
   "outputs": [],
   "source": [
    "import shap "
   ]
  },
  {
   "cell_type": "code",
   "execution_count": 190,
   "metadata": {},
   "outputs": [
    {
     "data": {
      "text/html": [
       "<div>\n",
       "<style scoped>\n",
       "    .dataframe tbody tr th:only-of-type {\n",
       "        vertical-align: middle;\n",
       "    }\n",
       "\n",
       "    .dataframe tbody tr th {\n",
       "        vertical-align: top;\n",
       "    }\n",
       "\n",
       "    .dataframe thead th {\n",
       "        text-align: right;\n",
       "    }\n",
       "</style>\n",
       "<table border=\"1\" class=\"dataframe\">\n",
       "  <thead>\n",
       "    <tr style=\"text-align: right;\">\n",
       "      <th></th>\n",
       "      <th>Round_Name</th>\n",
       "      <th>realInfoHasPrepared</th>\n",
       "      <th>Expediteur</th>\n",
       "      <th>Type_de_Service</th>\n",
       "      <th>sourceClosureDate</th>\n",
       "      <th>TaskDurationSec</th>\n",
       "      <th>Item___Nom_sous_categorie</th>\n",
       "      <th>Item___Type_unite_manutention</th>\n",
       "      <th>sourceZone</th>\n",
       "      <th>status</th>\n",
       "      <th>metadataFACTURATION</th>\n",
       "      <th>TourneeId</th>\n",
       "      <th>distance</th>\n",
       "      <th>speed</th>\n",
       "    </tr>\n",
       "  </thead>\n",
       "  <tbody>\n",
       "    <tr>\n",
       "      <th>0</th>\n",
       "      <td>AM ERIK1</td>\n",
       "      <td>2021-01-16 04:04:49.214000+00:00</td>\n",
       "      <td>C328</td>\n",
       "      <td>ENLEVEMENT</td>\n",
       "      <td>2021-01-16 05:55:45.720000+00:00</td>\n",
       "      <td>6656</td>\n",
       "      <td>FRAIS</td>\n",
       "      <td>HEURE</td>\n",
       "      <td>Zone 1</td>\n",
       "      <td>PICKED_UP</td>\n",
       "      <td>OUI</td>\n",
       "      <td>6001a1a294995c11b99eaf0a</td>\n",
       "      <td>1.445453</td>\n",
       "      <td>0.781796</td>\n",
       "    </tr>\n",
       "    <tr>\n",
       "      <th>1</th>\n",
       "      <td>AM ERIK1</td>\n",
       "      <td>2021-01-16 04:04:49.214000+00:00</td>\n",
       "      <td>C328</td>\n",
       "      <td>ENLEVEMENT</td>\n",
       "      <td>2021-01-16 06:07:37.994000+00:00</td>\n",
       "      <td>712</td>\n",
       "      <td>FRAIS</td>\n",
       "      <td>HEURE</td>\n",
       "      <td>Zone 17</td>\n",
       "      <td>PICKED_UP</td>\n",
       "      <td>OUI</td>\n",
       "      <td>6001a1a294995c11b99eaf0a</td>\n",
       "      <td>25.330066</td>\n",
       "      <td>128.073368</td>\n",
       "    </tr>\n",
       "    <tr>\n",
       "      <th>2</th>\n",
       "      <td>AM ERIK1</td>\n",
       "      <td>2021-01-16 04:04:49.214000+00:00</td>\n",
       "      <td>C328</td>\n",
       "      <td>LIVRAISON</td>\n",
       "      <td>2021-01-16 06:47:03.401000+00:00</td>\n",
       "      <td>2366</td>\n",
       "      <td>FRAIS</td>\n",
       "      <td>HEURE</td>\n",
       "      <td>Zone 4</td>\n",
       "      <td>DELIVERED</td>\n",
       "      <td>OUI</td>\n",
       "      <td>6001a1a294995c11b99eaf0a</td>\n",
       "      <td>10.973790</td>\n",
       "      <td>16.697229</td>\n",
       "    </tr>\n",
       "    <tr>\n",
       "      <th>3</th>\n",
       "      <td>AM ERIK1</td>\n",
       "      <td>2021-01-16 04:04:49.214000+00:00</td>\n",
       "      <td>C263</td>\n",
       "      <td>LIVRAISON</td>\n",
       "      <td>2021-01-16 08:06:48.540000+00:00</td>\n",
       "      <td>4785</td>\n",
       "      <td>FRAIS</td>\n",
       "      <td>POINT</td>\n",
       "      <td>Zone 3</td>\n",
       "      <td>DELIVERED</td>\n",
       "      <td>OUI</td>\n",
       "      <td>6001a1a294995c11b99eaf0a</td>\n",
       "      <td>1.687234</td>\n",
       "      <td>1.269392</td>\n",
       "    </tr>\n",
       "    <tr>\n",
       "      <th>4</th>\n",
       "      <td>AM ERIK1</td>\n",
       "      <td>2021-01-16 04:04:49.214000+00:00</td>\n",
       "      <td>C263</td>\n",
       "      <td>LIVRAISON</td>\n",
       "      <td>2021-01-16 08:25:30.332000+00:00</td>\n",
       "      <td>1122</td>\n",
       "      <td>FRAIS</td>\n",
       "      <td>POINT</td>\n",
       "      <td>Zone 3</td>\n",
       "      <td>DELIVERED</td>\n",
       "      <td>OUI</td>\n",
       "      <td>6001a1a294995c11b99eaf0a</td>\n",
       "      <td>4.807538</td>\n",
       "      <td>15.425255</td>\n",
       "    </tr>\n",
       "    <tr>\n",
       "      <th>...</th>\n",
       "      <td>...</td>\n",
       "      <td>...</td>\n",
       "      <td>...</td>\n",
       "      <td>...</td>\n",
       "      <td>...</td>\n",
       "      <td>...</td>\n",
       "      <td>...</td>\n",
       "      <td>...</td>\n",
       "      <td>...</td>\n",
       "      <td>...</td>\n",
       "      <td>...</td>\n",
       "      <td>...</td>\n",
       "      <td>...</td>\n",
       "      <td>...</td>\n",
       "    </tr>\n",
       "    <tr>\n",
       "      <th>21531</th>\n",
       "      <td>YAC2</td>\n",
       "      <td>2021-01-10 03:44:50.124000+00:00</td>\n",
       "      <td>C327</td>\n",
       "      <td>ENLEVEMENT</td>\n",
       "      <td>2021-01-10 05:18:41.278000+00:00</td>\n",
       "      <td>5631</td>\n",
       "      <td>FRAIS</td>\n",
       "      <td>HEURE</td>\n",
       "      <td>Zone 1</td>\n",
       "      <td>PICKED_UP</td>\n",
       "      <td>OUI</td>\n",
       "      <td>5fe9f65172467f1168381bb5</td>\n",
       "      <td>11.385160</td>\n",
       "      <td>7.278739</td>\n",
       "    </tr>\n",
       "    <tr>\n",
       "      <th>21532</th>\n",
       "      <td>YAC2</td>\n",
       "      <td>2021-01-10 03:44:50.124000+00:00</td>\n",
       "      <td>C327</td>\n",
       "      <td>LIVRAISON</td>\n",
       "      <td>2021-01-10 07:15:51.371000+00:00</td>\n",
       "      <td>7030</td>\n",
       "      <td>FRAIS</td>\n",
       "      <td>HEURE</td>\n",
       "      <td>Zone 9</td>\n",
       "      <td>DELIVERED</td>\n",
       "      <td>OUI</td>\n",
       "      <td>5fe9f65172467f1168381bb5</td>\n",
       "      <td>11.385160</td>\n",
       "      <td>5.830239</td>\n",
       "    </tr>\n",
       "    <tr>\n",
       "      <th>21533</th>\n",
       "      <td>YAC2</td>\n",
       "      <td>2021-01-03 03:37:59.397000+00:00</td>\n",
       "      <td>C327</td>\n",
       "      <td>ENLEVEMENT</td>\n",
       "      <td>2021-01-03 05:30:10.961000+00:00</td>\n",
       "      <td>6731</td>\n",
       "      <td>FRAIS</td>\n",
       "      <td>HEURE</td>\n",
       "      <td>Zone 1</td>\n",
       "      <td>PICKED_UP</td>\n",
       "      <td>OUI</td>\n",
       "      <td>5fed897f516dac50e746adeb</td>\n",
       "      <td>7.320744</td>\n",
       "      <td>3.915418</td>\n",
       "    </tr>\n",
       "    <tr>\n",
       "      <th>21534</th>\n",
       "      <td>YAC2</td>\n",
       "      <td>2021-01-03 03:37:59.397000+00:00</td>\n",
       "      <td>C327</td>\n",
       "      <td>LIVRAISON</td>\n",
       "      <td>2021-01-03 06:15:20.016000+00:00</td>\n",
       "      <td>2710</td>\n",
       "      <td>FRAIS</td>\n",
       "      <td>HEURE</td>\n",
       "      <td>Zone 14</td>\n",
       "      <td>DELIVERED</td>\n",
       "      <td>OUI</td>\n",
       "      <td>5fed897f516dac50e746adeb</td>\n",
       "      <td>1.653221</td>\n",
       "      <td>2.196160</td>\n",
       "    </tr>\n",
       "    <tr>\n",
       "      <th>21535</th>\n",
       "      <td>YAC2</td>\n",
       "      <td>2021-01-03 03:37:59.397000+00:00</td>\n",
       "      <td>C327</td>\n",
       "      <td>LIVRAISON</td>\n",
       "      <td>2021-01-03 07:17:20.275000+00:00</td>\n",
       "      <td>3720</td>\n",
       "      <td>FRAIS</td>\n",
       "      <td>HEURE</td>\n",
       "      <td>Zone 13</td>\n",
       "      <td>DELIVERED</td>\n",
       "      <td>OUI</td>\n",
       "      <td>5fed897f516dac50e746adeb</td>\n",
       "      <td>6.978562</td>\n",
       "      <td>6.753447</td>\n",
       "    </tr>\n",
       "  </tbody>\n",
       "</table>\n",
       "<p>21536 rows × 14 columns</p>\n",
       "</div>"
      ],
      "text/plain": [
       "      Round_Name               realInfoHasPrepared Expediteur Type_de_Service  \\\n",
       "0       AM ERIK1  2021-01-16 04:04:49.214000+00:00       C328      ENLEVEMENT   \n",
       "1       AM ERIK1  2021-01-16 04:04:49.214000+00:00       C328      ENLEVEMENT   \n",
       "2       AM ERIK1  2021-01-16 04:04:49.214000+00:00       C328       LIVRAISON   \n",
       "3       AM ERIK1  2021-01-16 04:04:49.214000+00:00       C263       LIVRAISON   \n",
       "4       AM ERIK1  2021-01-16 04:04:49.214000+00:00       C263       LIVRAISON   \n",
       "...          ...                               ...        ...             ...   \n",
       "21531       YAC2  2021-01-10 03:44:50.124000+00:00       C327      ENLEVEMENT   \n",
       "21532       YAC2  2021-01-10 03:44:50.124000+00:00       C327       LIVRAISON   \n",
       "21533       YAC2  2021-01-03 03:37:59.397000+00:00       C327      ENLEVEMENT   \n",
       "21534       YAC2  2021-01-03 03:37:59.397000+00:00       C327       LIVRAISON   \n",
       "21535       YAC2  2021-01-03 03:37:59.397000+00:00       C327       LIVRAISON   \n",
       "\n",
       "                      sourceClosureDate  TaskDurationSec  \\\n",
       "0      2021-01-16 05:55:45.720000+00:00             6656   \n",
       "1      2021-01-16 06:07:37.994000+00:00              712   \n",
       "2      2021-01-16 06:47:03.401000+00:00             2366   \n",
       "3      2021-01-16 08:06:48.540000+00:00             4785   \n",
       "4      2021-01-16 08:25:30.332000+00:00             1122   \n",
       "...                                 ...              ...   \n",
       "21531  2021-01-10 05:18:41.278000+00:00             5631   \n",
       "21532  2021-01-10 07:15:51.371000+00:00             7030   \n",
       "21533  2021-01-03 05:30:10.961000+00:00             6731   \n",
       "21534  2021-01-03 06:15:20.016000+00:00             2710   \n",
       "21535  2021-01-03 07:17:20.275000+00:00             3720   \n",
       "\n",
       "      Item___Nom_sous_categorie Item___Type_unite_manutention sourceZone  \\\n",
       "0                         FRAIS                         HEURE     Zone 1   \n",
       "1                         FRAIS                         HEURE    Zone 17   \n",
       "2                         FRAIS                         HEURE     Zone 4   \n",
       "3                         FRAIS                         POINT     Zone 3   \n",
       "4                         FRAIS                         POINT     Zone 3   \n",
       "...                         ...                           ...        ...   \n",
       "21531                     FRAIS                         HEURE     Zone 1   \n",
       "21532                     FRAIS                         HEURE     Zone 9   \n",
       "21533                     FRAIS                         HEURE     Zone 1   \n",
       "21534                     FRAIS                         HEURE    Zone 14   \n",
       "21535                     FRAIS                         HEURE    Zone 13   \n",
       "\n",
       "          status metadataFACTURATION                 TourneeId   distance  \\\n",
       "0      PICKED_UP                 OUI  6001a1a294995c11b99eaf0a   1.445453   \n",
       "1      PICKED_UP                 OUI  6001a1a294995c11b99eaf0a  25.330066   \n",
       "2      DELIVERED                 OUI  6001a1a294995c11b99eaf0a  10.973790   \n",
       "3      DELIVERED                 OUI  6001a1a294995c11b99eaf0a   1.687234   \n",
       "4      DELIVERED                 OUI  6001a1a294995c11b99eaf0a   4.807538   \n",
       "...          ...                 ...                       ...        ...   \n",
       "21531  PICKED_UP                 OUI  5fe9f65172467f1168381bb5  11.385160   \n",
       "21532  DELIVERED                 OUI  5fe9f65172467f1168381bb5  11.385160   \n",
       "21533  PICKED_UP                 OUI  5fed897f516dac50e746adeb   7.320744   \n",
       "21534  DELIVERED                 OUI  5fed897f516dac50e746adeb   1.653221   \n",
       "21535  DELIVERED                 OUI  5fed897f516dac50e746adeb   6.978562   \n",
       "\n",
       "            speed  \n",
       "0        0.781796  \n",
       "1      128.073368  \n",
       "2       16.697229  \n",
       "3        1.269392  \n",
       "4       15.425255  \n",
       "...           ...  \n",
       "21531    7.278739  \n",
       "21532    5.830239  \n",
       "21533    3.915418  \n",
       "21534    2.196160  \n",
       "21535    6.753447  \n",
       "\n",
       "[21536 rows x 14 columns]"
      ]
     },
     "execution_count": 190,
     "metadata": {},
     "output_type": "execute_result"
    }
   ],
   "source": [
    "pd.read_csv(\"data1.csv\")"
   ]
  },
  {
   "cell_type": "code",
   "execution_count": null,
   "metadata": {},
   "outputs": [],
   "source": []
  }
 ],
 "metadata": {
  "kernelspec": {
   "display_name": "Python 3",
   "language": "python",
   "name": "python3"
  },
  "language_info": {
   "codemirror_mode": {
    "name": "ipython",
    "version": 3
   },
   "file_extension": ".py",
   "mimetype": "text/x-python",
   "name": "python",
   "nbconvert_exporter": "python",
   "pygments_lexer": "ipython3",
   "version": "3.8.8"
  }
 },
 "nbformat": 4,
 "nbformat_minor": 4
}
